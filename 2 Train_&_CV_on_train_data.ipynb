{
  "nbformat": 4,
  "nbformat_minor": 0,
  "metadata": {
    "colab": {
      "name": "Train & CV on train data.ipynb",
      "provenance": [],
      "collapsed_sections": []
    },
    "kernelspec": {
      "name": "python3",
      "display_name": "Python 3"
    },
    "accelerator": "GPU"
  },
  "cells": [
    {
      "cell_type": "code",
      "metadata": {
        "id": "AUvGwhP1DSSC",
        "colab_type": "code",
        "colab": {
          "base_uri": "https://localhost:8080/",
          "height": 70
        },
        "outputId": "ebd2b524-8f13-40dd-fa79-0c96a9f0cc2b"
      },
      "source": [
        "import numpy as np\n",
        "np.random.seed(123)\n",
        "import pandas as pd\n",
        "import pandas.testing as tm\n",
        "import pandas.util.testing as tm\n",
        "import seaborn as sns \n",
        "import warnings\n",
        "warnings.filterwarnings(\"ignore\")\n",
        "from tqdm import tqdm_notebook\n",
        "from statsmodels.stats.outliers_influence import variance_inflation_factor\n",
        "from sklearn.model_selection import train_test_split\n",
        "from sklearn.decomposition import TruncatedSVD\n",
        "from sklearn.decomposition import PCA\n",
        "from sklearn.decomposition import FastICA\n",
        "from sklearn.ensemble import RandomForestRegressor\n",
        "from sklearn.model_selection import RandomizedSearchCV\n",
        "import matplotlib.pyplot as plt\n",
        "from sklearn.metrics import r2_score\n",
        "import xgboost as xgb\n",
        "from sklearn.tree import DecisionTreeRegressor\n",
        "from sklearn.linear_model import LinearRegression\n",
        "import statsmodels.api as sm\n",
        "from sklearn.model_selection import cross_val_score\n",
        "from sklearn.model_selection import GridSearchCV\n",
        "from sklearn.linear_model import Ridge\n",
        "from sklearn.linear_model import Lasso\n",
        "from sklearn import linear_model\n",
        "from sklearn import metrics\n",
        "from sklearn.svm import SVR\n",
        "import json\n",
        "from tqdm import tqdm_notebook"
      ],
      "execution_count": null,
      "outputs": [
        {
          "output_type": "stream",
          "text": [
            "/usr/local/lib/python3.6/dist-packages/ipykernel_launcher.py:5: FutureWarning: pandas.util.testing is deprecated. Use the functions in the public API at pandas.testing instead.\n",
            "  \"\"\"\n"
          ],
          "name": "stderr"
        }
      ]
    },
    {
      "cell_type": "markdown",
      "metadata": {
        "id": "zB1hPmUiouEn",
        "colab_type": "text"
      },
      "source": [
        "* Loading the DataSets"
      ]
    },
    {
      "cell_type": "code",
      "metadata": {
        "id": "-U17wHsp9Pd8",
        "colab_type": "code",
        "colab": {}
      },
      "source": [
        "# loading the train and test dataset\n",
        "df_1=pd.read_csv('/content/drive/My Drive/Colab Notebooks/22 Case Study 1/mercedes-benz-greener-manufacturing/train.csv/train.csv')"
      ],
      "execution_count": null,
      "outputs": []
    },
    {
      "cell_type": "code",
      "metadata": {
        "id": "goSukw8uUaLv",
        "colab_type": "code",
        "colab": {
          "base_uri": "https://localhost:8080/",
          "height": 244
        },
        "outputId": "52e95bc8-8668-4e98-f086-531d3da05310"
      },
      "source": [
        "# converting categorical features to numerical features\n",
        "x_dummies=pd.get_dummies(df_1, prefix_sep='_', drop_first=True)\n",
        "x_dummies.head()\n",
        "#https://pandas.pydata.org/pandas-docs/version/0.21.1/generated/pandas.get_dummies.html\n",
        "#https://towardsdatascience.com/encoding-categorical-features-21a2651a065c"
      ],
      "execution_count": null,
      "outputs": [
        {
          "output_type": "execute_result",
          "data": {
            "text/html": [
              "<div>\n",
              "<style scoped>\n",
              "    .dataframe tbody tr th:only-of-type {\n",
              "        vertical-align: middle;\n",
              "    }\n",
              "\n",
              "    .dataframe tbody tr th {\n",
              "        vertical-align: top;\n",
              "    }\n",
              "\n",
              "    .dataframe thead th {\n",
              "        text-align: right;\n",
              "    }\n",
              "</style>\n",
              "<table border=\"1\" class=\"dataframe\">\n",
              "  <thead>\n",
              "    <tr style=\"text-align: right;\">\n",
              "      <th></th>\n",
              "      <th>ID</th>\n",
              "      <th>y</th>\n",
              "      <th>X10</th>\n",
              "      <th>X11</th>\n",
              "      <th>X12</th>\n",
              "      <th>X13</th>\n",
              "      <th>X14</th>\n",
              "      <th>X15</th>\n",
              "      <th>X16</th>\n",
              "      <th>X17</th>\n",
              "      <th>X18</th>\n",
              "      <th>X19</th>\n",
              "      <th>X20</th>\n",
              "      <th>X21</th>\n",
              "      <th>X22</th>\n",
              "      <th>X23</th>\n",
              "      <th>X24</th>\n",
              "      <th>X26</th>\n",
              "      <th>X27</th>\n",
              "      <th>X28</th>\n",
              "      <th>X29</th>\n",
              "      <th>X30</th>\n",
              "      <th>X31</th>\n",
              "      <th>X32</th>\n",
              "      <th>X33</th>\n",
              "      <th>X34</th>\n",
              "      <th>X35</th>\n",
              "      <th>X36</th>\n",
              "      <th>X37</th>\n",
              "      <th>X38</th>\n",
              "      <th>X39</th>\n",
              "      <th>X40</th>\n",
              "      <th>X41</th>\n",
              "      <th>X42</th>\n",
              "      <th>X43</th>\n",
              "      <th>X44</th>\n",
              "      <th>X45</th>\n",
              "      <th>X46</th>\n",
              "      <th>X47</th>\n",
              "      <th>X48</th>\n",
              "      <th>...</th>\n",
              "      <th>X5_u</th>\n",
              "      <th>X5_v</th>\n",
              "      <th>X5_w</th>\n",
              "      <th>X5_x</th>\n",
              "      <th>X5_y</th>\n",
              "      <th>X6_b</th>\n",
              "      <th>X6_c</th>\n",
              "      <th>X6_d</th>\n",
              "      <th>X6_e</th>\n",
              "      <th>X6_f</th>\n",
              "      <th>X6_g</th>\n",
              "      <th>X6_h</th>\n",
              "      <th>X6_i</th>\n",
              "      <th>X6_j</th>\n",
              "      <th>X6_k</th>\n",
              "      <th>X6_l</th>\n",
              "      <th>X8_b</th>\n",
              "      <th>X8_c</th>\n",
              "      <th>X8_d</th>\n",
              "      <th>X8_e</th>\n",
              "      <th>X8_f</th>\n",
              "      <th>X8_g</th>\n",
              "      <th>X8_h</th>\n",
              "      <th>X8_i</th>\n",
              "      <th>X8_j</th>\n",
              "      <th>X8_k</th>\n",
              "      <th>X8_l</th>\n",
              "      <th>X8_m</th>\n",
              "      <th>X8_n</th>\n",
              "      <th>X8_o</th>\n",
              "      <th>X8_p</th>\n",
              "      <th>X8_q</th>\n",
              "      <th>X8_r</th>\n",
              "      <th>X8_s</th>\n",
              "      <th>X8_t</th>\n",
              "      <th>X8_u</th>\n",
              "      <th>X8_v</th>\n",
              "      <th>X8_w</th>\n",
              "      <th>X8_x</th>\n",
              "      <th>X8_y</th>\n",
              "    </tr>\n",
              "  </thead>\n",
              "  <tbody>\n",
              "    <tr>\n",
              "      <th>0</th>\n",
              "      <td>0</td>\n",
              "      <td>130.81</td>\n",
              "      <td>0</td>\n",
              "      <td>0</td>\n",
              "      <td>0</td>\n",
              "      <td>1</td>\n",
              "      <td>0</td>\n",
              "      <td>0</td>\n",
              "      <td>0</td>\n",
              "      <td>0</td>\n",
              "      <td>1</td>\n",
              "      <td>0</td>\n",
              "      <td>0</td>\n",
              "      <td>1</td>\n",
              "      <td>0</td>\n",
              "      <td>0</td>\n",
              "      <td>0</td>\n",
              "      <td>0</td>\n",
              "      <td>0</td>\n",
              "      <td>0</td>\n",
              "      <td>0</td>\n",
              "      <td>0</td>\n",
              "      <td>1</td>\n",
              "      <td>0</td>\n",
              "      <td>0</td>\n",
              "      <td>0</td>\n",
              "      <td>1</td>\n",
              "      <td>0</td>\n",
              "      <td>1</td>\n",
              "      <td>0</td>\n",
              "      <td>0</td>\n",
              "      <td>0</td>\n",
              "      <td>0</td>\n",
              "      <td>0</td>\n",
              "      <td>0</td>\n",
              "      <td>0</td>\n",
              "      <td>0</td>\n",
              "      <td>1</td>\n",
              "      <td>0</td>\n",
              "      <td>0</td>\n",
              "      <td>...</td>\n",
              "      <td>1</td>\n",
              "      <td>0</td>\n",
              "      <td>0</td>\n",
              "      <td>0</td>\n",
              "      <td>0</td>\n",
              "      <td>0</td>\n",
              "      <td>0</td>\n",
              "      <td>0</td>\n",
              "      <td>0</td>\n",
              "      <td>0</td>\n",
              "      <td>0</td>\n",
              "      <td>0</td>\n",
              "      <td>0</td>\n",
              "      <td>1</td>\n",
              "      <td>0</td>\n",
              "      <td>0</td>\n",
              "      <td>0</td>\n",
              "      <td>0</td>\n",
              "      <td>0</td>\n",
              "      <td>0</td>\n",
              "      <td>0</td>\n",
              "      <td>0</td>\n",
              "      <td>0</td>\n",
              "      <td>0</td>\n",
              "      <td>0</td>\n",
              "      <td>0</td>\n",
              "      <td>0</td>\n",
              "      <td>0</td>\n",
              "      <td>0</td>\n",
              "      <td>1</td>\n",
              "      <td>0</td>\n",
              "      <td>0</td>\n",
              "      <td>0</td>\n",
              "      <td>0</td>\n",
              "      <td>0</td>\n",
              "      <td>0</td>\n",
              "      <td>0</td>\n",
              "      <td>0</td>\n",
              "      <td>0</td>\n",
              "      <td>0</td>\n",
              "    </tr>\n",
              "    <tr>\n",
              "      <th>1</th>\n",
              "      <td>6</td>\n",
              "      <td>88.53</td>\n",
              "      <td>0</td>\n",
              "      <td>0</td>\n",
              "      <td>0</td>\n",
              "      <td>0</td>\n",
              "      <td>0</td>\n",
              "      <td>0</td>\n",
              "      <td>0</td>\n",
              "      <td>0</td>\n",
              "      <td>1</td>\n",
              "      <td>0</td>\n",
              "      <td>0</td>\n",
              "      <td>0</td>\n",
              "      <td>0</td>\n",
              "      <td>0</td>\n",
              "      <td>0</td>\n",
              "      <td>0</td>\n",
              "      <td>1</td>\n",
              "      <td>0</td>\n",
              "      <td>0</td>\n",
              "      <td>0</td>\n",
              "      <td>1</td>\n",
              "      <td>0</td>\n",
              "      <td>0</td>\n",
              "      <td>0</td>\n",
              "      <td>1</td>\n",
              "      <td>0</td>\n",
              "      <td>1</td>\n",
              "      <td>0</td>\n",
              "      <td>0</td>\n",
              "      <td>0</td>\n",
              "      <td>0</td>\n",
              "      <td>0</td>\n",
              "      <td>0</td>\n",
              "      <td>0</td>\n",
              "      <td>0</td>\n",
              "      <td>0</td>\n",
              "      <td>0</td>\n",
              "      <td>0</td>\n",
              "      <td>...</td>\n",
              "      <td>0</td>\n",
              "      <td>0</td>\n",
              "      <td>0</td>\n",
              "      <td>0</td>\n",
              "      <td>1</td>\n",
              "      <td>0</td>\n",
              "      <td>0</td>\n",
              "      <td>0</td>\n",
              "      <td>0</td>\n",
              "      <td>0</td>\n",
              "      <td>0</td>\n",
              "      <td>0</td>\n",
              "      <td>0</td>\n",
              "      <td>0</td>\n",
              "      <td>0</td>\n",
              "      <td>1</td>\n",
              "      <td>0</td>\n",
              "      <td>0</td>\n",
              "      <td>0</td>\n",
              "      <td>0</td>\n",
              "      <td>0</td>\n",
              "      <td>0</td>\n",
              "      <td>0</td>\n",
              "      <td>0</td>\n",
              "      <td>0</td>\n",
              "      <td>0</td>\n",
              "      <td>0</td>\n",
              "      <td>0</td>\n",
              "      <td>0</td>\n",
              "      <td>1</td>\n",
              "      <td>0</td>\n",
              "      <td>0</td>\n",
              "      <td>0</td>\n",
              "      <td>0</td>\n",
              "      <td>0</td>\n",
              "      <td>0</td>\n",
              "      <td>0</td>\n",
              "      <td>0</td>\n",
              "      <td>0</td>\n",
              "      <td>0</td>\n",
              "    </tr>\n",
              "    <tr>\n",
              "      <th>2</th>\n",
              "      <td>7</td>\n",
              "      <td>76.26</td>\n",
              "      <td>0</td>\n",
              "      <td>0</td>\n",
              "      <td>0</td>\n",
              "      <td>0</td>\n",
              "      <td>0</td>\n",
              "      <td>0</td>\n",
              "      <td>0</td>\n",
              "      <td>1</td>\n",
              "      <td>0</td>\n",
              "      <td>0</td>\n",
              "      <td>0</td>\n",
              "      <td>0</td>\n",
              "      <td>0</td>\n",
              "      <td>0</td>\n",
              "      <td>0</td>\n",
              "      <td>0</td>\n",
              "      <td>1</td>\n",
              "      <td>1</td>\n",
              "      <td>1</td>\n",
              "      <td>0</td>\n",
              "      <td>1</td>\n",
              "      <td>0</td>\n",
              "      <td>0</td>\n",
              "      <td>0</td>\n",
              "      <td>1</td>\n",
              "      <td>0</td>\n",
              "      <td>1</td>\n",
              "      <td>0</td>\n",
              "      <td>0</td>\n",
              "      <td>0</td>\n",
              "      <td>0</td>\n",
              "      <td>0</td>\n",
              "      <td>1</td>\n",
              "      <td>0</td>\n",
              "      <td>0</td>\n",
              "      <td>1</td>\n",
              "      <td>0</td>\n",
              "      <td>0</td>\n",
              "      <td>...</td>\n",
              "      <td>0</td>\n",
              "      <td>0</td>\n",
              "      <td>0</td>\n",
              "      <td>1</td>\n",
              "      <td>0</td>\n",
              "      <td>0</td>\n",
              "      <td>0</td>\n",
              "      <td>0</td>\n",
              "      <td>0</td>\n",
              "      <td>0</td>\n",
              "      <td>0</td>\n",
              "      <td>0</td>\n",
              "      <td>0</td>\n",
              "      <td>1</td>\n",
              "      <td>0</td>\n",
              "      <td>0</td>\n",
              "      <td>0</td>\n",
              "      <td>0</td>\n",
              "      <td>0</td>\n",
              "      <td>0</td>\n",
              "      <td>0</td>\n",
              "      <td>0</td>\n",
              "      <td>0</td>\n",
              "      <td>0</td>\n",
              "      <td>0</td>\n",
              "      <td>0</td>\n",
              "      <td>0</td>\n",
              "      <td>0</td>\n",
              "      <td>0</td>\n",
              "      <td>0</td>\n",
              "      <td>0</td>\n",
              "      <td>0</td>\n",
              "      <td>0</td>\n",
              "      <td>0</td>\n",
              "      <td>0</td>\n",
              "      <td>0</td>\n",
              "      <td>0</td>\n",
              "      <td>0</td>\n",
              "      <td>1</td>\n",
              "      <td>0</td>\n",
              "    </tr>\n",
              "    <tr>\n",
              "      <th>3</th>\n",
              "      <td>9</td>\n",
              "      <td>80.62</td>\n",
              "      <td>0</td>\n",
              "      <td>0</td>\n",
              "      <td>0</td>\n",
              "      <td>0</td>\n",
              "      <td>0</td>\n",
              "      <td>0</td>\n",
              "      <td>0</td>\n",
              "      <td>0</td>\n",
              "      <td>0</td>\n",
              "      <td>0</td>\n",
              "      <td>0</td>\n",
              "      <td>0</td>\n",
              "      <td>0</td>\n",
              "      <td>0</td>\n",
              "      <td>0</td>\n",
              "      <td>0</td>\n",
              "      <td>1</td>\n",
              "      <td>1</td>\n",
              "      <td>1</td>\n",
              "      <td>0</td>\n",
              "      <td>1</td>\n",
              "      <td>0</td>\n",
              "      <td>0</td>\n",
              "      <td>0</td>\n",
              "      <td>1</td>\n",
              "      <td>0</td>\n",
              "      <td>1</td>\n",
              "      <td>0</td>\n",
              "      <td>0</td>\n",
              "      <td>0</td>\n",
              "      <td>0</td>\n",
              "      <td>0</td>\n",
              "      <td>1</td>\n",
              "      <td>0</td>\n",
              "      <td>0</td>\n",
              "      <td>1</td>\n",
              "      <td>0</td>\n",
              "      <td>0</td>\n",
              "      <td>...</td>\n",
              "      <td>0</td>\n",
              "      <td>0</td>\n",
              "      <td>0</td>\n",
              "      <td>1</td>\n",
              "      <td>0</td>\n",
              "      <td>0</td>\n",
              "      <td>0</td>\n",
              "      <td>0</td>\n",
              "      <td>0</td>\n",
              "      <td>0</td>\n",
              "      <td>0</td>\n",
              "      <td>0</td>\n",
              "      <td>0</td>\n",
              "      <td>0</td>\n",
              "      <td>0</td>\n",
              "      <td>1</td>\n",
              "      <td>0</td>\n",
              "      <td>0</td>\n",
              "      <td>0</td>\n",
              "      <td>1</td>\n",
              "      <td>0</td>\n",
              "      <td>0</td>\n",
              "      <td>0</td>\n",
              "      <td>0</td>\n",
              "      <td>0</td>\n",
              "      <td>0</td>\n",
              "      <td>0</td>\n",
              "      <td>0</td>\n",
              "      <td>0</td>\n",
              "      <td>0</td>\n",
              "      <td>0</td>\n",
              "      <td>0</td>\n",
              "      <td>0</td>\n",
              "      <td>0</td>\n",
              "      <td>0</td>\n",
              "      <td>0</td>\n",
              "      <td>0</td>\n",
              "      <td>0</td>\n",
              "      <td>0</td>\n",
              "      <td>0</td>\n",
              "    </tr>\n",
              "    <tr>\n",
              "      <th>4</th>\n",
              "      <td>13</td>\n",
              "      <td>78.02</td>\n",
              "      <td>0</td>\n",
              "      <td>0</td>\n",
              "      <td>0</td>\n",
              "      <td>0</td>\n",
              "      <td>0</td>\n",
              "      <td>0</td>\n",
              "      <td>0</td>\n",
              "      <td>0</td>\n",
              "      <td>0</td>\n",
              "      <td>0</td>\n",
              "      <td>0</td>\n",
              "      <td>0</td>\n",
              "      <td>0</td>\n",
              "      <td>0</td>\n",
              "      <td>0</td>\n",
              "      <td>0</td>\n",
              "      <td>1</td>\n",
              "      <td>1</td>\n",
              "      <td>1</td>\n",
              "      <td>0</td>\n",
              "      <td>1</td>\n",
              "      <td>0</td>\n",
              "      <td>0</td>\n",
              "      <td>0</td>\n",
              "      <td>1</td>\n",
              "      <td>0</td>\n",
              "      <td>1</td>\n",
              "      <td>0</td>\n",
              "      <td>0</td>\n",
              "      <td>0</td>\n",
              "      <td>0</td>\n",
              "      <td>0</td>\n",
              "      <td>1</td>\n",
              "      <td>0</td>\n",
              "      <td>0</td>\n",
              "      <td>1</td>\n",
              "      <td>0</td>\n",
              "      <td>0</td>\n",
              "      <td>...</td>\n",
              "      <td>0</td>\n",
              "      <td>0</td>\n",
              "      <td>0</td>\n",
              "      <td>0</td>\n",
              "      <td>0</td>\n",
              "      <td>0</td>\n",
              "      <td>0</td>\n",
              "      <td>1</td>\n",
              "      <td>0</td>\n",
              "      <td>0</td>\n",
              "      <td>0</td>\n",
              "      <td>0</td>\n",
              "      <td>0</td>\n",
              "      <td>0</td>\n",
              "      <td>0</td>\n",
              "      <td>0</td>\n",
              "      <td>0</td>\n",
              "      <td>0</td>\n",
              "      <td>0</td>\n",
              "      <td>0</td>\n",
              "      <td>0</td>\n",
              "      <td>0</td>\n",
              "      <td>0</td>\n",
              "      <td>0</td>\n",
              "      <td>0</td>\n",
              "      <td>0</td>\n",
              "      <td>0</td>\n",
              "      <td>0</td>\n",
              "      <td>1</td>\n",
              "      <td>0</td>\n",
              "      <td>0</td>\n",
              "      <td>0</td>\n",
              "      <td>0</td>\n",
              "      <td>0</td>\n",
              "      <td>0</td>\n",
              "      <td>0</td>\n",
              "      <td>0</td>\n",
              "      <td>0</td>\n",
              "      <td>0</td>\n",
              "      <td>0</td>\n",
              "    </tr>\n",
              "  </tbody>\n",
              "</table>\n",
              "<p>5 rows × 557 columns</p>\n",
              "</div>"
            ],
            "text/plain": [
              "   ID       y  X10  X11  X12  X13  ...  X8_t  X8_u  X8_v  X8_w  X8_x  X8_y\n",
              "0   0  130.81    0    0    0    1  ...     0     0     0     0     0     0\n",
              "1   6   88.53    0    0    0    0  ...     0     0     0     0     0     0\n",
              "2   7   76.26    0    0    0    0  ...     0     0     0     0     1     0\n",
              "3   9   80.62    0    0    0    0  ...     0     0     0     0     0     0\n",
              "4  13   78.02    0    0    0    0  ...     0     0     0     0     0     0\n",
              "\n",
              "[5 rows x 557 columns]"
            ]
          },
          "metadata": {
            "tags": []
          },
          "execution_count": 4
        }
      ]
    },
    {
      "cell_type": "code",
      "metadata": {
        "id": "TLC5TGKyNGyA",
        "colab_type": "code",
        "colab": {}
      },
      "source": [
        "# creating a list of columns which have only zeros\n",
        "zeros=[]\n",
        "for i,j in x_dummies.any().items():#https://pandas.pydata.org/pandas-docs/stable/reference/api/pandas.Series.iteritems.html\n",
        "    if j==False:\n",
        "        zeros.append(i)"
      ],
      "execution_count": null,
      "outputs": []
    },
    {
      "cell_type": "code",
      "metadata": {
        "id": "Lk10AmyFNGwZ",
        "colab_type": "code",
        "colab": {
          "base_uri": "https://localhost:8080/",
          "height": 218
        },
        "outputId": "877b4cb9-d086-4c82-ca36-e2ee3076fa2a"
      },
      "source": [
        "zeros # 'X339' is missing in my code\n",
        "# we need to drop these columns"
      ],
      "execution_count": null,
      "outputs": [
        {
          "output_type": "execute_result",
          "data": {
            "text/plain": [
              "['X11',\n",
              " 'X93',\n",
              " 'X107',\n",
              " 'X233',\n",
              " 'X235',\n",
              " 'X268',\n",
              " 'X289',\n",
              " 'X290',\n",
              " 'X293',\n",
              " 'X297',\n",
              " 'X330',\n",
              " 'X347']"
            ]
          },
          "metadata": {
            "tags": []
          },
          "execution_count": 6
        }
      ]
    },
    {
      "cell_type": "code",
      "metadata": {
        "id": "jrMsde6fN2JQ",
        "colab_type": "code",
        "colab": {}
      },
      "source": [
        "#https://stackoverflow.com/questions/29294983/how-to-calculate-correlation-between-all-columns-and-remove-highly-correlated-on\n",
        "# to delete columns with high correlation"
      ],
      "execution_count": null,
      "outputs": []
    },
    {
      "cell_type": "markdown",
      "metadata": {
        "id": "Ha-dpfO2bi2T",
        "colab_type": "text"
      },
      "source": [
        "*   Dropping columns with only zeros"
      ]
    },
    {
      "cell_type": "code",
      "metadata": {
        "id": "CZte-vF1N2Dc",
        "colab_type": "code",
        "colab": {}
      },
      "source": [
        "x_dummies = x_dummies.drop(zeros, axis=1)"
      ],
      "execution_count": null,
      "outputs": []
    },
    {
      "cell_type": "markdown",
      "metadata": {
        "id": "9HeQtLb1cWLU",
        "colab_type": "text"
      },
      "source": [
        "*   Dropping outliers => considering only IQR"
      ]
    },
    {
      "cell_type": "code",
      "metadata": {
        "colab_type": "code",
        "id": "AYVU-Si8dDE0",
        "colab": {
          "base_uri": "https://localhost:8080/",
          "height": 333
        },
        "outputId": "2dacf720-48d7-42bc-88d9-756a5dc3f3a5"
      },
      "source": [
        "x_filtered= x_dummies[x_dummies ['y']>70]#https://www.geeksforgeeks.org/drop-rows-from-the-dataframe-based-on-certain-condition-applied-on-a-column/\n",
        "x_filtered= x_filtered[x_filtered['y']<150]\n",
        "x_filtered.describe()"
      ],
      "execution_count": null,
      "outputs": [
        {
          "output_type": "execute_result",
          "data": {
            "text/html": [
              "<div>\n",
              "<style scoped>\n",
              "    .dataframe tbody tr th:only-of-type {\n",
              "        vertical-align: middle;\n",
              "    }\n",
              "\n",
              "    .dataframe tbody tr th {\n",
              "        vertical-align: top;\n",
              "    }\n",
              "\n",
              "    .dataframe thead th {\n",
              "        text-align: right;\n",
              "    }\n",
              "</style>\n",
              "<table border=\"1\" class=\"dataframe\">\n",
              "  <thead>\n",
              "    <tr style=\"text-align: right;\">\n",
              "      <th></th>\n",
              "      <th>ID</th>\n",
              "      <th>y</th>\n",
              "      <th>X10</th>\n",
              "      <th>X12</th>\n",
              "      <th>X13</th>\n",
              "      <th>X14</th>\n",
              "      <th>X15</th>\n",
              "      <th>X16</th>\n",
              "      <th>X17</th>\n",
              "      <th>X18</th>\n",
              "      <th>X19</th>\n",
              "      <th>X20</th>\n",
              "      <th>X21</th>\n",
              "      <th>X22</th>\n",
              "      <th>X23</th>\n",
              "      <th>X24</th>\n",
              "      <th>X26</th>\n",
              "      <th>X27</th>\n",
              "      <th>X28</th>\n",
              "      <th>X29</th>\n",
              "      <th>X30</th>\n",
              "      <th>X31</th>\n",
              "      <th>X32</th>\n",
              "      <th>X33</th>\n",
              "      <th>X34</th>\n",
              "      <th>X35</th>\n",
              "      <th>X36</th>\n",
              "      <th>X37</th>\n",
              "      <th>X38</th>\n",
              "      <th>X39</th>\n",
              "      <th>X40</th>\n",
              "      <th>X41</th>\n",
              "      <th>X42</th>\n",
              "      <th>X43</th>\n",
              "      <th>X44</th>\n",
              "      <th>X45</th>\n",
              "      <th>X46</th>\n",
              "      <th>X47</th>\n",
              "      <th>X48</th>\n",
              "      <th>X49</th>\n",
              "      <th>...</th>\n",
              "      <th>X5_u</th>\n",
              "      <th>X5_v</th>\n",
              "      <th>X5_w</th>\n",
              "      <th>X5_x</th>\n",
              "      <th>X5_y</th>\n",
              "      <th>X6_b</th>\n",
              "      <th>X6_c</th>\n",
              "      <th>X6_d</th>\n",
              "      <th>X6_e</th>\n",
              "      <th>X6_f</th>\n",
              "      <th>X6_g</th>\n",
              "      <th>X6_h</th>\n",
              "      <th>X6_i</th>\n",
              "      <th>X6_j</th>\n",
              "      <th>X6_k</th>\n",
              "      <th>X6_l</th>\n",
              "      <th>X8_b</th>\n",
              "      <th>X8_c</th>\n",
              "      <th>X8_d</th>\n",
              "      <th>X8_e</th>\n",
              "      <th>X8_f</th>\n",
              "      <th>X8_g</th>\n",
              "      <th>X8_h</th>\n",
              "      <th>X8_i</th>\n",
              "      <th>X8_j</th>\n",
              "      <th>X8_k</th>\n",
              "      <th>X8_l</th>\n",
              "      <th>X8_m</th>\n",
              "      <th>X8_n</th>\n",
              "      <th>X8_o</th>\n",
              "      <th>X8_p</th>\n",
              "      <th>X8_q</th>\n",
              "      <th>X8_r</th>\n",
              "      <th>X8_s</th>\n",
              "      <th>X8_t</th>\n",
              "      <th>X8_u</th>\n",
              "      <th>X8_v</th>\n",
              "      <th>X8_w</th>\n",
              "      <th>X8_x</th>\n",
              "      <th>X8_y</th>\n",
              "    </tr>\n",
              "  </thead>\n",
              "  <tbody>\n",
              "    <tr>\n",
              "      <th>count</th>\n",
              "      <td>4194.000000</td>\n",
              "      <td>4194.000000</td>\n",
              "      <td>4194.000000</td>\n",
              "      <td>4194.000000</td>\n",
              "      <td>4194.000000</td>\n",
              "      <td>4194.000000</td>\n",
              "      <td>4194.000000</td>\n",
              "      <td>4194.000000</td>\n",
              "      <td>4194.000000</td>\n",
              "      <td>4194.000000</td>\n",
              "      <td>4194.000000</td>\n",
              "      <td>4194.000000</td>\n",
              "      <td>4194.000000</td>\n",
              "      <td>4194.000000</td>\n",
              "      <td>4194.000000</td>\n",
              "      <td>4194.000000</td>\n",
              "      <td>4194.000000</td>\n",
              "      <td>4194.000000</td>\n",
              "      <td>4194.000000</td>\n",
              "      <td>4194.000000</td>\n",
              "      <td>4194.000000</td>\n",
              "      <td>4194.000000</td>\n",
              "      <td>4194.000000</td>\n",
              "      <td>4194.000000</td>\n",
              "      <td>4194.000000</td>\n",
              "      <td>4194.000000</td>\n",
              "      <td>4194.000000</td>\n",
              "      <td>4194.000000</td>\n",
              "      <td>4194.000000</td>\n",
              "      <td>4194.000000</td>\n",
              "      <td>4194.000000</td>\n",
              "      <td>4194.000000</td>\n",
              "      <td>4194.000000</td>\n",
              "      <td>4194.000000</td>\n",
              "      <td>4194.000000</td>\n",
              "      <td>4194.000000</td>\n",
              "      <td>4194.000000</td>\n",
              "      <td>4194.000000</td>\n",
              "      <td>4194.000000</td>\n",
              "      <td>4194.000000</td>\n",
              "      <td>...</td>\n",
              "      <td>4194.000000</td>\n",
              "      <td>4194.000000</td>\n",
              "      <td>4194.000000</td>\n",
              "      <td>4194.000000</td>\n",
              "      <td>4194.000000</td>\n",
              "      <td>4194.000000</td>\n",
              "      <td>4194.000000</td>\n",
              "      <td>4194.000000</td>\n",
              "      <td>4194.000000</td>\n",
              "      <td>4194.000000</td>\n",
              "      <td>4194.00000</td>\n",
              "      <td>4194.000000</td>\n",
              "      <td>4194.000000</td>\n",
              "      <td>4194.00000</td>\n",
              "      <td>4194.000000</td>\n",
              "      <td>4194.000000</td>\n",
              "      <td>4194.000000</td>\n",
              "      <td>4194.000000</td>\n",
              "      <td>4194.000000</td>\n",
              "      <td>4194.000000</td>\n",
              "      <td>4194.000000</td>\n",
              "      <td>4194.000000</td>\n",
              "      <td>4194.000000</td>\n",
              "      <td>4194.000000</td>\n",
              "      <td>4194.000000</td>\n",
              "      <td>4194.000000</td>\n",
              "      <td>4194.000000</td>\n",
              "      <td>4194.000000</td>\n",
              "      <td>4194.000000</td>\n",
              "      <td>4194.000000</td>\n",
              "      <td>4194.000000</td>\n",
              "      <td>4194.000000</td>\n",
              "      <td>4194.000000</td>\n",
              "      <td>4194.000000</td>\n",
              "      <td>4194.000000</td>\n",
              "      <td>4194.000000</td>\n",
              "      <td>4194.000000</td>\n",
              "      <td>4194.000000</td>\n",
              "      <td>4194.000000</td>\n",
              "      <td>4194.000000</td>\n",
              "    </tr>\n",
              "    <tr>\n",
              "      <th>mean</th>\n",
              "      <td>4209.773724</td>\n",
              "      <td>100.439938</td>\n",
              "      <td>0.013352</td>\n",
              "      <td>0.074392</td>\n",
              "      <td>0.057940</td>\n",
              "      <td>0.428231</td>\n",
              "      <td>0.000477</td>\n",
              "      <td>0.002623</td>\n",
              "      <td>0.007630</td>\n",
              "      <td>0.007868</td>\n",
              "      <td>0.099666</td>\n",
              "      <td>0.142823</td>\n",
              "      <td>0.002623</td>\n",
              "      <td>0.086791</td>\n",
              "      <td>0.020744</td>\n",
              "      <td>0.001907</td>\n",
              "      <td>0.005007</td>\n",
              "      <td>0.682165</td>\n",
              "      <td>0.032666</td>\n",
              "      <td>0.043157</td>\n",
              "      <td>0.004530</td>\n",
              "      <td>0.231998</td>\n",
              "      <td>0.011206</td>\n",
              "      <td>0.000238</td>\n",
              "      <td>0.005484</td>\n",
              "      <td>0.231998</td>\n",
              "      <td>0.004530</td>\n",
              "      <td>0.231998</td>\n",
              "      <td>0.033381</td>\n",
              "      <td>0.000238</td>\n",
              "      <td>0.000715</td>\n",
              "      <td>0.011445</td>\n",
              "      <td>0.000238</td>\n",
              "      <td>0.072246</td>\n",
              "      <td>0.011445</td>\n",
              "      <td>0.253219</td>\n",
              "      <td>0.597282</td>\n",
              "      <td>0.012876</td>\n",
              "      <td>0.022413</td>\n",
              "      <td>0.122556</td>\n",
              "      <td>...</td>\n",
              "      <td>0.000238</td>\n",
              "      <td>0.054840</td>\n",
              "      <td>0.055079</td>\n",
              "      <td>0.000477</td>\n",
              "      <td>0.000238</td>\n",
              "      <td>0.006676</td>\n",
              "      <td>0.008822</td>\n",
              "      <td>0.148546</td>\n",
              "      <td>0.002861</td>\n",
              "      <td>0.004769</td>\n",
              "      <td>0.24702</td>\n",
              "      <td>0.045303</td>\n",
              "      <td>0.116357</td>\n",
              "      <td>0.24702</td>\n",
              "      <td>0.010014</td>\n",
              "      <td>0.113495</td>\n",
              "      <td>0.045303</td>\n",
              "      <td>0.023844</td>\n",
              "      <td>0.024082</td>\n",
              "      <td>0.053410</td>\n",
              "      <td>0.057940</td>\n",
              "      <td>0.030758</td>\n",
              "      <td>0.027897</td>\n",
              "      <td>0.056509</td>\n",
              "      <td>0.065808</td>\n",
              "      <td>0.041965</td>\n",
              "      <td>0.024082</td>\n",
              "      <td>0.036719</td>\n",
              "      <td>0.057701</td>\n",
              "      <td>0.038865</td>\n",
              "      <td>0.023605</td>\n",
              "      <td>0.027659</td>\n",
              "      <td>0.051741</td>\n",
              "      <td>0.060563</td>\n",
              "      <td>0.028135</td>\n",
              "      <td>0.028374</td>\n",
              "      <td>0.046257</td>\n",
              "      <td>0.046495</td>\n",
              "      <td>0.024797</td>\n",
              "      <td>0.027659</td>\n",
              "    </tr>\n",
              "    <tr>\n",
              "      <th>std</th>\n",
              "      <td>2437.897217</td>\n",
              "      <td>11.994753</td>\n",
              "      <td>0.114792</td>\n",
              "      <td>0.262439</td>\n",
              "      <td>0.233658</td>\n",
              "      <td>0.494881</td>\n",
              "      <td>0.021835</td>\n",
              "      <td>0.051152</td>\n",
              "      <td>0.087026</td>\n",
              "      <td>0.088365</td>\n",
              "      <td>0.299590</td>\n",
              "      <td>0.349934</td>\n",
              "      <td>0.051152</td>\n",
              "      <td>0.281562</td>\n",
              "      <td>0.142543</td>\n",
              "      <td>0.043638</td>\n",
              "      <td>0.070592</td>\n",
              "      <td>0.465690</td>\n",
              "      <td>0.177781</td>\n",
              "      <td>0.203234</td>\n",
              "      <td>0.067163</td>\n",
              "      <td>0.422158</td>\n",
              "      <td>0.105278</td>\n",
              "      <td>0.015441</td>\n",
              "      <td>0.073860</td>\n",
              "      <td>0.422158</td>\n",
              "      <td>0.067163</td>\n",
              "      <td>0.422158</td>\n",
              "      <td>0.179651</td>\n",
              "      <td>0.015441</td>\n",
              "      <td>0.026739</td>\n",
              "      <td>0.106380</td>\n",
              "      <td>0.015441</td>\n",
              "      <td>0.258926</td>\n",
              "      <td>0.106380</td>\n",
              "      <td>0.434907</td>\n",
              "      <td>0.490503</td>\n",
              "      <td>0.112751</td>\n",
              "      <td>0.148040</td>\n",
              "      <td>0.327966</td>\n",
              "      <td>...</td>\n",
              "      <td>0.015441</td>\n",
              "      <td>0.227695</td>\n",
              "      <td>0.228161</td>\n",
              "      <td>0.021835</td>\n",
              "      <td>0.015441</td>\n",
              "      <td>0.081445</td>\n",
              "      <td>0.093522</td>\n",
              "      <td>0.355682</td>\n",
              "      <td>0.053420</td>\n",
              "      <td>0.068899</td>\n",
              "      <td>0.43133</td>\n",
              "      <td>0.207992</td>\n",
              "      <td>0.320690</td>\n",
              "      <td>0.43133</td>\n",
              "      <td>0.099581</td>\n",
              "      <td>0.317235</td>\n",
              "      <td>0.207992</td>\n",
              "      <td>0.152580</td>\n",
              "      <td>0.153322</td>\n",
              "      <td>0.224876</td>\n",
              "      <td>0.233658</td>\n",
              "      <td>0.172683</td>\n",
              "      <td>0.164697</td>\n",
              "      <td>0.230930</td>\n",
              "      <td>0.247976</td>\n",
              "      <td>0.200532</td>\n",
              "      <td>0.153322</td>\n",
              "      <td>0.188094</td>\n",
              "      <td>0.233206</td>\n",
              "      <td>0.193296</td>\n",
              "      <td>0.151834</td>\n",
              "      <td>0.164012</td>\n",
              "      <td>0.221529</td>\n",
              "      <td>0.238555</td>\n",
              "      <td>0.165379</td>\n",
              "      <td>0.166058</td>\n",
              "      <td>0.210065</td>\n",
              "      <td>0.210580</td>\n",
              "      <td>0.155526</td>\n",
              "      <td>0.164012</td>\n",
              "    </tr>\n",
              "    <tr>\n",
              "      <th>min</th>\n",
              "      <td>0.000000</td>\n",
              "      <td>72.110000</td>\n",
              "      <td>0.000000</td>\n",
              "      <td>0.000000</td>\n",
              "      <td>0.000000</td>\n",
              "      <td>0.000000</td>\n",
              "      <td>0.000000</td>\n",
              "      <td>0.000000</td>\n",
              "      <td>0.000000</td>\n",
              "      <td>0.000000</td>\n",
              "      <td>0.000000</td>\n",
              "      <td>0.000000</td>\n",
              "      <td>0.000000</td>\n",
              "      <td>0.000000</td>\n",
              "      <td>0.000000</td>\n",
              "      <td>0.000000</td>\n",
              "      <td>0.000000</td>\n",
              "      <td>0.000000</td>\n",
              "      <td>0.000000</td>\n",
              "      <td>0.000000</td>\n",
              "      <td>0.000000</td>\n",
              "      <td>0.000000</td>\n",
              "      <td>0.000000</td>\n",
              "      <td>0.000000</td>\n",
              "      <td>0.000000</td>\n",
              "      <td>0.000000</td>\n",
              "      <td>0.000000</td>\n",
              "      <td>0.000000</td>\n",
              "      <td>0.000000</td>\n",
              "      <td>0.000000</td>\n",
              "      <td>0.000000</td>\n",
              "      <td>0.000000</td>\n",
              "      <td>0.000000</td>\n",
              "      <td>0.000000</td>\n",
              "      <td>0.000000</td>\n",
              "      <td>0.000000</td>\n",
              "      <td>0.000000</td>\n",
              "      <td>0.000000</td>\n",
              "      <td>0.000000</td>\n",
              "      <td>0.000000</td>\n",
              "      <td>...</td>\n",
              "      <td>0.000000</td>\n",
              "      <td>0.000000</td>\n",
              "      <td>0.000000</td>\n",
              "      <td>0.000000</td>\n",
              "      <td>0.000000</td>\n",
              "      <td>0.000000</td>\n",
              "      <td>0.000000</td>\n",
              "      <td>0.000000</td>\n",
              "      <td>0.000000</td>\n",
              "      <td>0.000000</td>\n",
              "      <td>0.00000</td>\n",
              "      <td>0.000000</td>\n",
              "      <td>0.000000</td>\n",
              "      <td>0.00000</td>\n",
              "      <td>0.000000</td>\n",
              "      <td>0.000000</td>\n",
              "      <td>0.000000</td>\n",
              "      <td>0.000000</td>\n",
              "      <td>0.000000</td>\n",
              "      <td>0.000000</td>\n",
              "      <td>0.000000</td>\n",
              "      <td>0.000000</td>\n",
              "      <td>0.000000</td>\n",
              "      <td>0.000000</td>\n",
              "      <td>0.000000</td>\n",
              "      <td>0.000000</td>\n",
              "      <td>0.000000</td>\n",
              "      <td>0.000000</td>\n",
              "      <td>0.000000</td>\n",
              "      <td>0.000000</td>\n",
              "      <td>0.000000</td>\n",
              "      <td>0.000000</td>\n",
              "      <td>0.000000</td>\n",
              "      <td>0.000000</td>\n",
              "      <td>0.000000</td>\n",
              "      <td>0.000000</td>\n",
              "      <td>0.000000</td>\n",
              "      <td>0.000000</td>\n",
              "      <td>0.000000</td>\n",
              "      <td>0.000000</td>\n",
              "    </tr>\n",
              "    <tr>\n",
              "      <th>25%</th>\n",
              "      <td>2096.250000</td>\n",
              "      <td>90.800000</td>\n",
              "      <td>0.000000</td>\n",
              "      <td>0.000000</td>\n",
              "      <td>0.000000</td>\n",
              "      <td>0.000000</td>\n",
              "      <td>0.000000</td>\n",
              "      <td>0.000000</td>\n",
              "      <td>0.000000</td>\n",
              "      <td>0.000000</td>\n",
              "      <td>0.000000</td>\n",
              "      <td>0.000000</td>\n",
              "      <td>0.000000</td>\n",
              "      <td>0.000000</td>\n",
              "      <td>0.000000</td>\n",
              "      <td>0.000000</td>\n",
              "      <td>0.000000</td>\n",
              "      <td>0.000000</td>\n",
              "      <td>0.000000</td>\n",
              "      <td>0.000000</td>\n",
              "      <td>0.000000</td>\n",
              "      <td>0.000000</td>\n",
              "      <td>0.000000</td>\n",
              "      <td>0.000000</td>\n",
              "      <td>0.000000</td>\n",
              "      <td>0.000000</td>\n",
              "      <td>0.000000</td>\n",
              "      <td>0.000000</td>\n",
              "      <td>0.000000</td>\n",
              "      <td>0.000000</td>\n",
              "      <td>0.000000</td>\n",
              "      <td>0.000000</td>\n",
              "      <td>0.000000</td>\n",
              "      <td>0.000000</td>\n",
              "      <td>0.000000</td>\n",
              "      <td>0.000000</td>\n",
              "      <td>0.000000</td>\n",
              "      <td>0.000000</td>\n",
              "      <td>0.000000</td>\n",
              "      <td>0.000000</td>\n",
              "      <td>...</td>\n",
              "      <td>0.000000</td>\n",
              "      <td>0.000000</td>\n",
              "      <td>0.000000</td>\n",
              "      <td>0.000000</td>\n",
              "      <td>0.000000</td>\n",
              "      <td>0.000000</td>\n",
              "      <td>0.000000</td>\n",
              "      <td>0.000000</td>\n",
              "      <td>0.000000</td>\n",
              "      <td>0.000000</td>\n",
              "      <td>0.00000</td>\n",
              "      <td>0.000000</td>\n",
              "      <td>0.000000</td>\n",
              "      <td>0.00000</td>\n",
              "      <td>0.000000</td>\n",
              "      <td>0.000000</td>\n",
              "      <td>0.000000</td>\n",
              "      <td>0.000000</td>\n",
              "      <td>0.000000</td>\n",
              "      <td>0.000000</td>\n",
              "      <td>0.000000</td>\n",
              "      <td>0.000000</td>\n",
              "      <td>0.000000</td>\n",
              "      <td>0.000000</td>\n",
              "      <td>0.000000</td>\n",
              "      <td>0.000000</td>\n",
              "      <td>0.000000</td>\n",
              "      <td>0.000000</td>\n",
              "      <td>0.000000</td>\n",
              "      <td>0.000000</td>\n",
              "      <td>0.000000</td>\n",
              "      <td>0.000000</td>\n",
              "      <td>0.000000</td>\n",
              "      <td>0.000000</td>\n",
              "      <td>0.000000</td>\n",
              "      <td>0.000000</td>\n",
              "      <td>0.000000</td>\n",
              "      <td>0.000000</td>\n",
              "      <td>0.000000</td>\n",
              "      <td>0.000000</td>\n",
              "    </tr>\n",
              "    <tr>\n",
              "      <th>50%</th>\n",
              "      <td>4224.000000</td>\n",
              "      <td>99.090000</td>\n",
              "      <td>0.000000</td>\n",
              "      <td>0.000000</td>\n",
              "      <td>0.000000</td>\n",
              "      <td>0.000000</td>\n",
              "      <td>0.000000</td>\n",
              "      <td>0.000000</td>\n",
              "      <td>0.000000</td>\n",
              "      <td>0.000000</td>\n",
              "      <td>0.000000</td>\n",
              "      <td>0.000000</td>\n",
              "      <td>0.000000</td>\n",
              "      <td>0.000000</td>\n",
              "      <td>0.000000</td>\n",
              "      <td>0.000000</td>\n",
              "      <td>0.000000</td>\n",
              "      <td>1.000000</td>\n",
              "      <td>0.000000</td>\n",
              "      <td>0.000000</td>\n",
              "      <td>0.000000</td>\n",
              "      <td>0.000000</td>\n",
              "      <td>0.000000</td>\n",
              "      <td>0.000000</td>\n",
              "      <td>0.000000</td>\n",
              "      <td>0.000000</td>\n",
              "      <td>0.000000</td>\n",
              "      <td>0.000000</td>\n",
              "      <td>0.000000</td>\n",
              "      <td>0.000000</td>\n",
              "      <td>0.000000</td>\n",
              "      <td>0.000000</td>\n",
              "      <td>0.000000</td>\n",
              "      <td>0.000000</td>\n",
              "      <td>0.000000</td>\n",
              "      <td>0.000000</td>\n",
              "      <td>1.000000</td>\n",
              "      <td>0.000000</td>\n",
              "      <td>0.000000</td>\n",
              "      <td>0.000000</td>\n",
              "      <td>...</td>\n",
              "      <td>0.000000</td>\n",
              "      <td>0.000000</td>\n",
              "      <td>0.000000</td>\n",
              "      <td>0.000000</td>\n",
              "      <td>0.000000</td>\n",
              "      <td>0.000000</td>\n",
              "      <td>0.000000</td>\n",
              "      <td>0.000000</td>\n",
              "      <td>0.000000</td>\n",
              "      <td>0.000000</td>\n",
              "      <td>0.00000</td>\n",
              "      <td>0.000000</td>\n",
              "      <td>0.000000</td>\n",
              "      <td>0.00000</td>\n",
              "      <td>0.000000</td>\n",
              "      <td>0.000000</td>\n",
              "      <td>0.000000</td>\n",
              "      <td>0.000000</td>\n",
              "      <td>0.000000</td>\n",
              "      <td>0.000000</td>\n",
              "      <td>0.000000</td>\n",
              "      <td>0.000000</td>\n",
              "      <td>0.000000</td>\n",
              "      <td>0.000000</td>\n",
              "      <td>0.000000</td>\n",
              "      <td>0.000000</td>\n",
              "      <td>0.000000</td>\n",
              "      <td>0.000000</td>\n",
              "      <td>0.000000</td>\n",
              "      <td>0.000000</td>\n",
              "      <td>0.000000</td>\n",
              "      <td>0.000000</td>\n",
              "      <td>0.000000</td>\n",
              "      <td>0.000000</td>\n",
              "      <td>0.000000</td>\n",
              "      <td>0.000000</td>\n",
              "      <td>0.000000</td>\n",
              "      <td>0.000000</td>\n",
              "      <td>0.000000</td>\n",
              "      <td>0.000000</td>\n",
              "    </tr>\n",
              "    <tr>\n",
              "      <th>75%</th>\n",
              "      <td>6316.750000</td>\n",
              "      <td>108.967500</td>\n",
              "      <td>0.000000</td>\n",
              "      <td>0.000000</td>\n",
              "      <td>0.000000</td>\n",
              "      <td>1.000000</td>\n",
              "      <td>0.000000</td>\n",
              "      <td>0.000000</td>\n",
              "      <td>0.000000</td>\n",
              "      <td>0.000000</td>\n",
              "      <td>0.000000</td>\n",
              "      <td>0.000000</td>\n",
              "      <td>0.000000</td>\n",
              "      <td>0.000000</td>\n",
              "      <td>0.000000</td>\n",
              "      <td>0.000000</td>\n",
              "      <td>0.000000</td>\n",
              "      <td>1.000000</td>\n",
              "      <td>0.000000</td>\n",
              "      <td>0.000000</td>\n",
              "      <td>0.000000</td>\n",
              "      <td>0.000000</td>\n",
              "      <td>0.000000</td>\n",
              "      <td>0.000000</td>\n",
              "      <td>0.000000</td>\n",
              "      <td>0.000000</td>\n",
              "      <td>0.000000</td>\n",
              "      <td>0.000000</td>\n",
              "      <td>0.000000</td>\n",
              "      <td>0.000000</td>\n",
              "      <td>0.000000</td>\n",
              "      <td>0.000000</td>\n",
              "      <td>0.000000</td>\n",
              "      <td>0.000000</td>\n",
              "      <td>0.000000</td>\n",
              "      <td>1.000000</td>\n",
              "      <td>1.000000</td>\n",
              "      <td>0.000000</td>\n",
              "      <td>0.000000</td>\n",
              "      <td>0.000000</td>\n",
              "      <td>...</td>\n",
              "      <td>0.000000</td>\n",
              "      <td>0.000000</td>\n",
              "      <td>0.000000</td>\n",
              "      <td>0.000000</td>\n",
              "      <td>0.000000</td>\n",
              "      <td>0.000000</td>\n",
              "      <td>0.000000</td>\n",
              "      <td>0.000000</td>\n",
              "      <td>0.000000</td>\n",
              "      <td>0.000000</td>\n",
              "      <td>0.00000</td>\n",
              "      <td>0.000000</td>\n",
              "      <td>0.000000</td>\n",
              "      <td>0.00000</td>\n",
              "      <td>0.000000</td>\n",
              "      <td>0.000000</td>\n",
              "      <td>0.000000</td>\n",
              "      <td>0.000000</td>\n",
              "      <td>0.000000</td>\n",
              "      <td>0.000000</td>\n",
              "      <td>0.000000</td>\n",
              "      <td>0.000000</td>\n",
              "      <td>0.000000</td>\n",
              "      <td>0.000000</td>\n",
              "      <td>0.000000</td>\n",
              "      <td>0.000000</td>\n",
              "      <td>0.000000</td>\n",
              "      <td>0.000000</td>\n",
              "      <td>0.000000</td>\n",
              "      <td>0.000000</td>\n",
              "      <td>0.000000</td>\n",
              "      <td>0.000000</td>\n",
              "      <td>0.000000</td>\n",
              "      <td>0.000000</td>\n",
              "      <td>0.000000</td>\n",
              "      <td>0.000000</td>\n",
              "      <td>0.000000</td>\n",
              "      <td>0.000000</td>\n",
              "      <td>0.000000</td>\n",
              "      <td>0.000000</td>\n",
              "    </tr>\n",
              "    <tr>\n",
              "      <th>max</th>\n",
              "      <td>8417.000000</td>\n",
              "      <td>149.630000</td>\n",
              "      <td>1.000000</td>\n",
              "      <td>1.000000</td>\n",
              "      <td>1.000000</td>\n",
              "      <td>1.000000</td>\n",
              "      <td>1.000000</td>\n",
              "      <td>1.000000</td>\n",
              "      <td>1.000000</td>\n",
              "      <td>1.000000</td>\n",
              "      <td>1.000000</td>\n",
              "      <td>1.000000</td>\n",
              "      <td>1.000000</td>\n",
              "      <td>1.000000</td>\n",
              "      <td>1.000000</td>\n",
              "      <td>1.000000</td>\n",
              "      <td>1.000000</td>\n",
              "      <td>1.000000</td>\n",
              "      <td>1.000000</td>\n",
              "      <td>1.000000</td>\n",
              "      <td>1.000000</td>\n",
              "      <td>1.000000</td>\n",
              "      <td>1.000000</td>\n",
              "      <td>1.000000</td>\n",
              "      <td>1.000000</td>\n",
              "      <td>1.000000</td>\n",
              "      <td>1.000000</td>\n",
              "      <td>1.000000</td>\n",
              "      <td>1.000000</td>\n",
              "      <td>1.000000</td>\n",
              "      <td>1.000000</td>\n",
              "      <td>1.000000</td>\n",
              "      <td>1.000000</td>\n",
              "      <td>1.000000</td>\n",
              "      <td>1.000000</td>\n",
              "      <td>1.000000</td>\n",
              "      <td>1.000000</td>\n",
              "      <td>1.000000</td>\n",
              "      <td>1.000000</td>\n",
              "      <td>1.000000</td>\n",
              "      <td>...</td>\n",
              "      <td>1.000000</td>\n",
              "      <td>1.000000</td>\n",
              "      <td>1.000000</td>\n",
              "      <td>1.000000</td>\n",
              "      <td>1.000000</td>\n",
              "      <td>1.000000</td>\n",
              "      <td>1.000000</td>\n",
              "      <td>1.000000</td>\n",
              "      <td>1.000000</td>\n",
              "      <td>1.000000</td>\n",
              "      <td>1.00000</td>\n",
              "      <td>1.000000</td>\n",
              "      <td>1.000000</td>\n",
              "      <td>1.00000</td>\n",
              "      <td>1.000000</td>\n",
              "      <td>1.000000</td>\n",
              "      <td>1.000000</td>\n",
              "      <td>1.000000</td>\n",
              "      <td>1.000000</td>\n",
              "      <td>1.000000</td>\n",
              "      <td>1.000000</td>\n",
              "      <td>1.000000</td>\n",
              "      <td>1.000000</td>\n",
              "      <td>1.000000</td>\n",
              "      <td>1.000000</td>\n",
              "      <td>1.000000</td>\n",
              "      <td>1.000000</td>\n",
              "      <td>1.000000</td>\n",
              "      <td>1.000000</td>\n",
              "      <td>1.000000</td>\n",
              "      <td>1.000000</td>\n",
              "      <td>1.000000</td>\n",
              "      <td>1.000000</td>\n",
              "      <td>1.000000</td>\n",
              "      <td>1.000000</td>\n",
              "      <td>1.000000</td>\n",
              "      <td>1.000000</td>\n",
              "      <td>1.000000</td>\n",
              "      <td>1.000000</td>\n",
              "      <td>1.000000</td>\n",
              "    </tr>\n",
              "  </tbody>\n",
              "</table>\n",
              "<p>8 rows × 545 columns</p>\n",
              "</div>"
            ],
            "text/plain": [
              "                ID            y  ...         X8_x         X8_y\n",
              "count  4194.000000  4194.000000  ...  4194.000000  4194.000000\n",
              "mean   4209.773724   100.439938  ...     0.024797     0.027659\n",
              "std    2437.897217    11.994753  ...     0.155526     0.164012\n",
              "min       0.000000    72.110000  ...     0.000000     0.000000\n",
              "25%    2096.250000    90.800000  ...     0.000000     0.000000\n",
              "50%    4224.000000    99.090000  ...     0.000000     0.000000\n",
              "75%    6316.750000   108.967500  ...     0.000000     0.000000\n",
              "max    8417.000000   149.630000  ...     1.000000     1.000000\n",
              "\n",
              "[8 rows x 545 columns]"
            ]
          },
          "metadata": {
            "tags": []
          },
          "execution_count": 9
        }
      ]
    },
    {
      "cell_type": "code",
      "metadata": {
        "id": "SDYvzuu-N18O",
        "colab_type": "code",
        "colab": {
          "base_uri": "https://localhost:8080/",
          "height": 67
        },
        "outputId": "d1b382fc-fa1d-45b7-b3b0-aa850e7fb2be"
      },
      "source": [
        "print(x_filtered.shape)\n",
        "y=x_filtered['y']\n",
        "x_filtered=x_filtered.drop(['y'], axis=1)\n",
        "print(x_filtered.shape, y.shape)\n",
        "print(type(x_filtered), type(y))"
      ],
      "execution_count": null,
      "outputs": [
        {
          "output_type": "stream",
          "text": [
            "(4194, 545)\n",
            "(4194, 544) (4194,)\n",
            "<class 'pandas.core.frame.DataFrame'> <class 'pandas.core.series.Series'>\n"
          ],
          "name": "stdout"
        }
      ]
    },
    {
      "cell_type": "code",
      "metadata": {
        "id": "p6VACqopaNeI",
        "colab_type": "code",
        "colab": {}
      },
      "source": [
        "with open('/content/drive/My Drive/Colab Notebooks/22 Case Study 1/inf_indices.txt', 'r') as f:\n",
        "    checc=json.loads(f.read())\n"
      ],
      "execution_count": null,
      "outputs": []
    },
    {
      "cell_type": "code",
      "metadata": {
        "id": "J_Ta_7aKbkYH",
        "colab_type": "code",
        "colab": {}
      },
      "source": [
        "inf_indices=checc"
      ],
      "execution_count": null,
      "outputs": []
    },
    {
      "cell_type": "code",
      "metadata": {
        "id": "B-aGgDOGwGBn",
        "colab_type": "code",
        "colab": {
          "base_uri": "https://localhost:8080/",
          "height": 50
        },
        "outputId": "ed5150b8-dd35-48ee-e6bd-87d27ba1f128"
      },
      "source": [
        "print(x_filtered.shape)\n",
        "x_filtered = x_filtered.drop(inf_indices, axis=1)\n",
        "#x_dummies_2= x_dummies_2.drop(inf_indices, axis=1)\n",
        "print(x_filtered.shape)\n",
        "#print(x_dummies_2.shape)"
      ],
      "execution_count": null,
      "outputs": [
        {
          "output_type": "stream",
          "text": [
            "(4194, 544)\n",
            "(4194, 188)\n"
          ],
          "name": "stdout"
        }
      ]
    },
    {
      "cell_type": "markdown",
      "metadata": {
        "id": "lmVfTmy6xmYO",
        "colab_type": "text"
      },
      "source": [
        "*   Splitting data into Train and Test"
      ]
    },
    {
      "cell_type": "code",
      "metadata": {
        "id": "vg7mReUKN14W",
        "colab_type": "code",
        "colab": {}
      },
      "source": [
        "from sklearn.model_selection import train_test_split\n",
        "x_train, x_test, y_train, y_test = train_test_split(x_filtered, y, test_size=0.2, random_state=42)"
      ],
      "execution_count": null,
      "outputs": []
    },
    {
      "cell_type": "markdown",
      "metadata": {
        "id": "HwmVJgSS1oru",
        "colab_type": "text"
      },
      "source": [
        "https://towardsdatascience.com/feature-extraction-techniques-d619b56e31be\n",
        "\n",
        "\n",
        "*    From the above link we have learned that apart from SVD we can also add features using PCA, ICA, LDA, LLE\n",
        "\n",
        "\n",
        "*   Adding SVD features\n"
      ]
    },
    {
      "cell_type": "code",
      "metadata": {
        "id": "MWCYghtB0yEl",
        "colab_type": "code",
        "colab": {}
      },
      "source": [
        "from sklearn.decomposition import TruncatedSVD\n",
        "tsvd= TruncatedSVD(n_components=2, random_state=42)\n",
        "tsvd_train= tsvd.fit_transform(x_train)\n",
        "tsvd_test=  tsvd.transform(x_test)"
      ],
      "execution_count": null,
      "outputs": []
    },
    {
      "cell_type": "code",
      "metadata": {
        "id": "8DzJkk6e0yAy",
        "colab_type": "code",
        "colab": {
          "base_uri": "https://localhost:8080/",
          "height": 34
        },
        "outputId": "bb239103-b936-48ef-d3a3-9ed94b62ee26"
      },
      "source": [
        "tsvd_train.shape"
      ],
      "execution_count": null,
      "outputs": [
        {
          "output_type": "execute_result",
          "data": {
            "text/plain": [
              "(3355, 2)"
            ]
          },
          "metadata": {
            "tags": []
          },
          "execution_count": 38
        }
      ]
    },
    {
      "cell_type": "markdown",
      "metadata": {
        "id": "o9FkC2gDzT3m",
        "colab_type": "text"
      },
      "source": [
        "*    PCA"
      ]
    },
    {
      "cell_type": "code",
      "metadata": {
        "id": "ocl_B4VXzW9v",
        "colab_type": "code",
        "colab": {}
      },
      "source": [
        "from sklearn.decomposition import PCA\n",
        "pca = PCA(n_components=2, random_state=42)\n",
        "pca_train= pca.fit_transform(x_train)\n",
        "pca_test= pca.transform(x_test)"
      ],
      "execution_count": null,
      "outputs": []
    },
    {
      "cell_type": "code",
      "metadata": {
        "id": "kAkUZjdXzedh",
        "colab_type": "code",
        "colab": {
          "base_uri": "https://localhost:8080/",
          "height": 34
        },
        "outputId": "8bbe6ffb-14fa-4501-c821-7c78ef9ee82e"
      },
      "source": [
        "pca_train.shape"
      ],
      "execution_count": null,
      "outputs": [
        {
          "output_type": "execute_result",
          "data": {
            "text/plain": [
              "(3355, 2)"
            ]
          },
          "metadata": {
            "tags": []
          },
          "execution_count": 40
        }
      ]
    },
    {
      "cell_type": "markdown",
      "metadata": {
        "id": "0g5vjqQvzfCG",
        "colab_type": "text"
      },
      "source": [
        "*    ICA"
      ]
    },
    {
      "cell_type": "code",
      "metadata": {
        "id": "QoaD17eFzh9R",
        "colab_type": "code",
        "colab": {}
      },
      "source": [
        "from sklearn.decomposition import FastICA\n",
        "ica=FastICA(n_components=2, random_state=42)\n",
        "ica_train= ica.fit_transform(x_train)\n",
        "ica_test= ica.transform(x_test)"
      ],
      "execution_count": null,
      "outputs": []
    },
    {
      "cell_type": "code",
      "metadata": {
        "id": "4o4ouL3Vzh58",
        "colab_type": "code",
        "colab": {
          "base_uri": "https://localhost:8080/",
          "height": 34
        },
        "outputId": "c5dc4667-6f2e-4ca6-af4e-6572e914ac44"
      },
      "source": [
        "ica_train.shape"
      ],
      "execution_count": null,
      "outputs": [
        {
          "output_type": "execute_result",
          "data": {
            "text/plain": [
              "(3355, 2)"
            ]
          },
          "metadata": {
            "tags": []
          },
          "execution_count": 42
        }
      ]
    },
    {
      "cell_type": "markdown",
      "metadata": {
        "id": "ex2DIU3B0-ip",
        "colab_type": "text"
      },
      "source": [
        "*    adding all these new features to the dataframe"
      ]
    },
    {
      "cell_type": "code",
      "metadata": {
        "id": "ptlW9EOQ0x-b",
        "colab_type": "code",
        "colab": {}
      },
      "source": [
        "for i in range(0, tsvd_train.shape[1]):\n",
        "    x_train['tsvd_'+str(i)]= tsvd_train[:, i]\n",
        "    x_test['tsvd_'+str(i)]= tsvd_test[:, i]\n",
        "    x_train['pca_'+str(i)]= pca_train[:, i]\n",
        "    x_test['pca_'+str(i)]= pca_test[:, i]\n",
        "    x_train['ica_'+str(i)]= ica_train[:, i]\n",
        "    x_test['ica_'+str(i)]= ica_test[:, i]"
      ],
      "execution_count": null,
      "outputs": []
    },
    {
      "cell_type": "markdown",
      "metadata": {
        "id": "OW5_659s9gSY",
        "colab_type": "text"
      },
      "source": [
        "*    Two way and Three way Feature interaction"
      ]
    },
    {
      "cell_type": "code",
      "metadata": {
        "id": "QJwUu8KtW6dT",
        "colab_type": "code",
        "colab": {}
      },
      "source": [
        "x_train['X64 + X218']=x_train['X64']+x_train['X218']\n",
        "x_test['X64 + X218']=x_test['X64']+x_test['X218']\n",
        "\n",
        "x_train['X218 + X224 + X273']=x_train['X218']+x_train['X224'] + x_train['X273']\n",
        "x_test['X218 + X224 + X273']=x_test['X218']+x_test['X224'] + x_test['X273']\n",
        "\n",
        "x_train['X64 + X224 + X273']=x_train['X64']+x_train['X224'] + x_train['X273']\n",
        "x_test['X64 + X224 + X273']=x_test['X64']+x_test['X224'] + x_test['X273']\n",
        "\n",
        "\n",
        "x_train['X314 + X315']=x_train['X314']+x_train['X315']\n",
        "x_test['X314 + X315']=x_test['X314']+x_test['X315']\n",
        "\n",
        "x_train['X314 + X315 + X29']=x_train['X314']+x_train['X315'] + x_train['X29']\n",
        "x_test['X314 + X315 + X29']=x_test['X314']+x_test['X315'] + x_test['X29']\n",
        "\n",
        "x_train['X314 + X315 + X118']=x_train['X314']+x_train['X315'] + x_train['X118']\n",
        "x_test['X314 + X315 + X118']=x_test['X314']+x_test['X315'] + x_test['X118']\n",
        "\n",
        "x_train['X127 + X189']=x_train['X127']+x_train['X189']\n",
        "x_test['X127 + X189']=x_test['X127']+x_test['X189']\n",
        "\n",
        "x_train['X118 + X54']=x_train['X118']+x_train['X54']\n",
        "x_test['X118 + X54']=x_test['X118']+x_test['X54']\n"
      ],
      "execution_count": null,
      "outputs": []
    },
    {
      "cell_type": "code",
      "metadata": {
        "id": "ryI__Lom0xK8",
        "colab_type": "code",
        "colab": {
          "base_uri": "https://localhost:8080/",
          "height": 34
        },
        "outputId": "22173868-d4b9-4054-d202-80071b36f7f0"
      },
      "source": [
        "print(x_train.shape, x_test.shape)"
      ],
      "execution_count": null,
      "outputs": [
        {
          "output_type": "stream",
          "text": [
            "(3355, 202) (839, 202)\n"
          ],
          "name": "stdout"
        }
      ]
    },
    {
      "cell_type": "markdown",
      "metadata": {
        "id": "1i6SG0PY-uBj",
        "colab_type": "text"
      },
      "source": [
        "# 1:    RandomForestRegressor"
      ]
    },
    {
      "cell_type": "code",
      "metadata": {
        "id": "K16AspTbIcEY",
        "colab_type": "code",
        "colab": {
          "base_uri": "https://localhost:8080/",
          "height": 54
        },
        "outputId": "1bbfa051-e86a-443c-e08d-8fd9aef1e9fc"
      },
      "source": [
        "from sklearn.ensemble import RandomForestRegressor\n",
        "# n_estimators, max_features, max_depth, min_samples_split, min_samples_leaf, bootstrap\n",
        "from sklearn.model_selection import RandomizedSearchCV\n",
        "\n",
        "# Number of trees in a Random forest\n",
        "n_estimators=[int(x) for x in np.linspace (start=100, stop=1000, num=10)]\n",
        "\n",
        "# Number of features to consider at every split\n",
        "max_features=['auto', 'sqrt']\n",
        "\n",
        "# Maximun no of levels in a tree\n",
        "max_depth=[int(x) for x in np.linspace(10, 110, num = 11)]\n",
        "max_depth.append(None)\n",
        "\n",
        "# minimum number of samples required to split a node\n",
        "min_samples_split = np.arange(50,250,20)\n",
        "\n",
        "# Minimum number of samples required at each leaf node\n",
        "min_samples_leaf = np.arange(5,50,5)\n",
        "# Method of selecting samples for training each tree\n",
        "bootstrap = [True, False]\n",
        "\n",
        "# Create the random grid\n",
        "random_grid = {'n_estimators': n_estimators,\n",
        "               'max_features': max_features,\n",
        "               'max_depth': max_depth,\n",
        "               'min_samples_split': min_samples_split,\n",
        "               'min_samples_leaf': min_samples_leaf,\n",
        "               'bootstrap': bootstrap}\n",
        "print(random_grid)"
      ],
      "execution_count": null,
      "outputs": [
        {
          "output_type": "stream",
          "text": [
            "{'n_estimators': [100, 200, 300, 400, 500, 600, 700, 800, 900, 1000], 'max_features': ['auto', 'sqrt'], 'max_depth': [10, 20, 30, 40, 50, 60, 70, 80, 90, 100, 110, None], 'min_samples_split': array([ 50,  70,  90, 110, 130, 150, 170, 190, 210, 230]), 'min_samples_leaf': array([ 5, 10, 15, 20, 25, 30, 35, 40, 45]), 'bootstrap': [True, False]}\n"
          ],
          "name": "stdout"
        }
      ]
    },
    {
      "cell_type": "code",
      "metadata": {
        "id": "sbOaee98IcAq",
        "colab_type": "code",
        "colab": {
          "base_uri": "https://localhost:8080/",
          "height": 558
        },
        "outputId": "f3481d6a-57e1-47b1-f031-de46a0b7c218"
      },
      "source": [
        "# Use the random grid to search for best hyperparameters\n",
        "# First create the base model to tune\n",
        "rf = RandomForestRegressor()\n",
        "# Random search of parameters, using 3 fold cross validation, \n",
        "# search across 100 different combinations, and use all available cores\n",
        "rf_random = RandomizedSearchCV(estimator = rf, param_distributions = random_grid, n_iter = 100, cv = 3, verbose=2, random_state=42, n_jobs = -1)\n",
        "# Fit the random search model\n",
        "rf_random.fit(x_train, y_train)"
      ],
      "execution_count": null,
      "outputs": [
        {
          "output_type": "stream",
          "text": [
            "Fitting 3 folds for each of 100 candidates, totalling 300 fits\n"
          ],
          "name": "stdout"
        },
        {
          "output_type": "stream",
          "text": [
            "[Parallel(n_jobs=-1)]: Using backend LokyBackend with 2 concurrent workers.\n",
            "[Parallel(n_jobs=-1)]: Done  37 tasks      | elapsed:  3.0min\n",
            "[Parallel(n_jobs=-1)]: Done 158 tasks      | elapsed: 14.4min\n",
            "[Parallel(n_jobs=-1)]: Done 300 out of 300 | elapsed: 28.3min finished\n"
          ],
          "name": "stderr"
        },
        {
          "output_type": "execute_result",
          "data": {
            "text/plain": [
              "RandomizedSearchCV(cv=3, error_score=nan,\n",
              "                   estimator=RandomForestRegressor(bootstrap=True,\n",
              "                                                   ccp_alpha=0.0,\n",
              "                                                   criterion='mse',\n",
              "                                                   max_depth=None,\n",
              "                                                   max_features='auto',\n",
              "                                                   max_leaf_nodes=None,\n",
              "                                                   max_samples=None,\n",
              "                                                   min_impurity_decrease=0.0,\n",
              "                                                   min_impurity_split=None,\n",
              "                                                   min_samples_leaf=1,\n",
              "                                                   min_samples_split=2,\n",
              "                                                   min_weight_fraction_leaf=0.0,\n",
              "                                                   n_estimators=100,\n",
              "                                                   n_jobs=None, oob_score=Fals...\n",
              "                                        'max_depth': [10, 20, 30, 40, 50, 60,\n",
              "                                                      70, 80, 90, 100, 110,\n",
              "                                                      None],\n",
              "                                        'max_features': ['auto', 'sqrt'],\n",
              "                                        'min_samples_leaf': array([ 5, 10, 15, 20, 25, 30, 35, 40, 45]),\n",
              "                                        'min_samples_split': array([ 50,  70,  90, 110, 130, 150, 170, 190, 210, 230]),\n",
              "                                        'n_estimators': [100, 200, 300, 400,\n",
              "                                                         500, 600, 700, 800,\n",
              "                                                         900, 1000]},\n",
              "                   pre_dispatch='2*n_jobs', random_state=42, refit=True,\n",
              "                   return_train_score=False, scoring=None, verbose=2)"
            ]
          },
          "metadata": {
            "tags": []
          },
          "execution_count": 47
        }
      ]
    },
    {
      "cell_type": "code",
      "metadata": {
        "id": "cewwRTImIb9K",
        "colab_type": "code",
        "colab": {
          "base_uri": "https://localhost:8080/",
          "height": 118
        },
        "outputId": "932299a1-11ab-447b-d843-1716dcec1429"
      },
      "source": [
        "rf_random.best_params_"
      ],
      "execution_count": null,
      "outputs": [
        {
          "output_type": "execute_result",
          "data": {
            "text/plain": [
              "{'bootstrap': False,\n",
              " 'max_depth': 60,\n",
              " 'max_features': 'sqrt',\n",
              " 'min_samples_leaf': 5,\n",
              " 'min_samples_split': 150,\n",
              " 'n_estimators': 200}"
            ]
          },
          "metadata": {
            "tags": []
          },
          "execution_count": 52
        }
      ]
    },
    {
      "cell_type": "code",
      "metadata": {
        "id": "naWZqHCjlm1h",
        "colab_type": "code",
        "colab": {
          "base_uri": "https://localhost:8080/",
          "height": 134
        },
        "outputId": "51edac6b-81fa-45e8-d92d-38fa4eb7e405"
      },
      "source": [
        " best_rf=rf_random.best_estimator_\n",
        "best_rf"
      ],
      "execution_count": null,
      "outputs": [
        {
          "output_type": "execute_result",
          "data": {
            "text/plain": [
              "RandomForestRegressor(bootstrap=False, ccp_alpha=0.0, criterion='mse',\n",
              "                      max_depth=60, max_features='sqrt', max_leaf_nodes=None,\n",
              "                      max_samples=None, min_impurity_decrease=0.0,\n",
              "                      min_impurity_split=None, min_samples_leaf=5,\n",
              "                      min_samples_split=150, min_weight_fraction_leaf=0.0,\n",
              "                      n_estimators=200, n_jobs=None, oob_score=False,\n",
              "                      random_state=None, verbose=0, warm_start=False)"
            ]
          },
          "metadata": {
            "tags": []
          },
          "execution_count": 53
        }
      ]
    },
    {
      "cell_type": "code",
      "metadata": {
        "id": "Glw5Xj4l_MnC",
        "colab_type": "code",
        "colab": {}
      },
      "source": [
        "#temp\n",
        "best_rf= RandomForestRegressor(bootstrap=False, ccp_alpha=0.0, criterion='mse',\n",
        "                      max_depth=60, max_features='sqrt', max_leaf_nodes=None,\n",
        "                      max_samples=None, min_impurity_decrease=0.0,\n",
        "                      min_impurity_split=None, min_samples_leaf=5,\n",
        "                      min_samples_split=150, min_weight_fraction_leaf=0.0,\n",
        "                      n_estimators=200, n_jobs=None, oob_score=False,\n",
        "                      random_state=None, verbose=0, warm_start=False)"
      ],
      "execution_count": null,
      "outputs": []
    },
    {
      "cell_type": "code",
      "metadata": {
        "id": "sCHSnhkFEVnO",
        "colab_type": "code",
        "colab": {}
      },
      "source": [
        "# fitting the best model on to the dataset\n",
        "best_rf.fit(x_train, y_train)\n",
        "y_train_pred=best_rf.predict(x_train)\n",
        "y_test_pred=best_rf.predict(x_test)"
      ],
      "execution_count": null,
      "outputs": []
    },
    {
      "cell_type": "code",
      "metadata": {
        "id": "KotaS-fbEVzs",
        "colab_type": "code",
        "colab": {
          "base_uri": "https://localhost:8080/",
          "height": 688
        },
        "outputId": "95b2dfef-0042-4475-ce83-b283a81c876b"
      },
      "source": [
        "features = x_train.columns\n",
        "importances = best_rf.feature_importances_\n",
        "indices = (np.argsort(importances))[-40:]\n",
        "plt.figure(figsize=(10,12))\n",
        "plt.title('Feature Importances')\n",
        "plt.barh(range(len(indices)), importances[indices], color='r', align='center')\n",
        "plt.yticks(range(len(indices)), [features[i] for i in indices])\n",
        "plt.xlabel('Relative Importance')\n",
        "plt.grid()\n",
        "plt.show()"
      ],
      "execution_count": null,
      "outputs": [
        {
          "output_type": "display_data",
          "data": {
            "image/png": "[encoded data removed]",
            "text/plain": [
              "<Figure size 720x864 with 1 Axes>"
            ]
          },
          "metadata": {
            "tags": [],
            "needs_background": "light"
          }
        }
      ]
    },
    {
      "cell_type": "code",
      "metadata": {
        "id": "yrCc3lgvEVwJ",
        "colab_type": "code",
        "colab": {
          "base_uri": "https://localhost:8080/",
          "height": 67
        },
        "outputId": "2e7d581e-1e01-4e99-ce9c-ae1a66892c77"
      },
      "source": [
        "# checking r2 score\n",
        "from sklearn.metrics import r2_score\n",
        "print('train r2_score', r2_score(y_train, y_train_pred))\n",
        "print('='*30)\n",
        "print('test r2_score', r2_score(y_test, y_test_pred))"
      ],
      "execution_count": null,
      "outputs": [
        {
          "output_type": "stream",
          "text": [
            "train r2_score 0.6574681408333823\n",
            "==============================\n",
            "test r2_score 0.6483743021527534\n"
          ],
          "name": "stdout"
        }
      ]
    },
    {
      "cell_type": "markdown",
      "metadata": {
        "id": "2YVGRKxsChaY",
        "colab_type": "text"
      },
      "source": [
        "# 2:     XGBoostRegressor"
      ]
    },
    {
      "cell_type": "code",
      "metadata": {
        "id": "r9qTv6GZVLVK",
        "colab_type": "code",
        "colab": {}
      },
      "source": [
        "import xgboost as xgb"
      ],
      "execution_count": null,
      "outputs": []
    },
    {
      "cell_type": "code",
      "metadata": {
        "id": "sYitONM4eZiB",
        "colab_type": "code",
        "colab": {
          "base_uri": "https://localhost:8080/",
          "height": 54
        },
        "outputId": "481bbf34-cf19-4680-b83b-a20a807437fb"
      },
      "source": [
        "xgb_model=xgb.XGBRegressor()\n",
        "xgb_model.fit(x_train, y_train)\n",
        "y_pred=xgb_model.predict(x_train)\n",
        "learning_rate=[0.001, 0.01, 0.1, 0.2, 0.3]\n",
        "n_estimators=[50, 100, 150, 200, 250, 300]\n",
        "hyperparameters= dict(learning_rate=learning_rate, n_estimators=n_estimators)\n"
      ],
      "execution_count": null,
      "outputs": [
        {
          "output_type": "stream",
          "text": [
            "[05:33:46] WARNING: /workspace/src/objective/regression_obj.cu:152: reg:linear is now deprecated in favor of reg:squarederror.\n"
          ],
          "name": "stdout"
        }
      ]
    },
    {
      "cell_type": "code",
      "metadata": {
        "id": "iZTriHKOeZvn",
        "colab_type": "code",
        "colab": {}
      },
      "source": [
        "from sklearn.model_selection import RandomizedSearchCV\n",
        "rsearch = RandomizedSearchCV(xgb_model, hyperparameters, n_iter=10, random_state=41)\n",
        "rsearch.fit(x_train, y_train)"
      ],
      "execution_count": null,
      "outputs": []
    },
    {
      "cell_type": "code",
      "metadata": {
        "id": "-UJARBTJ1yVk",
        "colab_type": "code",
        "colab": {
          "base_uri": "https://localhost:8080/",
          "height": 34
        },
        "outputId": "6fcda2da-6b51-455d-cf8e-2a0b05b890e9"
      },
      "source": [
        "print(rsearch.best_params_)"
      ],
      "execution_count": null,
      "outputs": [
        {
          "output_type": "stream",
          "text": [
            "{'n_estimators': 150, 'learning_rate': 0.1}\n"
          ],
          "name": "stdout"
        }
      ]
    },
    {
      "cell_type": "code",
      "metadata": {
        "id": "ao8ECBHfeZ8W",
        "colab_type": "code",
        "colab": {
          "base_uri": "https://localhost:8080/",
          "height": 850,
          "referenced_widgets": [
            "0b5ac423907148a3ba31dc9c1827f22d",
            "d370da1f33f84022b3734b9224739353",
            "4892ce84380449039da4e3a90326263a",
            "ac1de080f6204464b15d61bb7bd62e92",
            "f8d91365937449ee86b50a729f59b42b",
            "ce30eaace55c4830af36f2ea00d70603",
            "d711f3cf292f46538a6708f3eba6a560",
            "4a1dcccb9b754b18880dc456392cf4ac",
            "2c506d560c3e4220a9b9e4375333f3c3",
            "3253cc2465f040418f7dfec635969a23",
            "faf9a841cb0a4fa4a82d12e17d19116c",
            "1c58e956bb1c45a29d04cb0707908458",
            "035f985400ee4fe688d8e14a1c390f93",
            "4c1f1f41fbb44cd7bfbe54200907aa8a",
            "00490a5adce14725bb13db0246f479a8",
            "72ab8e80dc3b46ef9339ecc429468acb",
            "e8e55a865dcc4d139a427a6bee83d0ee",
            "bf9f688e41d74ce880148f18ffe17d32",
            "a7e45bcbc1724676847a07bde6db6039",
            "eba0769f245a4f6284fa8df54438c10e",
            "bd4ff362b3b94ab28017f665a61aa7c5",
            "852865a6320a4e00bb0fdf6a54258720",
            "163ca5460f194f5da5a52bf433b33610",
            "25c8c0315b1e4217a725549d2bce453f",
            "0a221486a46545a59c7f51fdfcbadbdd",
            "281b293a33c44af4b51643be020f013f",
            "b5a3f0f760854259a476b333cf4b2d60",
            "af1ec4fc4c87457d87b80ab8584ba19c",
            "b6780a9c50314680b6e4eb74ddb67d9c",
            "a8d26d474f0c4388a987744f9675e487",
            "2586df23cf094d9ebc9d9acd1c711bd3",
            "f66a27def2e749b59d372e67ba28211d",
            "ecc30bea48f04bbd9f11988acf7ed472",
            "64516c02978645128c04fdc0f103d961",
            "26bc2bb59b0144029827c221c096f80b",
            "2d3b0c66163f4fe6b516745d14bfa3ca",
            "6f115b45b7494159b68e5831220b241c",
            "aefa8d62a0994156b5cd476f7731592c",
            "045bc80d3f0749d180371ac19af1995f",
            "903c874ebd824ed59b5510a663e5d6fb",
            "5a6f8144ac9e4e3d86e3b75d11bfd8dd",
            "f30d1bf329114f7a9a5a489e44ad6b3d",
            "65fefe98e55849d2a5c52d0779202ffe",
            "8c9c4c9023a744c1ae97c5bdd49e23fe",
            "8b32ba6009a946919125b22c8e9145a8",
            "1ad2f83614424fa9a3ae4ecabf40c698",
            "07a987e1748847a099f05f0d0678dda9",
            "63cfd0195c404472a053c8f42a802db5"
          ]
        },
        "outputId": "8a612471-7ece-459e-dae9-9f7276b60525"
      },
      "source": [
        "from sklearn.metrics import r2_score\n",
        "train_r2=[]\n",
        "cv_r2=[]\n",
        "dict_cv_r2={}\n",
        "learning_rate=[0.3, 0.2, 0.1, 0.01, 0.001]\n",
        "n_estimators=[50, 100, 150, 200, 250, 300]\n",
        "for i in tqdm_notebook(learning_rate):\n",
        "    for j in tqdm_notebook(n_estimators):\n",
        "        xb=xgb.XGBRegressor(learning_rate=i,n_estimators=j)\n",
        "        xb.fit(x_train,y_train)\n",
        "        y_cap_train=xb.predict(x_train)\n",
        "        y_cap_cv=xb.predict(x_test)\n",
        "        train_r2.append(r2_score(y_train,y_cap_train))\n",
        "        k=r2_score(y_test,y_cap_cv)\n",
        "        dict_cv_r2[k]=i,j\n",
        "        cv_r2.append(r2_score(y_test,y_cap_cv)) \n",
        "maximum_auc_score=max(cv_r2)\n",
        "print(maximum_auc_score)"
      ],
      "execution_count": null,
      "outputs": [
        {
          "output_type": "display_data",
          "data": {
            "application/vnd.jupyter.widget-view+json": {
              "model_id": "0b5ac423907148a3ba31dc9c1827f22d",
              "version_minor": 0,
              "version_major": 2
            },
            "text/plain": [
              "HBox(children=(FloatProgress(value=0.0, max=5.0), HTML(value='')))"
            ]
          },
          "metadata": {
            "tags": []
          }
        },
        {
          "output_type": "display_data",
          "data": {
            "application/vnd.jupyter.widget-view+json": {
              "model_id": "2c506d560c3e4220a9b9e4375333f3c3",
              "version_minor": 0,
              "version_major": 2
            },
            "text/plain": [
              "HBox(children=(FloatProgress(value=0.0, max=6.0), HTML(value='')))"
            ]
          },
          "metadata": {
            "tags": []
          }
        },
        {
          "output_type": "stream",
          "text": [
            "[05:35:56] WARNING: /workspace/src/objective/regression_obj.cu:152: reg:linear is now deprecated in favor of reg:squarederror.\n",
            "[05:35:57] WARNING: /workspace/src/objective/regression_obj.cu:152: reg:linear is now deprecated in favor of reg:squarederror.\n",
            "[05:35:58] WARNING: /workspace/src/objective/regression_obj.cu:152: reg:linear is now deprecated in favor of reg:squarederror.\n",
            "[05:36:01] WARNING: /workspace/src/objective/regression_obj.cu:152: reg:linear is now deprecated in favor of reg:squarederror.\n",
            "[05:36:04] WARNING: /workspace/src/objective/regression_obj.cu:152: reg:linear is now deprecated in favor of reg:squarederror.\n",
            "[05:36:08] WARNING: /workspace/src/objective/regression_obj.cu:152: reg:linear is now deprecated in favor of reg:squarederror.\n",
            "\n"
          ],
          "name": "stdout"
        },
        {
          "output_type": "display_data",
          "data": {
            "application/vnd.jupyter.widget-view+json": {
              "model_id": "e8e55a865dcc4d139a427a6bee83d0ee",
              "version_minor": 0,
              "version_major": 2
            },
            "text/plain": [
              "HBox(children=(FloatProgress(value=0.0, max=6.0), HTML(value='')))"
            ]
          },
          "metadata": {
            "tags": []
          }
        },
        {
          "output_type": "stream",
          "text": [
            "[05:36:13] WARNING: /workspace/src/objective/regression_obj.cu:152: reg:linear is now deprecated in favor of reg:squarederror.\n",
            "[05:36:14] WARNING: /workspace/src/objective/regression_obj.cu:152: reg:linear is now deprecated in favor of reg:squarederror.\n",
            "[05:36:15] WARNING: /workspace/src/objective/regression_obj.cu:152: reg:linear is now deprecated in favor of reg:squarederror.\n",
            "[05:36:18] WARNING: /workspace/src/objective/regression_obj.cu:152: reg:linear is now deprecated in favor of reg:squarederror.\n",
            "[05:36:21] WARNING: /workspace/src/objective/regression_obj.cu:152: reg:linear is now deprecated in favor of reg:squarederror.\n",
            "[05:36:25] WARNING: /workspace/src/objective/regression_obj.cu:152: reg:linear is now deprecated in favor of reg:squarederror.\n",
            "\n"
          ],
          "name": "stdout"
        },
        {
          "output_type": "display_data",
          "data": {
            "application/vnd.jupyter.widget-view+json": {
              "model_id": "0a221486a46545a59c7f51fdfcbadbdd",
              "version_minor": 0,
              "version_major": 2
            },
            "text/plain": [
              "HBox(children=(FloatProgress(value=0.0, max=6.0), HTML(value='')))"
            ]
          },
          "metadata": {
            "tags": []
          }
        },
        {
          "output_type": "stream",
          "text": [
            "[05:36:30] WARNING: /workspace/src/objective/regression_obj.cu:152: reg:linear is now deprecated in favor of reg:squarederror.\n",
            "[05:36:31] WARNING: /workspace/src/objective/regression_obj.cu:152: reg:linear is now deprecated in favor of reg:squarederror.\n",
            "[05:36:32] WARNING: /workspace/src/objective/regression_obj.cu:152: reg:linear is now deprecated in favor of reg:squarederror.\n",
            "[05:36:35] WARNING: /workspace/src/objective/regression_obj.cu:152: reg:linear is now deprecated in favor of reg:squarederror.\n",
            "[05:36:38] WARNING: /workspace/src/objective/regression_obj.cu:152: reg:linear is now deprecated in favor of reg:squarederror.\n",
            "[05:36:42] WARNING: /workspace/src/objective/regression_obj.cu:152: reg:linear is now deprecated in favor of reg:squarederror.\n",
            "\n"
          ],
          "name": "stdout"
        },
        {
          "output_type": "display_data",
          "data": {
            "application/vnd.jupyter.widget-view+json": {
              "model_id": "ecc30bea48f04bbd9f11988acf7ed472",
              "version_minor": 0,
              "version_major": 2
            },
            "text/plain": [
              "HBox(children=(FloatProgress(value=0.0, max=6.0), HTML(value='')))"
            ]
          },
          "metadata": {
            "tags": []
          }
        },
        {
          "output_type": "stream",
          "text": [
            "[05:36:47] WARNING: /workspace/src/objective/regression_obj.cu:152: reg:linear is now deprecated in favor of reg:squarederror.\n",
            "[05:36:48] WARNING: /workspace/src/objective/regression_obj.cu:152: reg:linear is now deprecated in favor of reg:squarederror.\n",
            "[05:36:49] WARNING: /workspace/src/objective/regression_obj.cu:152: reg:linear is now deprecated in favor of reg:squarederror.\n",
            "[05:36:52] WARNING: /workspace/src/objective/regression_obj.cu:152: reg:linear is now deprecated in favor of reg:squarederror.\n",
            "[05:36:55] WARNING: /workspace/src/objective/regression_obj.cu:152: reg:linear is now deprecated in favor of reg:squarederror.\n",
            "[05:36:59] WARNING: /workspace/src/objective/regression_obj.cu:152: reg:linear is now deprecated in favor of reg:squarederror.\n",
            "\n"
          ],
          "name": "stdout"
        },
        {
          "output_type": "display_data",
          "data": {
            "application/vnd.jupyter.widget-view+json": {
              "model_id": "5a6f8144ac9e4e3d86e3b75d11bfd8dd",
              "version_minor": 0,
              "version_major": 2
            },
            "text/plain": [
              "HBox(children=(FloatProgress(value=0.0, max=6.0), HTML(value='')))"
            ]
          },
          "metadata": {
            "tags": []
          }
        },
        {
          "output_type": "stream",
          "text": [
            "[05:37:04] WARNING: /workspace/src/objective/regression_obj.cu:152: reg:linear is now deprecated in favor of reg:squarederror.\n",
            "[05:37:05] WARNING: /workspace/src/objective/regression_obj.cu:152: reg:linear is now deprecated in favor of reg:squarederror.\n",
            "[05:37:07] WARNING: /workspace/src/objective/regression_obj.cu:152: reg:linear is now deprecated in favor of reg:squarederror.\n",
            "[05:37:09] WARNING: /workspace/src/objective/regression_obj.cu:152: reg:linear is now deprecated in favor of reg:squarederror.\n",
            "[05:37:12] WARNING: /workspace/src/objective/regression_obj.cu:152: reg:linear is now deprecated in favor of reg:squarederror.\n",
            "[05:37:16] WARNING: /workspace/src/objective/regression_obj.cu:152: reg:linear is now deprecated in favor of reg:squarederror.\n",
            "\n",
            "\n",
            "0.6604956264525383\n"
          ],
          "name": "stdout"
        }
      ]
    },
    {
      "cell_type": "code",
      "metadata": {
        "id": "LEdr5QNaeZpj",
        "colab_type": "code",
        "colab": {
          "base_uri": "https://localhost:8080/",
          "height": 70
        },
        "outputId": "d9986217-1b53-49b8-cf82-0b3a7a4113f7"
      },
      "source": [
        "print(dict_cv_r2)\n",
        "dict_cv_r2[maximum_auc_score]"
      ],
      "execution_count": null,
      "outputs": [
        {
          "output_type": "stream",
          "text": [
            "{0.6402537526049236: (0.3, 50), 0.6252262886435493: (0.3, 100), 0.6157867395052805: (0.3, 150), 0.6022101794445373: (0.3, 200), 0.5986576037823697: (0.3, 250), 0.5920276258487682: (0.3, 300), 0.6495058123974411: (0.2, 50), 0.6401937386689296: (0.2, 100), 0.6297822884109171: (0.2, 150), 0.61793390034962: (0.2, 200), 0.6106101680890954: (0.2, 250), 0.6065947849425557: (0.2, 300), 0.6604956264525383: (0.1, 50), 0.6551932464695924: (0.1, 100), 0.6510758493146287: (0.1, 150), 0.6476432584046412: (0.1, 200), 0.6424447767045449: (0.1, 250), 0.6376118929053608: (0.1, 300), -23.763886395441098: (0.01, 50), -8.212041981330602: (0.01, 100), -2.539177130594942: (0.01, 150), -0.4795579683228388: (0.01, 200), 0.2627329638286101: (0.01, 250), 0.5260536615591418: (0.01, 300), -59.95013183340117: (0.001, 50), -54.161392119137304: (0.001, 100), -48.92440388830799: (0.001, 150), -44.18663367933654: (0.001, 200), -39.90054617843785: (0.001, 250), -36.02313778578405: (0.001, 300)}\n"
          ],
          "name": "stdout"
        },
        {
          "output_type": "execute_result",
          "data": {
            "text/plain": [
              "(0.1, 50)"
            ]
          },
          "metadata": {
            "tags": []
          },
          "execution_count": 62
        }
      ]
    },
    {
      "cell_type": "code",
      "metadata": {
        "colab_type": "code",
        "id": "1BAZVBrcINnX",
        "colab": {
          "base_uri": "https://localhost:8080/",
          "height": 134
        },
        "outputId": "0f72300b-c727-46c2-f516-41c2ca335878"
      },
      "source": [
        "best_xgb=rsearch.best_estimator_\n",
        "best_xgb"
      ],
      "execution_count": null,
      "outputs": [
        {
          "output_type": "execute_result",
          "data": {
            "text/plain": [
              "XGBRegressor(base_score=0.5, booster='gbtree', colsample_bylevel=1,\n",
              "             colsample_bynode=1, colsample_bytree=1, gamma=0,\n",
              "             importance_type='gain', learning_rate=0.1, max_delta_step=0,\n",
              "             max_depth=3, min_child_weight=1, missing=None, n_estimators=150,\n",
              "             n_jobs=1, nthread=None, objective='reg:linear', random_state=0,\n",
              "             reg_alpha=0, reg_lambda=1, scale_pos_weight=1, seed=None,\n",
              "             silent=None, subsample=1, verbosity=1)"
            ]
          },
          "metadata": {
            "tags": []
          },
          "execution_count": 63
        }
      ]
    },
    {
      "cell_type": "code",
      "metadata": {
        "colab_type": "code",
        "id": "21kOWY6kINnc",
        "colab": {
          "base_uri": "https://localhost:8080/",
          "height": 54
        },
        "outputId": "ff446577-c9b6-4946-d880-725f7a699c90"
      },
      "source": [
        "# fitting the best model on to the dataset\n",
        "best_xgb.fit(x_train, y_train)\n",
        "y_train_pred=best_xgb.predict(x_train)\n",
        "y_test_pred=best_xgb.predict(x_test)"
      ],
      "execution_count": null,
      "outputs": [
        {
          "output_type": "stream",
          "text": [
            "[05:37:21] WARNING: /workspace/src/objective/regression_obj.cu:152: reg:linear is now deprecated in favor of reg:squarederror.\n"
          ],
          "name": "stdout"
        }
      ]
    },
    {
      "cell_type": "code",
      "metadata": {
        "colab_type": "code",
        "id": "hDsURpRFINne",
        "colab": {
          "base_uri": "https://localhost:8080/",
          "height": 688
        },
        "outputId": "5b79a70c-f52e-4d7d-dc42-3d296f1a8d4b"
      },
      "source": [
        "import matplotlib.pyplot as plt\n",
        "features = x_train.columns\n",
        "importances = best_xgb.feature_importances_\n",
        "indices = (np.argsort(importances))[-40:]\n",
        "plt.figure(figsize=(10,12))\n",
        "plt.title('Feature Importances')\n",
        "plt.barh(range(len(indices)), importances[indices], color='r', align='center')\n",
        "plt.yticks(range(len(indices)), [features[i] for i in indices])\n",
        "plt.xlabel('Relative Importance')\n",
        "plt.grid()\n",
        "plt.show()"
      ],
      "execution_count": null,
      "outputs": [
        {
          "output_type": "display_data",
          "data": {
            "image/png": "[encoded data removed]",
            "text/plain": [
              "<Figure size 720x864 with 1 Axes>"
            ]
          },
          "metadata": {
            "tags": [],
            "needs_background": "light"
          }
        }
      ]
    },
    {
      "cell_type": "code",
      "metadata": {
        "colab_type": "code",
        "id": "6DJGRE-EINng",
        "colab": {
          "base_uri": "https://localhost:8080/",
          "height": 67
        },
        "outputId": "bac5f9a4-fe7e-498e-8c7b-eaa7dc4191a9"
      },
      "source": [
        "# checking r2 score\n",
        "from sklearn.metrics import r2_score\n",
        "print('train r2_score', r2_score(y_train, y_train_pred))\n",
        "print('='*30)\n",
        "print('test r2_score', r2_score(y_test, y_test_pred))"
      ],
      "execution_count": null,
      "outputs": [
        {
          "output_type": "stream",
          "text": [
            "train r2_score 0.6931087582848501\n",
            "==============================\n",
            "test r2_score 0.6510758493146287\n"
          ],
          "name": "stdout"
        }
      ]
    },
    {
      "cell_type": "markdown",
      "metadata": {
        "id": "-2t16uknWSoH",
        "colab_type": "text"
      },
      "source": [
        "# 3:    DecisionTreeRegressor"
      ]
    },
    {
      "cell_type": "code",
      "metadata": {
        "id": "24UANMFKtM-2",
        "colab_type": "code",
        "colab": {
          "base_uri": "https://localhost:8080/",
          "height": 118
        },
        "outputId": "815734ef-e842-4616-f381-098154844d19"
      },
      "source": [
        "from sklearn.tree import DecisionTreeRegressor\n",
        "dt_model=DecisionTreeRegressor()\n",
        "dt_model"
      ],
      "execution_count": null,
      "outputs": [
        {
          "output_type": "execute_result",
          "data": {
            "text/plain": [
              "DecisionTreeRegressor(ccp_alpha=0.0, criterion='mse', max_depth=None,\n",
              "                      max_features=None, max_leaf_nodes=None,\n",
              "                      min_impurity_decrease=0.0, min_impurity_split=None,\n",
              "                      min_samples_leaf=1, min_samples_split=2,\n",
              "                      min_weight_fraction_leaf=0.0, presort='deprecated',\n",
              "                      random_state=None, splitter='best')"
            ]
          },
          "metadata": {
            "tags": []
          },
          "execution_count": 67
        }
      ]
    },
    {
      "cell_type": "code",
      "metadata": {
        "id": "7-Cs09EUtM6P",
        "colab_type": "code",
        "colab": {}
      },
      "source": [
        "max_depth=[1, 5, 10, 50]\n",
        "min_samples_split=[5, 10, 100, 500]\n",
        "hyperparameters= dict(max_depth=max_depth, min_samples_split=min_samples_split)\n"
      ],
      "execution_count": null,
      "outputs": []
    },
    {
      "cell_type": "code",
      "metadata": {
        "id": "trwQGaMhtM1d",
        "colab_type": "code",
        "colab": {
          "base_uri": "https://localhost:8080/",
          "height": 34
        },
        "outputId": "18d2e868-b20c-44b0-8d55-9e305e5e8f09"
      },
      "source": [
        "from sklearn.model_selection import RandomizedSearchCV\n",
        "rsearch = RandomizedSearchCV(dt_model, hyperparameters, n_iter=10, random_state=41)\n",
        "rsearch.fit(x_train, y_train)\n",
        "print(rsearch.best_params_)"
      ],
      "execution_count": null,
      "outputs": [
        {
          "output_type": "stream",
          "text": [
            "{'min_samples_split': 500, 'max_depth': 5}\n"
          ],
          "name": "stdout"
        }
      ]
    },
    {
      "cell_type": "code",
      "metadata": {
        "colab_type": "code",
        "id": "2ZeFI22bQPYo",
        "colab": {
          "base_uri": "https://localhost:8080/",
          "height": 34
        },
        "outputId": "e469ef63-65cd-4d4c-f9c4-3b66ec25731b"
      },
      "source": [
        "rsearch.best_params_"
      ],
      "execution_count": null,
      "outputs": [
        {
          "output_type": "execute_result",
          "data": {
            "text/plain": [
              "{'max_depth': 5, 'min_samples_split': 500}"
            ]
          },
          "metadata": {
            "tags": []
          },
          "execution_count": 70
        }
      ]
    },
    {
      "cell_type": "code",
      "metadata": {
        "colab_type": "code",
        "id": "aO4rOHozQPYr",
        "colab": {
          "base_uri": "https://localhost:8080/",
          "height": 118
        },
        "outputId": "c3472635-b3c1-4c22-cb83-ee7f637c4425"
      },
      "source": [
        "best_dt=rsearch.best_estimator_\n",
        "best_dt"
      ],
      "execution_count": null,
      "outputs": [
        {
          "output_type": "execute_result",
          "data": {
            "text/plain": [
              "DecisionTreeRegressor(ccp_alpha=0.0, criterion='mse', max_depth=5,\n",
              "                      max_features=None, max_leaf_nodes=None,\n",
              "                      min_impurity_decrease=0.0, min_impurity_split=None,\n",
              "                      min_samples_leaf=1, min_samples_split=500,\n",
              "                      min_weight_fraction_leaf=0.0, presort='deprecated',\n",
              "                      random_state=None, splitter='best')"
            ]
          },
          "metadata": {
            "tags": []
          },
          "execution_count": 71
        }
      ]
    },
    {
      "cell_type": "code",
      "metadata": {
        "colab_type": "code",
        "id": "ztwGptgCQPYt",
        "colab": {}
      },
      "source": [
        "# fitting the best model on to the dataset\n",
        "best_dt.fit(x_train, y_train)\n",
        "y_train_pred=best_dt.predict(x_train)\n",
        "y_test_pred=best_dt.predict(x_test)"
      ],
      "execution_count": null,
      "outputs": []
    },
    {
      "cell_type": "code",
      "metadata": {
        "colab_type": "code",
        "id": "vFD08vnvQPYv",
        "colab": {
          "base_uri": "https://localhost:8080/",
          "height": 730
        },
        "outputId": "f998ca46-0d59-4279-81ba-86eedad7e4e5"
      },
      "source": [
        "import matplotlib.pyplot as plt\n",
        "features = x_train.columns\n",
        "importances = best_dt.feature_importances_\n",
        "indices = (np.argsort(importances))[-40:]\n",
        "plt.figure(figsize=(10,12))\n",
        "plt.title('Feature Importances')\n",
        "plt.barh(range(len(indices)), importances[indices], color='r', align='center')\n",
        "plt.yticks(range(len(indices)), [features[i] for i in indices])\n",
        "plt.xlabel('Relative Importance')\n",
        "plt.grid()\n",
        "plt.show()"
      ],
      "execution_count": null,
      "outputs": [
        {
          "output_type": "display_data",
          "data": {
            "image/png": "[encoded data removed]",
            "text/plain": [
              "<Figure size 720x864 with 1 Axes>"
            ]
          },
          "metadata": {
            "tags": [],
            "needs_background": "light"
          }
        }
      ]
    },
    {
      "cell_type": "code",
      "metadata": {
        "colab_type": "code",
        "id": "xBRQQwaCQPYw",
        "colab": {
          "base_uri": "https://localhost:8080/",
          "height": 67
        },
        "outputId": "05607e38-02cb-462d-9799-9f0ae2f11dc5"
      },
      "source": [
        "# checking r2 score\n",
        "from sklearn.metrics import r2_score\n",
        "print('train r2_score', r2_score(y_train, y_train_pred))\n",
        "print('='*30)\n",
        "print('test r2_score', r2_score(y_test, y_test_pred))"
      ],
      "execution_count": null,
      "outputs": [
        {
          "output_type": "stream",
          "text": [
            "train r2_score 0.6290528360587266\n",
            "==============================\n",
            "test r2_score 0.6554069343566447\n"
          ],
          "name": "stdout"
        }
      ]
    },
    {
      "cell_type": "markdown",
      "metadata": {
        "id": "r95P3Ud7bvVR",
        "colab_type": "text"
      },
      "source": [
        "# 4: Ridge Regressor"
      ]
    },
    {
      "cell_type": "code",
      "metadata": {
        "id": "jCOZ8gkZYpdN",
        "colab_type": "code",
        "colab": {
          "base_uri": "https://localhost:8080/",
          "height": 50
        },
        "outputId": "8109ffe8-ffdc-477f-dde4-aa6a59344fe9"
      },
      "source": [
        "from sklearn.linear_model import Ridge\n",
        "ridge_regressor= Ridge()\n",
        "ridge_regressor"
      ],
      "execution_count": null,
      "outputs": [
        {
          "output_type": "execute_result",
          "data": {
            "text/plain": [
              "Ridge(alpha=1.0, copy_X=True, fit_intercept=True, max_iter=None,\n",
              "      normalize=False, random_state=None, solver='auto', tol=0.001)"
            ]
          },
          "metadata": {
            "tags": []
          },
          "execution_count": 80
        }
      ]
    },
    {
      "cell_type": "code",
      "metadata": {
        "id": "lr0wxMbcrl3i",
        "colab_type": "code",
        "colab": {
          "base_uri": "https://localhost:8080/",
          "height": 151
        },
        "outputId": "38aee72a-bbb0-488f-a50d-87ffb7366e28"
      },
      "source": [
        "parameters= {'alpha': [10,20,  50, 100, 150, 200, 250, 300]}\n",
        "ridge_grid_scv= GridSearchCV(ridge_regressor, parameters, scoring='r2', cv=5)\n",
        "ridge_grid_scv.fit(x_train, y_train)"
      ],
      "execution_count": null,
      "outputs": [
        {
          "output_type": "execute_result",
          "data": {
            "text/plain": [
              "GridSearchCV(cv=5, error_score=nan,\n",
              "             estimator=Ridge(alpha=1.0, copy_X=True, fit_intercept=True,\n",
              "                             max_iter=None, normalize=False, random_state=None,\n",
              "                             solver='auto', tol=0.001),\n",
              "             iid='deprecated', n_jobs=None,\n",
              "             param_grid={'alpha': [10, 20, 50, 100, 150, 200, 250, 300]},\n",
              "             pre_dispatch='2*n_jobs', refit=True, return_train_score=False,\n",
              "             scoring='r2', verbose=0)"
            ]
          },
          "metadata": {
            "tags": []
          },
          "execution_count": 81
        }
      ]
    },
    {
      "cell_type": "code",
      "metadata": {
        "id": "GHlwrFVFsUTu",
        "colab_type": "code",
        "colab": {
          "base_uri": "https://localhost:8080/",
          "height": 50
        },
        "outputId": "9e21bdf7-ba31-4dcd-f2ba-20cbe6b93720"
      },
      "source": [
        "print(ridge_grid_scv.best_params_)\n",
        "print(ridge_grid_scv.best_score_)"
      ],
      "execution_count": null,
      "outputs": [
        {
          "output_type": "stream",
          "text": [
            "{'alpha': 50}\n",
            "0.5954015864151923\n"
          ],
          "name": "stdout"
        }
      ]
    },
    {
      "cell_type": "code",
      "metadata": {
        "id": "cvLNqk5ysUuz",
        "colab_type": "code",
        "colab": {
          "base_uri": "https://localhost:8080/",
          "height": 50
        },
        "outputId": "b02f4876-b943-4dd0-c567-fd80bd9aa719"
      },
      "source": [
        "ridge_regressor= Ridge(alpha=50)\n",
        "ridge_regressor"
      ],
      "execution_count": null,
      "outputs": [
        {
          "output_type": "execute_result",
          "data": {
            "text/plain": [
              "Ridge(alpha=50, copy_X=True, fit_intercept=True, max_iter=None, normalize=False,\n",
              "      random_state=None, solver='auto', tol=0.001)"
            ]
          },
          "metadata": {
            "tags": []
          },
          "execution_count": 83
        }
      ]
    },
    {
      "cell_type": "code",
      "metadata": {
        "colab_type": "code",
        "id": "yUVpKnoogXWU",
        "colab": {}
      },
      "source": [
        "ridge_regressor.fit(x_train, y_train)\n",
        "y_train_pred=ridge_regressor.predict(x_train)\n",
        "y_test_pred =ridge_regressor.predict(x_test)"
      ],
      "execution_count": null,
      "outputs": []
    },
    {
      "cell_type": "code",
      "metadata": {
        "colab_type": "code",
        "id": "Vjgh-2IZgXWW",
        "colab": {
          "base_uri": "https://localhost:8080/",
          "height": 67
        },
        "outputId": "232363be-d243-4d06-92ce-6cc5a2b11960"
      },
      "source": [
        "# checking r2 score\n",
        "from sklearn.metrics import r2_score\n",
        "print('train r2_score', r2_score(y_train, y_train_pred))\n",
        "print('='*30)\n",
        "print('test r2_score', r2_score(y_test, y_test_pred))"
      ],
      "execution_count": null,
      "outputs": [
        {
          "output_type": "stream",
          "text": [
            "train r2_score 0.622606917016735\n",
            "==============================\n",
            "test r2_score 0.6398563894858129\n"
          ],
          "name": "stdout"
        }
      ]
    },
    {
      "cell_type": "markdown",
      "metadata": {
        "id": "s0Ub3rE6s-60",
        "colab_type": "text"
      },
      "source": [
        "# 5: Lasso Regressor"
      ]
    },
    {
      "cell_type": "code",
      "metadata": {
        "id": "ZBfTg4DSbuNR",
        "colab_type": "code",
        "colab": {
          "base_uri": "https://localhost:8080/",
          "height": 67
        },
        "outputId": "fdde8ac7-0a58-42d4-86e6-815c9f536e3a"
      },
      "source": [
        "lasso= Lasso()\n",
        "lasso"
      ],
      "execution_count": null,
      "outputs": [
        {
          "output_type": "execute_result",
          "data": {
            "text/plain": [
              "Lasso(alpha=1.0, copy_X=True, fit_intercept=True, max_iter=1000,\n",
              "      normalize=False, positive=False, precompute=False, random_state=None,\n",
              "      selection='cyclic', tol=0.0001, warm_start=False)"
            ]
          },
          "metadata": {
            "tags": []
          },
          "execution_count": 86
        }
      ]
    },
    {
      "cell_type": "code",
      "metadata": {
        "id": "b3sBXnSst9v3",
        "colab_type": "code",
        "colab": {
          "base_uri": "https://localhost:8080/",
          "height": 185
        },
        "outputId": "640e04ee-0be3-486f-b711-dd972c40ddc0"
      },
      "source": [
        "parameters= {'alpha': [1e-15, 1e-10, 1e-8, 1e-4, 1e-3, 1e-2, 1, 5, 10, 20]}\n",
        "lasso_grid_scv= GridSearchCV(lasso, parameters, scoring='r2', cv=5)\n",
        "lasso_grid_scv.fit(x_train, y_train)"
      ],
      "execution_count": null,
      "outputs": [
        {
          "output_type": "execute_result",
          "data": {
            "text/plain": [
              "GridSearchCV(cv=5, error_score=nan,\n",
              "             estimator=Lasso(alpha=1.0, copy_X=True, fit_intercept=True,\n",
              "                             max_iter=1000, normalize=False, positive=False,\n",
              "                             precompute=False, random_state=None,\n",
              "                             selection='cyclic', tol=0.0001, warm_start=False),\n",
              "             iid='deprecated', n_jobs=None,\n",
              "             param_grid={'alpha': [1e-15, 1e-10, 1e-08, 0.0001, 0.001, 0.01, 1,\n",
              "                                   5, 10, 20]},\n",
              "             pre_dispatch='2*n_jobs', refit=True, return_train_score=False,\n",
              "             scoring='r2', verbose=0)"
            ]
          },
          "metadata": {
            "tags": []
          },
          "execution_count": 87
        }
      ]
    },
    {
      "cell_type": "code",
      "metadata": {
        "colab_type": "code",
        "id": "RjJfHS66uXhO",
        "colab": {
          "base_uri": "https://localhost:8080/",
          "height": 50
        },
        "outputId": "17120d28-a65c-4c18-f76d-a1a90ceb7007"
      },
      "source": [
        "print(lasso_grid_scv.best_params_)\n",
        "print(lasso_grid_scv.best_score_)"
      ],
      "execution_count": null,
      "outputs": [
        {
          "output_type": "stream",
          "text": [
            "{'alpha': 0.01}\n",
            "0.596278101998697\n"
          ],
          "name": "stdout"
        }
      ]
    },
    {
      "cell_type": "code",
      "metadata": {
        "colab_type": "code",
        "id": "M0opOuiAuXhS",
        "colab": {
          "base_uri": "https://localhost:8080/",
          "height": 67
        },
        "outputId": "44a7b728-1949-4483-ccdc-17b3de341be0"
      },
      "source": [
        "lasso_regressor= Lasso(alpha=0.01)\n",
        "lasso_regressor"
      ],
      "execution_count": null,
      "outputs": [
        {
          "output_type": "execute_result",
          "data": {
            "text/plain": [
              "Lasso(alpha=0.01, copy_X=True, fit_intercept=True, max_iter=1000,\n",
              "      normalize=False, positive=False, precompute=False, random_state=None,\n",
              "      selection='cyclic', tol=0.0001, warm_start=False)"
            ]
          },
          "metadata": {
            "tags": []
          },
          "execution_count": 89
        }
      ]
    },
    {
      "cell_type": "code",
      "metadata": {
        "colab_type": "code",
        "id": "jOCwoq0buXhU",
        "colab": {}
      },
      "source": [
        "#https://towardsdatascience.com/how-to-perform-lasso-and-ridge-regression-in-python-3b3b75541ad8\n",
        "#https://www.analyticsvidhya.com/blog/2016/01/ridge-lasso-regression-python-complete-tutorial/\n",
        "#https://alfurka.github.io/2018-11-18-grid-search/\n",
        "lasso_regressor.fit(x_train, y_train)\n",
        "y_train_pred=lasso_regressor.predict(x_train)\n",
        "y_test_pred =lasso_regressor.predict(x_test)"
      ],
      "execution_count": null,
      "outputs": []
    },
    {
      "cell_type": "code",
      "metadata": {
        "colab_type": "code",
        "id": "_ZD6P1HnuXhV",
        "colab": {
          "base_uri": "https://localhost:8080/",
          "height": 67
        },
        "outputId": "a78351ae-cd45-4cca-b337-a71797e514a6"
      },
      "source": [
        "# checking r2 score\n",
        "from sklearn.metrics import r2_score\n",
        "print('train r2_score', r2_score(y_train, y_train_pred))\n",
        "print('='*30)\n",
        "print('test r2_score', r2_score(y_test, y_test_pred))"
      ],
      "execution_count": null,
      "outputs": [
        {
          "output_type": "stream",
          "text": [
            "train r2_score 0.6256643013649388\n",
            "==============================\n",
            "test r2_score 0.6463713208948576\n"
          ],
          "name": "stdout"
        }
      ]
    },
    {
      "cell_type": "markdown",
      "metadata": {
        "id": "c9w96C52Qcns",
        "colab_type": "text"
      },
      "source": [
        "# 6: AdaBoostRegressor\n"
      ]
    },
    {
      "cell_type": "code",
      "metadata": {
        "id": "5jfeSLMKQiTi",
        "colab_type": "code",
        "colab": {}
      },
      "source": [
        "from sklearn.ensemble import AdaBoostRegressor\n",
        "from sklearn.svm import SVR\n",
        "abr= AdaBoostRegressor()\n",
        "abr"
      ],
      "execution_count": null,
      "outputs": []
    },
    {
      "cell_type": "code",
      "metadata": {
        "colab_type": "code",
        "id": "214ivD_mYRVE",
        "colab": {
          "base_uri": "https://localhost:8080/",
          "height": 202
        },
        "outputId": "6640f22d-0458-4bfe-a509-b08e974c22a4"
      },
      "source": [
        "parameters = {'learning_rate':[0.0001, 0.001, 0.01, 0.1, 0.2, 0.3, 0.4, 0.5, 0.6, 0.7, 0.8, 0.9, 1], 'loss': ['linear', 'square', 'exponential'], 'n_estimators' : [50, 100, 150, 200, 250, 300]}\n",
        "gsearch = GridSearchCV(abr, parameters, scoring='r2')\n",
        "gsearch.fit(x_train, y_train)"
      ],
      "execution_count": null,
      "outputs": [
        {
          "output_type": "execute_result",
          "data": {
            "text/plain": [
              "GridSearchCV(cv=None, error_score=nan,\n",
              "             estimator=AdaBoostRegressor(base_estimator=None, learning_rate=1.0,\n",
              "                                         loss='linear', n_estimators=50,\n",
              "                                         random_state=None),\n",
              "             iid='deprecated', n_jobs=None,\n",
              "             param_grid={'learning_rate': [0.0001, 0.001, 0.01, 0.1, 0.2, 0.3,\n",
              "                                           0.4, 0.5, 0.6, 0.7, 0.8, 0.9, 1],\n",
              "                         'loss': ['linear', 'square', 'exponential'],\n",
              "                         'n_estimators': [50, 100, 150, 200, 250, 300]},\n",
              "             pre_dispatch='2*n_jobs', refit=True, return_train_score=False,\n",
              "             scoring='r2', verbose=0)"
            ]
          },
          "metadata": {
            "tags": []
          },
          "execution_count": 28
        }
      ]
    },
    {
      "cell_type": "code",
      "metadata": {
        "colab_type": "code",
        "id": "rULSeO1OYRVG",
        "colab": {
          "base_uri": "https://localhost:8080/",
          "height": 67
        },
        "outputId": "544c90da-7479-41a6-dde9-32908bd19e94"
      },
      "source": [
        "print(gsearch.best_estimator_)\n",
        "print(gsearch.best_score_)"
      ],
      "execution_count": null,
      "outputs": [
        {
          "output_type": "stream",
          "text": [
            "AdaBoostRegressor(base_estimator=None, learning_rate=0.0001, loss='exponential',\n",
            "                  n_estimators=200, random_state=None)\n",
            "0.6106137543959904\n"
          ],
          "name": "stdout"
        }
      ]
    },
    {
      "cell_type": "code",
      "metadata": {
        "colab_type": "code",
        "id": "cuEgmKMjYRVI",
        "colab": {
          "base_uri": "https://localhost:8080/",
          "height": 50
        },
        "outputId": "fdc66133-fa28-46ba-f46d-099d4497456f"
      },
      "source": [
        "abr= AdaBoostRegressor(base_estimator=None, learning_rate=0.0001, loss='exponential',\n",
        "                  n_estimators=200, random_state=None)\n",
        "abr"
      ],
      "execution_count": null,
      "outputs": [
        {
          "output_type": "execute_result",
          "data": {
            "text/plain": [
              "AdaBoostRegressor(base_estimator=None, learning_rate=0.0001, loss='exponential',\n",
              "                  n_estimators=200, random_state=None)"
            ]
          },
          "metadata": {
            "tags": []
          },
          "execution_count": 30
        }
      ]
    },
    {
      "cell_type": "code",
      "metadata": {
        "colab_type": "code",
        "id": "COMip9L-YRVJ",
        "colab": {}
      },
      "source": [
        "abr.fit(x_train, y_train)\n",
        "y_train_pred=abr.predict(x_train)\n",
        "y_test_pred =abr.predict(x_test)"
      ],
      "execution_count": null,
      "outputs": []
    },
    {
      "cell_type": "code",
      "metadata": {
        "colab_type": "code",
        "id": "WTAZGSv4YRVM",
        "colab": {
          "base_uri": "https://localhost:8080/",
          "height": 67
        },
        "outputId": "48272641-1e14-4876-a086-f90452564d98"
      },
      "source": [
        "# checking r2 score\n",
        "from sklearn.metrics import r2_score\n",
        "print('train r2_score', r2_score(y_train, y_train_pred))\n",
        "print('='*30)\n",
        "print('test r2_score', r2_score(y_test, y_test_pred))"
      ],
      "execution_count": null,
      "outputs": [
        {
          "output_type": "stream",
          "text": [
            "train r2_score 0.6134014860036547\n",
            "==============================\n",
            "test r2_score 0.653160564280501\n"
          ],
          "name": "stdout"
        }
      ]
    }
  ]
}