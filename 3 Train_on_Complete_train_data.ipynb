{
  "nbformat": 4,
  "nbformat_minor": 0,
  "metadata": {
    "colab": {
      "name": "Train on Complete train data.ipynb",
      "provenance": [],
      "collapsed_sections": []
    },
    "kernelspec": {
      "name": "python3",
      "display_name": "Python 3"
    }
  },
  "cells": [
    {
      "cell_type": "code",
      "metadata": {
        "id": "oaZAwKJDKQQD",
        "colab_type": "code",
        "colab": {
          "base_uri": "https://localhost:8080/",
          "height": 50
        },
        "outputId": "c7c14830-f44e-42a4-e9bf-0a4811a4454c"
      },
      "source": [
        "import numpy as np\n",
        "np.random.seed(123)\n",
        "import pandas as pd\n",
        "import pandas.testing as tm\n",
        "import pandas.util.testing as tm\n",
        "import seaborn as sns \n",
        "import warnings\n",
        "warnings.filterwarnings(\"ignore\")\n",
        "from tqdm import tqdm_notebook\n",
        "from statsmodels.stats.outliers_influence import variance_inflation_factor\n",
        "from sklearn.model_selection import train_test_split\n",
        "from sklearn.decomposition import TruncatedSVD\n",
        "from sklearn.decomposition import PCA\n",
        "from sklearn.decomposition import FastICA\n",
        "from sklearn.ensemble import RandomForestRegressor\n",
        "from sklearn.model_selection import RandomizedSearchCV\n",
        "import matplotlib.pyplot as plt\n",
        "from sklearn.metrics import r2_score\n",
        "import xgboost as xgb\n",
        "from sklearn.tree import DecisionTreeRegressor\n",
        "from sklearn.linear_model import LinearRegression\n",
        "import statsmodels.api as sm\n",
        "from sklearn.model_selection import cross_val_score\n",
        "from sklearn.model_selection import GridSearchCV\n",
        "from sklearn.linear_model import Ridge\n",
        "from sklearn.linear_model import Lasso\n",
        "from sklearn import linear_model\n",
        "from sklearn import metrics\n",
        "from sklearn.svm import SVR\n",
        "import json"
      ],
      "execution_count": null,
      "outputs": [
        {
          "output_type": "stream",
          "text": [
            "/usr/local/lib/python3.6/dist-packages/ipykernel_launcher.py:5: FutureWarning: pandas.util.testing is deprecated. Use the functions in the public API at pandas.testing instead.\n",
            "  \"\"\"\n"
          ],
          "name": "stderr"
        }
      ]
    },
    {
      "cell_type": "code",
      "metadata": {
        "id": "TLtst6Pp-wE2",
        "colab_type": "code",
        "colab": {}
      },
      "source": [
        "# loading the train and test dataset\n",
        "df_1=pd.read_csv('/content/drive/My Drive/Colab Notebooks/Case Study 1/mercedes-benz-greener-manufacturing/train.csv/train.csv')\n",
        "df_2=pd.read_csv('/content/drive/My Drive/Colab Notebooks/Case Study 1/mercedes-benz-greener-manufacturing/test.csv/test.csv')"
      ],
      "execution_count": null,
      "outputs": []
    },
    {
      "cell_type": "code",
      "metadata": {
        "id": "LSsH_dm0EkFv",
        "colab_type": "code",
        "colab": {
          "base_uri": "https://localhost:8080/",
          "height": 50
        },
        "outputId": "8edf4756-598f-4e08-a46f-4b2a4c334848"
      },
      "source": [
        "print(df_1.shape)\n",
        "print(df_2.shape)"
      ],
      "execution_count": null,
      "outputs": [
        {
          "output_type": "stream",
          "text": [
            "(4209, 378)\n",
            "(4209, 377)\n"
          ],
          "name": "stdout"
        }
      ]
    },
    {
      "cell_type": "code",
      "metadata": {
        "id": "_MuLiNnwEuRP",
        "colab_type": "code",
        "colab": {
          "base_uri": "https://localhost:8080/",
          "height": 34
        },
        "outputId": "977abf12-4644-4af0-c922-2c1036cddc74"
      },
      "source": [
        "missing_cols = set( df_1.columns ) - set( df_2.columns )\n",
        "missing_cols"
      ],
      "execution_count": null,
      "outputs": [
        {
          "output_type": "execute_result",
          "data": {
            "text/plain": [
              "{'y'}"
            ]
          },
          "metadata": {
            "tags": []
          },
          "execution_count": 4
        }
      ]
    },
    {
      "cell_type": "code",
      "metadata": {
        "id": "goSukw8uUaLv",
        "colab_type": "code",
        "colab": {
          "base_uri": "https://localhost:8080/",
          "height": 244
        },
        "outputId": "7bc5876e-6715-4cd3-d594-f0797a59e242"
      },
      "source": [
        "# converting categorical features to numerical features\n",
        "x_dummies_1=pd.get_dummies(df_1)\n",
        "x_dummies_1.head()\n",
        "x_dummies_2=pd.get_dummies(df_2) \n",
        "x_dummies_2.head()\n",
        "#https://pandas.pydata.org/pandas-docs/version/0.21.1/generated/pandas.get_dummies.html\n",
        "#https://towardsdatascience.com/encoding-categorical-features-21a2651a065c"
      ],
      "execution_count": null,
      "outputs": [
        {
          "output_type": "execute_result",
          "data": {
            "text/html": [
              "<div>\n",
              "<style scoped>\n",
              "    .dataframe tbody tr th:only-of-type {\n",
              "        vertical-align: middle;\n",
              "    }\n",
              "\n",
              "    .dataframe tbody tr th {\n",
              "        vertical-align: top;\n",
              "    }\n",
              "\n",
              "    .dataframe thead th {\n",
              "        text-align: right;\n",
              "    }\n",
              "</style>\n",
              "<table border=\"1\" class=\"dataframe\">\n",
              "  <thead>\n",
              "    <tr style=\"text-align: right;\">\n",
              "      <th></th>\n",
              "      <th>ID</th>\n",
              "      <th>X10</th>\n",
              "      <th>X11</th>\n",
              "      <th>X12</th>\n",
              "      <th>X13</th>\n",
              "      <th>X14</th>\n",
              "      <th>X15</th>\n",
              "      <th>X16</th>\n",
              "      <th>X17</th>\n",
              "      <th>X18</th>\n",
              "      <th>X19</th>\n",
              "      <th>X20</th>\n",
              "      <th>X21</th>\n",
              "      <th>X22</th>\n",
              "      <th>X23</th>\n",
              "      <th>X24</th>\n",
              "      <th>X26</th>\n",
              "      <th>X27</th>\n",
              "      <th>X28</th>\n",
              "      <th>X29</th>\n",
              "      <th>X30</th>\n",
              "      <th>X31</th>\n",
              "      <th>X32</th>\n",
              "      <th>X33</th>\n",
              "      <th>X34</th>\n",
              "      <th>X35</th>\n",
              "      <th>X36</th>\n",
              "      <th>X37</th>\n",
              "      <th>X38</th>\n",
              "      <th>X39</th>\n",
              "      <th>X40</th>\n",
              "      <th>X41</th>\n",
              "      <th>X42</th>\n",
              "      <th>X43</th>\n",
              "      <th>X44</th>\n",
              "      <th>X45</th>\n",
              "      <th>X46</th>\n",
              "      <th>X47</th>\n",
              "      <th>X48</th>\n",
              "      <th>X49</th>\n",
              "      <th>...</th>\n",
              "      <th>X5_x</th>\n",
              "      <th>X5_y</th>\n",
              "      <th>X5_z</th>\n",
              "      <th>X6_a</th>\n",
              "      <th>X6_b</th>\n",
              "      <th>X6_c</th>\n",
              "      <th>X6_d</th>\n",
              "      <th>X6_e</th>\n",
              "      <th>X6_f</th>\n",
              "      <th>X6_g</th>\n",
              "      <th>X6_h</th>\n",
              "      <th>X6_i</th>\n",
              "      <th>X6_j</th>\n",
              "      <th>X6_k</th>\n",
              "      <th>X6_l</th>\n",
              "      <th>X8_a</th>\n",
              "      <th>X8_b</th>\n",
              "      <th>X8_c</th>\n",
              "      <th>X8_d</th>\n",
              "      <th>X8_e</th>\n",
              "      <th>X8_f</th>\n",
              "      <th>X8_g</th>\n",
              "      <th>X8_h</th>\n",
              "      <th>X8_i</th>\n",
              "      <th>X8_j</th>\n",
              "      <th>X8_k</th>\n",
              "      <th>X8_l</th>\n",
              "      <th>X8_m</th>\n",
              "      <th>X8_n</th>\n",
              "      <th>X8_o</th>\n",
              "      <th>X8_p</th>\n",
              "      <th>X8_q</th>\n",
              "      <th>X8_r</th>\n",
              "      <th>X8_s</th>\n",
              "      <th>X8_t</th>\n",
              "      <th>X8_u</th>\n",
              "      <th>X8_v</th>\n",
              "      <th>X8_w</th>\n",
              "      <th>X8_x</th>\n",
              "      <th>X8_y</th>\n",
              "    </tr>\n",
              "  </thead>\n",
              "  <tbody>\n",
              "    <tr>\n",
              "      <th>0</th>\n",
              "      <td>1</td>\n",
              "      <td>0</td>\n",
              "      <td>0</td>\n",
              "      <td>0</td>\n",
              "      <td>0</td>\n",
              "      <td>0</td>\n",
              "      <td>0</td>\n",
              "      <td>0</td>\n",
              "      <td>0</td>\n",
              "      <td>0</td>\n",
              "      <td>0</td>\n",
              "      <td>0</td>\n",
              "      <td>0</td>\n",
              "      <td>0</td>\n",
              "      <td>0</td>\n",
              "      <td>0</td>\n",
              "      <td>0</td>\n",
              "      <td>1</td>\n",
              "      <td>1</td>\n",
              "      <td>1</td>\n",
              "      <td>0</td>\n",
              "      <td>1</td>\n",
              "      <td>0</td>\n",
              "      <td>0</td>\n",
              "      <td>0</td>\n",
              "      <td>1</td>\n",
              "      <td>0</td>\n",
              "      <td>1</td>\n",
              "      <td>0</td>\n",
              "      <td>0</td>\n",
              "      <td>0</td>\n",
              "      <td>0</td>\n",
              "      <td>0</td>\n",
              "      <td>1</td>\n",
              "      <td>0</td>\n",
              "      <td>0</td>\n",
              "      <td>1</td>\n",
              "      <td>0</td>\n",
              "      <td>0</td>\n",
              "      <td>0</td>\n",
              "      <td>...</td>\n",
              "      <td>0</td>\n",
              "      <td>0</td>\n",
              "      <td>0</td>\n",
              "      <td>1</td>\n",
              "      <td>0</td>\n",
              "      <td>0</td>\n",
              "      <td>0</td>\n",
              "      <td>0</td>\n",
              "      <td>0</td>\n",
              "      <td>0</td>\n",
              "      <td>0</td>\n",
              "      <td>0</td>\n",
              "      <td>0</td>\n",
              "      <td>0</td>\n",
              "      <td>0</td>\n",
              "      <td>0</td>\n",
              "      <td>0</td>\n",
              "      <td>0</td>\n",
              "      <td>0</td>\n",
              "      <td>0</td>\n",
              "      <td>0</td>\n",
              "      <td>0</td>\n",
              "      <td>0</td>\n",
              "      <td>0</td>\n",
              "      <td>0</td>\n",
              "      <td>0</td>\n",
              "      <td>0</td>\n",
              "      <td>0</td>\n",
              "      <td>0</td>\n",
              "      <td>0</td>\n",
              "      <td>0</td>\n",
              "      <td>0</td>\n",
              "      <td>0</td>\n",
              "      <td>0</td>\n",
              "      <td>0</td>\n",
              "      <td>0</td>\n",
              "      <td>0</td>\n",
              "      <td>1</td>\n",
              "      <td>0</td>\n",
              "      <td>0</td>\n",
              "    </tr>\n",
              "    <tr>\n",
              "      <th>1</th>\n",
              "      <td>2</td>\n",
              "      <td>0</td>\n",
              "      <td>0</td>\n",
              "      <td>0</td>\n",
              "      <td>0</td>\n",
              "      <td>0</td>\n",
              "      <td>0</td>\n",
              "      <td>0</td>\n",
              "      <td>0</td>\n",
              "      <td>0</td>\n",
              "      <td>1</td>\n",
              "      <td>0</td>\n",
              "      <td>0</td>\n",
              "      <td>0</td>\n",
              "      <td>0</td>\n",
              "      <td>0</td>\n",
              "      <td>0</td>\n",
              "      <td>1</td>\n",
              "      <td>0</td>\n",
              "      <td>0</td>\n",
              "      <td>0</td>\n",
              "      <td>1</td>\n",
              "      <td>0</td>\n",
              "      <td>0</td>\n",
              "      <td>0</td>\n",
              "      <td>1</td>\n",
              "      <td>0</td>\n",
              "      <td>1</td>\n",
              "      <td>0</td>\n",
              "      <td>0</td>\n",
              "      <td>0</td>\n",
              "      <td>0</td>\n",
              "      <td>0</td>\n",
              "      <td>0</td>\n",
              "      <td>0</td>\n",
              "      <td>1</td>\n",
              "      <td>1</td>\n",
              "      <td>0</td>\n",
              "      <td>0</td>\n",
              "      <td>1</td>\n",
              "      <td>...</td>\n",
              "      <td>0</td>\n",
              "      <td>0</td>\n",
              "      <td>0</td>\n",
              "      <td>0</td>\n",
              "      <td>0</td>\n",
              "      <td>0</td>\n",
              "      <td>0</td>\n",
              "      <td>0</td>\n",
              "      <td>0</td>\n",
              "      <td>1</td>\n",
              "      <td>0</td>\n",
              "      <td>0</td>\n",
              "      <td>0</td>\n",
              "      <td>0</td>\n",
              "      <td>0</td>\n",
              "      <td>0</td>\n",
              "      <td>0</td>\n",
              "      <td>0</td>\n",
              "      <td>0</td>\n",
              "      <td>0</td>\n",
              "      <td>0</td>\n",
              "      <td>0</td>\n",
              "      <td>0</td>\n",
              "      <td>0</td>\n",
              "      <td>0</td>\n",
              "      <td>0</td>\n",
              "      <td>0</td>\n",
              "      <td>0</td>\n",
              "      <td>0</td>\n",
              "      <td>0</td>\n",
              "      <td>0</td>\n",
              "      <td>0</td>\n",
              "      <td>0</td>\n",
              "      <td>0</td>\n",
              "      <td>0</td>\n",
              "      <td>0</td>\n",
              "      <td>0</td>\n",
              "      <td>0</td>\n",
              "      <td>0</td>\n",
              "      <td>1</td>\n",
              "    </tr>\n",
              "    <tr>\n",
              "      <th>2</th>\n",
              "      <td>3</td>\n",
              "      <td>0</td>\n",
              "      <td>0</td>\n",
              "      <td>0</td>\n",
              "      <td>0</td>\n",
              "      <td>1</td>\n",
              "      <td>0</td>\n",
              "      <td>0</td>\n",
              "      <td>0</td>\n",
              "      <td>0</td>\n",
              "      <td>0</td>\n",
              "      <td>0</td>\n",
              "      <td>0</td>\n",
              "      <td>0</td>\n",
              "      <td>0</td>\n",
              "      <td>0</td>\n",
              "      <td>0</td>\n",
              "      <td>1</td>\n",
              "      <td>0</td>\n",
              "      <td>1</td>\n",
              "      <td>0</td>\n",
              "      <td>1</td>\n",
              "      <td>0</td>\n",
              "      <td>0</td>\n",
              "      <td>0</td>\n",
              "      <td>1</td>\n",
              "      <td>0</td>\n",
              "      <td>1</td>\n",
              "      <td>0</td>\n",
              "      <td>0</td>\n",
              "      <td>0</td>\n",
              "      <td>0</td>\n",
              "      <td>0</td>\n",
              "      <td>0</td>\n",
              "      <td>0</td>\n",
              "      <td>0</td>\n",
              "      <td>0</td>\n",
              "      <td>0</td>\n",
              "      <td>0</td>\n",
              "      <td>0</td>\n",
              "      <td>...</td>\n",
              "      <td>0</td>\n",
              "      <td>0</td>\n",
              "      <td>0</td>\n",
              "      <td>0</td>\n",
              "      <td>0</td>\n",
              "      <td>0</td>\n",
              "      <td>0</td>\n",
              "      <td>0</td>\n",
              "      <td>0</td>\n",
              "      <td>0</td>\n",
              "      <td>0</td>\n",
              "      <td>0</td>\n",
              "      <td>1</td>\n",
              "      <td>0</td>\n",
              "      <td>0</td>\n",
              "      <td>0</td>\n",
              "      <td>0</td>\n",
              "      <td>0</td>\n",
              "      <td>0</td>\n",
              "      <td>0</td>\n",
              "      <td>0</td>\n",
              "      <td>0</td>\n",
              "      <td>0</td>\n",
              "      <td>0</td>\n",
              "      <td>1</td>\n",
              "      <td>0</td>\n",
              "      <td>0</td>\n",
              "      <td>0</td>\n",
              "      <td>0</td>\n",
              "      <td>0</td>\n",
              "      <td>0</td>\n",
              "      <td>0</td>\n",
              "      <td>0</td>\n",
              "      <td>0</td>\n",
              "      <td>0</td>\n",
              "      <td>0</td>\n",
              "      <td>0</td>\n",
              "      <td>0</td>\n",
              "      <td>0</td>\n",
              "      <td>0</td>\n",
              "    </tr>\n",
              "    <tr>\n",
              "      <th>3</th>\n",
              "      <td>4</td>\n",
              "      <td>0</td>\n",
              "      <td>0</td>\n",
              "      <td>0</td>\n",
              "      <td>0</td>\n",
              "      <td>0</td>\n",
              "      <td>0</td>\n",
              "      <td>0</td>\n",
              "      <td>0</td>\n",
              "      <td>0</td>\n",
              "      <td>0</td>\n",
              "      <td>0</td>\n",
              "      <td>0</td>\n",
              "      <td>0</td>\n",
              "      <td>0</td>\n",
              "      <td>0</td>\n",
              "      <td>0</td>\n",
              "      <td>1</td>\n",
              "      <td>1</td>\n",
              "      <td>1</td>\n",
              "      <td>0</td>\n",
              "      <td>1</td>\n",
              "      <td>0</td>\n",
              "      <td>0</td>\n",
              "      <td>0</td>\n",
              "      <td>1</td>\n",
              "      <td>0</td>\n",
              "      <td>1</td>\n",
              "      <td>0</td>\n",
              "      <td>0</td>\n",
              "      <td>0</td>\n",
              "      <td>0</td>\n",
              "      <td>0</td>\n",
              "      <td>1</td>\n",
              "      <td>0</td>\n",
              "      <td>0</td>\n",
              "      <td>1</td>\n",
              "      <td>0</td>\n",
              "      <td>0</td>\n",
              "      <td>0</td>\n",
              "      <td>...</td>\n",
              "      <td>0</td>\n",
              "      <td>0</td>\n",
              "      <td>1</td>\n",
              "      <td>0</td>\n",
              "      <td>0</td>\n",
              "      <td>0</td>\n",
              "      <td>0</td>\n",
              "      <td>0</td>\n",
              "      <td>0</td>\n",
              "      <td>0</td>\n",
              "      <td>0</td>\n",
              "      <td>0</td>\n",
              "      <td>0</td>\n",
              "      <td>0</td>\n",
              "      <td>1</td>\n",
              "      <td>0</td>\n",
              "      <td>0</td>\n",
              "      <td>0</td>\n",
              "      <td>0</td>\n",
              "      <td>0</td>\n",
              "      <td>0</td>\n",
              "      <td>0</td>\n",
              "      <td>0</td>\n",
              "      <td>0</td>\n",
              "      <td>0</td>\n",
              "      <td>0</td>\n",
              "      <td>0</td>\n",
              "      <td>0</td>\n",
              "      <td>1</td>\n",
              "      <td>0</td>\n",
              "      <td>0</td>\n",
              "      <td>0</td>\n",
              "      <td>0</td>\n",
              "      <td>0</td>\n",
              "      <td>0</td>\n",
              "      <td>0</td>\n",
              "      <td>0</td>\n",
              "      <td>0</td>\n",
              "      <td>0</td>\n",
              "      <td>0</td>\n",
              "    </tr>\n",
              "    <tr>\n",
              "      <th>4</th>\n",
              "      <td>5</td>\n",
              "      <td>0</td>\n",
              "      <td>0</td>\n",
              "      <td>0</td>\n",
              "      <td>0</td>\n",
              "      <td>1</td>\n",
              "      <td>0</td>\n",
              "      <td>0</td>\n",
              "      <td>0</td>\n",
              "      <td>0</td>\n",
              "      <td>0</td>\n",
              "      <td>0</td>\n",
              "      <td>0</td>\n",
              "      <td>0</td>\n",
              "      <td>0</td>\n",
              "      <td>0</td>\n",
              "      <td>0</td>\n",
              "      <td>1</td>\n",
              "      <td>0</td>\n",
              "      <td>0</td>\n",
              "      <td>0</td>\n",
              "      <td>0</td>\n",
              "      <td>0</td>\n",
              "      <td>0</td>\n",
              "      <td>0</td>\n",
              "      <td>0</td>\n",
              "      <td>0</td>\n",
              "      <td>0</td>\n",
              "      <td>0</td>\n",
              "      <td>0</td>\n",
              "      <td>0</td>\n",
              "      <td>0</td>\n",
              "      <td>0</td>\n",
              "      <td>0</td>\n",
              "      <td>0</td>\n",
              "      <td>0</td>\n",
              "      <td>0</td>\n",
              "      <td>0</td>\n",
              "      <td>0</td>\n",
              "      <td>0</td>\n",
              "      <td>...</td>\n",
              "      <td>0</td>\n",
              "      <td>1</td>\n",
              "      <td>0</td>\n",
              "      <td>0</td>\n",
              "      <td>0</td>\n",
              "      <td>0</td>\n",
              "      <td>0</td>\n",
              "      <td>0</td>\n",
              "      <td>0</td>\n",
              "      <td>0</td>\n",
              "      <td>0</td>\n",
              "      <td>1</td>\n",
              "      <td>0</td>\n",
              "      <td>0</td>\n",
              "      <td>0</td>\n",
              "      <td>0</td>\n",
              "      <td>0</td>\n",
              "      <td>0</td>\n",
              "      <td>0</td>\n",
              "      <td>0</td>\n",
              "      <td>0</td>\n",
              "      <td>0</td>\n",
              "      <td>0</td>\n",
              "      <td>0</td>\n",
              "      <td>0</td>\n",
              "      <td>0</td>\n",
              "      <td>0</td>\n",
              "      <td>1</td>\n",
              "      <td>0</td>\n",
              "      <td>0</td>\n",
              "      <td>0</td>\n",
              "      <td>0</td>\n",
              "      <td>0</td>\n",
              "      <td>0</td>\n",
              "      <td>0</td>\n",
              "      <td>0</td>\n",
              "      <td>0</td>\n",
              "      <td>0</td>\n",
              "      <td>0</td>\n",
              "      <td>0</td>\n",
              "    </tr>\n",
              "  </tbody>\n",
              "</table>\n",
              "<p>5 rows × 570 columns</p>\n",
              "</div>"
            ],
            "text/plain": [
              "   ID  X10  X11  X12  X13  X14  X15  ...  X8_s  X8_t  X8_u  X8_v  X8_w  X8_x  X8_y\n",
              "0   1    0    0    0    0    0    0  ...     0     0     0     0     1     0     0\n",
              "1   2    0    0    0    0    0    0  ...     0     0     0     0     0     0     1\n",
              "2   3    0    0    0    0    1    0  ...     0     0     0     0     0     0     0\n",
              "3   4    0    0    0    0    0    0  ...     0     0     0     0     0     0     0\n",
              "4   5    0    0    0    0    1    0  ...     0     0     0     0     0     0     0\n",
              "\n",
              "[5 rows x 570 columns]"
            ]
          },
          "metadata": {
            "tags": []
          },
          "execution_count": 5
        }
      ]
    },
    {
      "cell_type": "code",
      "metadata": {
        "id": "zUsUNZ13BzZ7",
        "colab_type": "code",
        "colab": {
          "base_uri": "https://localhost:8080/",
          "height": 50
        },
        "outputId": "cee0cd84-6c13-4df9-9ea3-c8e8c36b629c"
      },
      "source": [
        "print(x_dummies_1.shape)\n",
        "print(x_dummies_2.shape)"
      ],
      "execution_count": null,
      "outputs": [
        {
          "output_type": "stream",
          "text": [
            "(4209, 565)\n",
            "(4209, 570)\n"
          ],
          "name": "stdout"
        }
      ]
    },
    {
      "cell_type": "code",
      "metadata": {
        "id": "r_YnTSrPDPdP",
        "colab_type": "code",
        "colab": {}
      },
      "source": [
        "missing_cols = set( x_dummies_1.columns ) - set( x_dummies_2.columns )\n",
        "missing_cols "
      ],
      "execution_count": null,
      "outputs": []
    },
    {
      "cell_type": "code",
      "metadata": {
        "id": "Nbi_7HXpDPUv",
        "colab_type": "code",
        "colab": {
          "base_uri": "https://localhost:8080/",
          "height": 202
        },
        "outputId": "b58961bc-c676-4a2d-bf88-a83a1687dd00"
      },
      "source": [
        "missing_cols"
      ],
      "execution_count": null,
      "outputs": [
        {
          "output_type": "execute_result",
          "data": {
            "text/plain": [
              "{'X0_aa',\n",
              " 'X0_ab',\n",
              " 'X0_ac',\n",
              " 'X0_q',\n",
              " 'X2_aa',\n",
              " 'X2_ar',\n",
              " 'X2_c',\n",
              " 'X2_l',\n",
              " 'X2_o',\n",
              " 'X5_u',\n",
              " 'y'}"
            ]
          },
          "metadata": {
            "tags": []
          },
          "execution_count": 8
        }
      ]
    },
    {
      "cell_type": "code",
      "metadata": {
        "id": "MCVeG4bs2wYJ",
        "colab_type": "code",
        "colab": {}
      },
      "source": [
        "y=x_dummies_1['y']"
      ],
      "execution_count": null,
      "outputs": []
    },
    {
      "cell_type": "code",
      "metadata": {
        "id": "njUULtRjHJ9k",
        "colab_type": "code",
        "colab": {}
      },
      "source": [
        "# align dataframes \n",
        "x_dummies_1, x_dummies_2= x_dummies_1.align(x_dummies_2, join='inner', axis=1)"
      ],
      "execution_count": null,
      "outputs": []
    },
    {
      "cell_type": "code",
      "metadata": {
        "colab_type": "code",
        "id": "W6HpsgnhHqW8",
        "colab": {
          "base_uri": "https://localhost:8080/",
          "height": 50
        },
        "outputId": "d2e565b3-1a88-4fd7-8ebe-d79f8d37d448"
      },
      "source": [
        "print(x_dummies_1.shape)\n",
        "print(x_dummies_2.shape)"
      ],
      "execution_count": null,
      "outputs": [
        {
          "output_type": "stream",
          "text": [
            "(4209, 554)\n",
            "(4209, 554)\n"
          ],
          "name": "stdout"
        }
      ]
    },
    {
      "cell_type": "code",
      "metadata": {
        "colab_type": "code",
        "id": "SBmAbjcDHqW_",
        "colab": {}
      },
      "source": [
        "missing_cols = set( x_dummies_1.columns ) - set( x_dummies_2.columns )"
      ],
      "execution_count": null,
      "outputs": []
    },
    {
      "cell_type": "code",
      "metadata": {
        "colab_type": "code",
        "id": "UQxEebWOHqXC",
        "colab": {
          "base_uri": "https://localhost:8080/",
          "height": 34
        },
        "outputId": "80b6f06e-9bc1-4b1b-9425-9a9beca5b4fb"
      },
      "source": [
        "missing_cols"
      ],
      "execution_count": null,
      "outputs": [
        {
          "output_type": "execute_result",
          "data": {
            "text/plain": [
              "set()"
            ]
          },
          "metadata": {
            "tags": []
          },
          "execution_count": 13
        }
      ]
    },
    {
      "cell_type": "markdown",
      "metadata": {
        "id": "S2MNxxXzTMWg",
        "colab_type": "text"
      },
      "source": [
        "# 1: Dropping Unique values"
      ]
    },
    {
      "cell_type": "code",
      "metadata": {
        "id": "TLC5TGKyNGyA",
        "colab_type": "code",
        "colab": {}
      },
      "source": [
        "# creating a list of columns which have only zeros\n",
        "zeros=[]\n",
        "for i,j in x_dummies_1.any().items():#https://pandas.pydata.org/pandas-docs/stable/reference/api/pandas.Series.iteritems.html\n",
        "    if j==False:\n",
        "        zeros.append(i)"
      ],
      "execution_count": null,
      "outputs": []
    },
    {
      "cell_type": "code",
      "metadata": {
        "id": "Lk10AmyFNGwZ",
        "colab_type": "code",
        "colab": {
          "base_uri": "https://localhost:8080/",
          "height": 218
        },
        "outputId": "6195360e-5baa-4f31-fe90-049374243314"
      },
      "source": [
        "zeros # 'X339' is missing in my code\n",
        "# we need to drop these columns"
      ],
      "execution_count": null,
      "outputs": [
        {
          "output_type": "execute_result",
          "data": {
            "text/plain": [
              "['X11',\n",
              " 'X93',\n",
              " 'X107',\n",
              " 'X233',\n",
              " 'X235',\n",
              " 'X268',\n",
              " 'X289',\n",
              " 'X290',\n",
              " 'X293',\n",
              " 'X297',\n",
              " 'X330',\n",
              " 'X347']"
            ]
          },
          "metadata": {
            "tags": []
          },
          "execution_count": 15
        }
      ]
    },
    {
      "cell_type": "code",
      "metadata": {
        "id": "VC7jcohpE3M8",
        "colab_type": "code",
        "colab": {}
      },
      "source": [
        "x_1_safe = x_dummies_1\n",
        "x_2_safe = x_dummies_2 "
      ],
      "execution_count": null,
      "outputs": []
    },
    {
      "cell_type": "code",
      "metadata": {
        "id": "CZte-vF1N2Dc",
        "colab_type": "code",
        "colab": {}
      },
      "source": [
        "x_dummies_1 = x_dummies_1.drop(zeros, axis=1)\n",
        "x_dummies_2 = x_dummies_2.drop(zeros, axis=1)"
      ],
      "execution_count": null,
      "outputs": []
    },
    {
      "cell_type": "code",
      "metadata": {
        "id": "4-hXss_RimTv",
        "colab_type": "code",
        "colab": {
          "base_uri": "https://localhost:8080/",
          "height": 50
        },
        "outputId": "5b1570e8-ebca-4d3c-c5b2-a218befd5a02"
      },
      "source": [
        "print(x_2_safe.shape)\n",
        "x_2_safe = x_2_safe.drop(zeros, axis=1)\n",
        "print(x_2_safe.shape)"
      ],
      "execution_count": null,
      "outputs": [
        {
          "output_type": "stream",
          "text": [
            "(4209, 554)\n",
            "(4209, 542)\n"
          ],
          "name": "stdout"
        }
      ]
    },
    {
      "cell_type": "code",
      "metadata": {
        "id": "SQEZq1FW3miS",
        "colab_type": "code",
        "colab": {}
      },
      "source": [
        "x_dummies_1['y']=y "
      ],
      "execution_count": null,
      "outputs": []
    },
    {
      "cell_type": "markdown",
      "metadata": {
        "id": "JKiJfXhOTWFi",
        "colab_type": "text"
      },
      "source": [
        "# 2: Dropping Outliers"
      ]
    },
    {
      "cell_type": "code",
      "metadata": {
        "id": "xdMyFdGSN1_U",
        "colab_type": "code",
        "colab": {
          "base_uri": "https://localhost:8080/",
          "height": 333
        },
        "outputId": "5783d55a-743e-45ca-97a6-3622b03ab367"
      },
      "source": [
        "x_filtered= x_dummies_1[x_dummies_1['y']>70]#https://www.geeksforgeeks.org/drop-rows-from-the-dataframe-based-on-certain-condition-applied-on-a-column/\n",
        "x_filtered= x_filtered[x_filtered['y']<150]\n",
        "x_filtered.describe()"
      ],
      "execution_count": null,
      "outputs": [
        {
          "output_type": "execute_result",
          "data": {
            "text/html": [
              "<div>\n",
              "<style scoped>\n",
              "    .dataframe tbody tr th:only-of-type {\n",
              "        vertical-align: middle;\n",
              "    }\n",
              "\n",
              "    .dataframe tbody tr th {\n",
              "        vertical-align: top;\n",
              "    }\n",
              "\n",
              "    .dataframe thead th {\n",
              "        text-align: right;\n",
              "    }\n",
              "</style>\n",
              "<table border=\"1\" class=\"dataframe\">\n",
              "  <thead>\n",
              "    <tr style=\"text-align: right;\">\n",
              "      <th></th>\n",
              "      <th>ID</th>\n",
              "      <th>X10</th>\n",
              "      <th>X12</th>\n",
              "      <th>X13</th>\n",
              "      <th>X14</th>\n",
              "      <th>X15</th>\n",
              "      <th>X16</th>\n",
              "      <th>X17</th>\n",
              "      <th>X18</th>\n",
              "      <th>X19</th>\n",
              "      <th>X20</th>\n",
              "      <th>X21</th>\n",
              "      <th>X22</th>\n",
              "      <th>X23</th>\n",
              "      <th>X24</th>\n",
              "      <th>X26</th>\n",
              "      <th>X27</th>\n",
              "      <th>X28</th>\n",
              "      <th>X29</th>\n",
              "      <th>X30</th>\n",
              "      <th>X31</th>\n",
              "      <th>X32</th>\n",
              "      <th>X33</th>\n",
              "      <th>X34</th>\n",
              "      <th>X35</th>\n",
              "      <th>X36</th>\n",
              "      <th>X37</th>\n",
              "      <th>X38</th>\n",
              "      <th>X39</th>\n",
              "      <th>X40</th>\n",
              "      <th>X41</th>\n",
              "      <th>X42</th>\n",
              "      <th>X43</th>\n",
              "      <th>X44</th>\n",
              "      <th>X45</th>\n",
              "      <th>X46</th>\n",
              "      <th>X47</th>\n",
              "      <th>X48</th>\n",
              "      <th>X49</th>\n",
              "      <th>X50</th>\n",
              "      <th>...</th>\n",
              "      <th>X5_x</th>\n",
              "      <th>X5_y</th>\n",
              "      <th>X6_a</th>\n",
              "      <th>X6_b</th>\n",
              "      <th>X6_c</th>\n",
              "      <th>X6_d</th>\n",
              "      <th>X6_e</th>\n",
              "      <th>X6_f</th>\n",
              "      <th>X6_g</th>\n",
              "      <th>X6_h</th>\n",
              "      <th>X6_i</th>\n",
              "      <th>X6_j</th>\n",
              "      <th>X6_k</th>\n",
              "      <th>X6_l</th>\n",
              "      <th>X8_a</th>\n",
              "      <th>X8_b</th>\n",
              "      <th>X8_c</th>\n",
              "      <th>X8_d</th>\n",
              "      <th>X8_e</th>\n",
              "      <th>X8_f</th>\n",
              "      <th>X8_g</th>\n",
              "      <th>X8_h</th>\n",
              "      <th>X8_i</th>\n",
              "      <th>X8_j</th>\n",
              "      <th>X8_k</th>\n",
              "      <th>X8_l</th>\n",
              "      <th>X8_m</th>\n",
              "      <th>X8_n</th>\n",
              "      <th>X8_o</th>\n",
              "      <th>X8_p</th>\n",
              "      <th>X8_q</th>\n",
              "      <th>X8_r</th>\n",
              "      <th>X8_s</th>\n",
              "      <th>X8_t</th>\n",
              "      <th>X8_u</th>\n",
              "      <th>X8_v</th>\n",
              "      <th>X8_w</th>\n",
              "      <th>X8_x</th>\n",
              "      <th>X8_y</th>\n",
              "      <th>y</th>\n",
              "    </tr>\n",
              "  </thead>\n",
              "  <tbody>\n",
              "    <tr>\n",
              "      <th>count</th>\n",
              "      <td>4194.000000</td>\n",
              "      <td>4194.000000</td>\n",
              "      <td>4194.000000</td>\n",
              "      <td>4194.000000</td>\n",
              "      <td>4194.000000</td>\n",
              "      <td>4194.000000</td>\n",
              "      <td>4194.000000</td>\n",
              "      <td>4194.000000</td>\n",
              "      <td>4194.000000</td>\n",
              "      <td>4194.000000</td>\n",
              "      <td>4194.000000</td>\n",
              "      <td>4194.000000</td>\n",
              "      <td>4194.000000</td>\n",
              "      <td>4194.000000</td>\n",
              "      <td>4194.000000</td>\n",
              "      <td>4194.000000</td>\n",
              "      <td>4194.000000</td>\n",
              "      <td>4194.000000</td>\n",
              "      <td>4194.000000</td>\n",
              "      <td>4194.000000</td>\n",
              "      <td>4194.000000</td>\n",
              "      <td>4194.000000</td>\n",
              "      <td>4194.000000</td>\n",
              "      <td>4194.000000</td>\n",
              "      <td>4194.000000</td>\n",
              "      <td>4194.000000</td>\n",
              "      <td>4194.000000</td>\n",
              "      <td>4194.000000</td>\n",
              "      <td>4194.000000</td>\n",
              "      <td>4194.000000</td>\n",
              "      <td>4194.000000</td>\n",
              "      <td>4194.000000</td>\n",
              "      <td>4194.000000</td>\n",
              "      <td>4194.000000</td>\n",
              "      <td>4194.000000</td>\n",
              "      <td>4194.000000</td>\n",
              "      <td>4194.000000</td>\n",
              "      <td>4194.000000</td>\n",
              "      <td>4194.000000</td>\n",
              "      <td>4194.000000</td>\n",
              "      <td>...</td>\n",
              "      <td>4194.000000</td>\n",
              "      <td>4194.000000</td>\n",
              "      <td>4194.000000</td>\n",
              "      <td>4194.000000</td>\n",
              "      <td>4194.000000</td>\n",
              "      <td>4194.000000</td>\n",
              "      <td>4194.000000</td>\n",
              "      <td>4194.000000</td>\n",
              "      <td>4194.00000</td>\n",
              "      <td>4194.000000</td>\n",
              "      <td>4194.000000</td>\n",
              "      <td>4194.00000</td>\n",
              "      <td>4194.000000</td>\n",
              "      <td>4194.000000</td>\n",
              "      <td>4194.000000</td>\n",
              "      <td>4194.000000</td>\n",
              "      <td>4194.000000</td>\n",
              "      <td>4194.000000</td>\n",
              "      <td>4194.000000</td>\n",
              "      <td>4194.000000</td>\n",
              "      <td>4194.000000</td>\n",
              "      <td>4194.000000</td>\n",
              "      <td>4194.000000</td>\n",
              "      <td>4194.000000</td>\n",
              "      <td>4194.000000</td>\n",
              "      <td>4194.000000</td>\n",
              "      <td>4194.000000</td>\n",
              "      <td>4194.000000</td>\n",
              "      <td>4194.000000</td>\n",
              "      <td>4194.000000</td>\n",
              "      <td>4194.000000</td>\n",
              "      <td>4194.000000</td>\n",
              "      <td>4194.000000</td>\n",
              "      <td>4194.000000</td>\n",
              "      <td>4194.000000</td>\n",
              "      <td>4194.000000</td>\n",
              "      <td>4194.000000</td>\n",
              "      <td>4194.000000</td>\n",
              "      <td>4194.000000</td>\n",
              "      <td>4194.000000</td>\n",
              "    </tr>\n",
              "    <tr>\n",
              "      <th>mean</th>\n",
              "      <td>4209.773724</td>\n",
              "      <td>0.013352</td>\n",
              "      <td>0.074392</td>\n",
              "      <td>0.057940</td>\n",
              "      <td>0.428231</td>\n",
              "      <td>0.000477</td>\n",
              "      <td>0.002623</td>\n",
              "      <td>0.007630</td>\n",
              "      <td>0.007868</td>\n",
              "      <td>0.099666</td>\n",
              "      <td>0.142823</td>\n",
              "      <td>0.002623</td>\n",
              "      <td>0.086791</td>\n",
              "      <td>0.020744</td>\n",
              "      <td>0.001907</td>\n",
              "      <td>0.005007</td>\n",
              "      <td>0.682165</td>\n",
              "      <td>0.032666</td>\n",
              "      <td>0.043157</td>\n",
              "      <td>0.004530</td>\n",
              "      <td>0.231998</td>\n",
              "      <td>0.011206</td>\n",
              "      <td>0.000238</td>\n",
              "      <td>0.005484</td>\n",
              "      <td>0.231998</td>\n",
              "      <td>0.004530</td>\n",
              "      <td>0.231998</td>\n",
              "      <td>0.033381</td>\n",
              "      <td>0.000238</td>\n",
              "      <td>0.000715</td>\n",
              "      <td>0.011445</td>\n",
              "      <td>0.000238</td>\n",
              "      <td>0.072246</td>\n",
              "      <td>0.011445</td>\n",
              "      <td>0.253219</td>\n",
              "      <td>0.597282</td>\n",
              "      <td>0.012876</td>\n",
              "      <td>0.022413</td>\n",
              "      <td>0.122556</td>\n",
              "      <td>0.214592</td>\n",
              "      <td>...</td>\n",
              "      <td>0.000477</td>\n",
              "      <td>0.000238</td>\n",
              "      <td>0.049118</td>\n",
              "      <td>0.006676</td>\n",
              "      <td>0.008822</td>\n",
              "      <td>0.148546</td>\n",
              "      <td>0.002861</td>\n",
              "      <td>0.004769</td>\n",
              "      <td>0.24702</td>\n",
              "      <td>0.045303</td>\n",
              "      <td>0.116357</td>\n",
              "      <td>0.24702</td>\n",
              "      <td>0.010014</td>\n",
              "      <td>0.113495</td>\n",
              "      <td>0.049833</td>\n",
              "      <td>0.045303</td>\n",
              "      <td>0.023844</td>\n",
              "      <td>0.024082</td>\n",
              "      <td>0.053410</td>\n",
              "      <td>0.057940</td>\n",
              "      <td>0.030758</td>\n",
              "      <td>0.027897</td>\n",
              "      <td>0.056509</td>\n",
              "      <td>0.065808</td>\n",
              "      <td>0.041965</td>\n",
              "      <td>0.024082</td>\n",
              "      <td>0.036719</td>\n",
              "      <td>0.057701</td>\n",
              "      <td>0.038865</td>\n",
              "      <td>0.023605</td>\n",
              "      <td>0.027659</td>\n",
              "      <td>0.051741</td>\n",
              "      <td>0.060563</td>\n",
              "      <td>0.028135</td>\n",
              "      <td>0.028374</td>\n",
              "      <td>0.046257</td>\n",
              "      <td>0.046495</td>\n",
              "      <td>0.024797</td>\n",
              "      <td>0.027659</td>\n",
              "      <td>100.439938</td>\n",
              "    </tr>\n",
              "    <tr>\n",
              "      <th>std</th>\n",
              "      <td>2437.897217</td>\n",
              "      <td>0.114792</td>\n",
              "      <td>0.262439</td>\n",
              "      <td>0.233658</td>\n",
              "      <td>0.494881</td>\n",
              "      <td>0.021835</td>\n",
              "      <td>0.051152</td>\n",
              "      <td>0.087026</td>\n",
              "      <td>0.088365</td>\n",
              "      <td>0.299590</td>\n",
              "      <td>0.349934</td>\n",
              "      <td>0.051152</td>\n",
              "      <td>0.281562</td>\n",
              "      <td>0.142543</td>\n",
              "      <td>0.043638</td>\n",
              "      <td>0.070592</td>\n",
              "      <td>0.465690</td>\n",
              "      <td>0.177781</td>\n",
              "      <td>0.203234</td>\n",
              "      <td>0.067163</td>\n",
              "      <td>0.422158</td>\n",
              "      <td>0.105278</td>\n",
              "      <td>0.015441</td>\n",
              "      <td>0.073860</td>\n",
              "      <td>0.422158</td>\n",
              "      <td>0.067163</td>\n",
              "      <td>0.422158</td>\n",
              "      <td>0.179651</td>\n",
              "      <td>0.015441</td>\n",
              "      <td>0.026739</td>\n",
              "      <td>0.106380</td>\n",
              "      <td>0.015441</td>\n",
              "      <td>0.258926</td>\n",
              "      <td>0.106380</td>\n",
              "      <td>0.434907</td>\n",
              "      <td>0.490503</td>\n",
              "      <td>0.112751</td>\n",
              "      <td>0.148040</td>\n",
              "      <td>0.327966</td>\n",
              "      <td>0.410588</td>\n",
              "      <td>...</td>\n",
              "      <td>0.021835</td>\n",
              "      <td>0.015441</td>\n",
              "      <td>0.216140</td>\n",
              "      <td>0.081445</td>\n",
              "      <td>0.093522</td>\n",
              "      <td>0.355682</td>\n",
              "      <td>0.053420</td>\n",
              "      <td>0.068899</td>\n",
              "      <td>0.43133</td>\n",
              "      <td>0.207992</td>\n",
              "      <td>0.320690</td>\n",
              "      <td>0.43133</td>\n",
              "      <td>0.099581</td>\n",
              "      <td>0.317235</td>\n",
              "      <td>0.217626</td>\n",
              "      <td>0.207992</td>\n",
              "      <td>0.152580</td>\n",
              "      <td>0.153322</td>\n",
              "      <td>0.224876</td>\n",
              "      <td>0.233658</td>\n",
              "      <td>0.172683</td>\n",
              "      <td>0.164697</td>\n",
              "      <td>0.230930</td>\n",
              "      <td>0.247976</td>\n",
              "      <td>0.200532</td>\n",
              "      <td>0.153322</td>\n",
              "      <td>0.188094</td>\n",
              "      <td>0.233206</td>\n",
              "      <td>0.193296</td>\n",
              "      <td>0.151834</td>\n",
              "      <td>0.164012</td>\n",
              "      <td>0.221529</td>\n",
              "      <td>0.238555</td>\n",
              "      <td>0.165379</td>\n",
              "      <td>0.166058</td>\n",
              "      <td>0.210065</td>\n",
              "      <td>0.210580</td>\n",
              "      <td>0.155526</td>\n",
              "      <td>0.164012</td>\n",
              "      <td>11.994753</td>\n",
              "    </tr>\n",
              "    <tr>\n",
              "      <th>min</th>\n",
              "      <td>0.000000</td>\n",
              "      <td>0.000000</td>\n",
              "      <td>0.000000</td>\n",
              "      <td>0.000000</td>\n",
              "      <td>0.000000</td>\n",
              "      <td>0.000000</td>\n",
              "      <td>0.000000</td>\n",
              "      <td>0.000000</td>\n",
              "      <td>0.000000</td>\n",
              "      <td>0.000000</td>\n",
              "      <td>0.000000</td>\n",
              "      <td>0.000000</td>\n",
              "      <td>0.000000</td>\n",
              "      <td>0.000000</td>\n",
              "      <td>0.000000</td>\n",
              "      <td>0.000000</td>\n",
              "      <td>0.000000</td>\n",
              "      <td>0.000000</td>\n",
              "      <td>0.000000</td>\n",
              "      <td>0.000000</td>\n",
              "      <td>0.000000</td>\n",
              "      <td>0.000000</td>\n",
              "      <td>0.000000</td>\n",
              "      <td>0.000000</td>\n",
              "      <td>0.000000</td>\n",
              "      <td>0.000000</td>\n",
              "      <td>0.000000</td>\n",
              "      <td>0.000000</td>\n",
              "      <td>0.000000</td>\n",
              "      <td>0.000000</td>\n",
              "      <td>0.000000</td>\n",
              "      <td>0.000000</td>\n",
              "      <td>0.000000</td>\n",
              "      <td>0.000000</td>\n",
              "      <td>0.000000</td>\n",
              "      <td>0.000000</td>\n",
              "      <td>0.000000</td>\n",
              "      <td>0.000000</td>\n",
              "      <td>0.000000</td>\n",
              "      <td>0.000000</td>\n",
              "      <td>...</td>\n",
              "      <td>0.000000</td>\n",
              "      <td>0.000000</td>\n",
              "      <td>0.000000</td>\n",
              "      <td>0.000000</td>\n",
              "      <td>0.000000</td>\n",
              "      <td>0.000000</td>\n",
              "      <td>0.000000</td>\n",
              "      <td>0.000000</td>\n",
              "      <td>0.00000</td>\n",
              "      <td>0.000000</td>\n",
              "      <td>0.000000</td>\n",
              "      <td>0.00000</td>\n",
              "      <td>0.000000</td>\n",
              "      <td>0.000000</td>\n",
              "      <td>0.000000</td>\n",
              "      <td>0.000000</td>\n",
              "      <td>0.000000</td>\n",
              "      <td>0.000000</td>\n",
              "      <td>0.000000</td>\n",
              "      <td>0.000000</td>\n",
              "      <td>0.000000</td>\n",
              "      <td>0.000000</td>\n",
              "      <td>0.000000</td>\n",
              "      <td>0.000000</td>\n",
              "      <td>0.000000</td>\n",
              "      <td>0.000000</td>\n",
              "      <td>0.000000</td>\n",
              "      <td>0.000000</td>\n",
              "      <td>0.000000</td>\n",
              "      <td>0.000000</td>\n",
              "      <td>0.000000</td>\n",
              "      <td>0.000000</td>\n",
              "      <td>0.000000</td>\n",
              "      <td>0.000000</td>\n",
              "      <td>0.000000</td>\n",
              "      <td>0.000000</td>\n",
              "      <td>0.000000</td>\n",
              "      <td>0.000000</td>\n",
              "      <td>0.000000</td>\n",
              "      <td>72.110000</td>\n",
              "    </tr>\n",
              "    <tr>\n",
              "      <th>25%</th>\n",
              "      <td>2096.250000</td>\n",
              "      <td>0.000000</td>\n",
              "      <td>0.000000</td>\n",
              "      <td>0.000000</td>\n",
              "      <td>0.000000</td>\n",
              "      <td>0.000000</td>\n",
              "      <td>0.000000</td>\n",
              "      <td>0.000000</td>\n",
              "      <td>0.000000</td>\n",
              "      <td>0.000000</td>\n",
              "      <td>0.000000</td>\n",
              "      <td>0.000000</td>\n",
              "      <td>0.000000</td>\n",
              "      <td>0.000000</td>\n",
              "      <td>0.000000</td>\n",
              "      <td>0.000000</td>\n",
              "      <td>0.000000</td>\n",
              "      <td>0.000000</td>\n",
              "      <td>0.000000</td>\n",
              "      <td>0.000000</td>\n",
              "      <td>0.000000</td>\n",
              "      <td>0.000000</td>\n",
              "      <td>0.000000</td>\n",
              "      <td>0.000000</td>\n",
              "      <td>0.000000</td>\n",
              "      <td>0.000000</td>\n",
              "      <td>0.000000</td>\n",
              "      <td>0.000000</td>\n",
              "      <td>0.000000</td>\n",
              "      <td>0.000000</td>\n",
              "      <td>0.000000</td>\n",
              "      <td>0.000000</td>\n",
              "      <td>0.000000</td>\n",
              "      <td>0.000000</td>\n",
              "      <td>0.000000</td>\n",
              "      <td>0.000000</td>\n",
              "      <td>0.000000</td>\n",
              "      <td>0.000000</td>\n",
              "      <td>0.000000</td>\n",
              "      <td>0.000000</td>\n",
              "      <td>...</td>\n",
              "      <td>0.000000</td>\n",
              "      <td>0.000000</td>\n",
              "      <td>0.000000</td>\n",
              "      <td>0.000000</td>\n",
              "      <td>0.000000</td>\n",
              "      <td>0.000000</td>\n",
              "      <td>0.000000</td>\n",
              "      <td>0.000000</td>\n",
              "      <td>0.00000</td>\n",
              "      <td>0.000000</td>\n",
              "      <td>0.000000</td>\n",
              "      <td>0.00000</td>\n",
              "      <td>0.000000</td>\n",
              "      <td>0.000000</td>\n",
              "      <td>0.000000</td>\n",
              "      <td>0.000000</td>\n",
              "      <td>0.000000</td>\n",
              "      <td>0.000000</td>\n",
              "      <td>0.000000</td>\n",
              "      <td>0.000000</td>\n",
              "      <td>0.000000</td>\n",
              "      <td>0.000000</td>\n",
              "      <td>0.000000</td>\n",
              "      <td>0.000000</td>\n",
              "      <td>0.000000</td>\n",
              "      <td>0.000000</td>\n",
              "      <td>0.000000</td>\n",
              "      <td>0.000000</td>\n",
              "      <td>0.000000</td>\n",
              "      <td>0.000000</td>\n",
              "      <td>0.000000</td>\n",
              "      <td>0.000000</td>\n",
              "      <td>0.000000</td>\n",
              "      <td>0.000000</td>\n",
              "      <td>0.000000</td>\n",
              "      <td>0.000000</td>\n",
              "      <td>0.000000</td>\n",
              "      <td>0.000000</td>\n",
              "      <td>0.000000</td>\n",
              "      <td>90.800000</td>\n",
              "    </tr>\n",
              "    <tr>\n",
              "      <th>50%</th>\n",
              "      <td>4224.000000</td>\n",
              "      <td>0.000000</td>\n",
              "      <td>0.000000</td>\n",
              "      <td>0.000000</td>\n",
              "      <td>0.000000</td>\n",
              "      <td>0.000000</td>\n",
              "      <td>0.000000</td>\n",
              "      <td>0.000000</td>\n",
              "      <td>0.000000</td>\n",
              "      <td>0.000000</td>\n",
              "      <td>0.000000</td>\n",
              "      <td>0.000000</td>\n",
              "      <td>0.000000</td>\n",
              "      <td>0.000000</td>\n",
              "      <td>0.000000</td>\n",
              "      <td>0.000000</td>\n",
              "      <td>1.000000</td>\n",
              "      <td>0.000000</td>\n",
              "      <td>0.000000</td>\n",
              "      <td>0.000000</td>\n",
              "      <td>0.000000</td>\n",
              "      <td>0.000000</td>\n",
              "      <td>0.000000</td>\n",
              "      <td>0.000000</td>\n",
              "      <td>0.000000</td>\n",
              "      <td>0.000000</td>\n",
              "      <td>0.000000</td>\n",
              "      <td>0.000000</td>\n",
              "      <td>0.000000</td>\n",
              "      <td>0.000000</td>\n",
              "      <td>0.000000</td>\n",
              "      <td>0.000000</td>\n",
              "      <td>0.000000</td>\n",
              "      <td>0.000000</td>\n",
              "      <td>0.000000</td>\n",
              "      <td>1.000000</td>\n",
              "      <td>0.000000</td>\n",
              "      <td>0.000000</td>\n",
              "      <td>0.000000</td>\n",
              "      <td>0.000000</td>\n",
              "      <td>...</td>\n",
              "      <td>0.000000</td>\n",
              "      <td>0.000000</td>\n",
              "      <td>0.000000</td>\n",
              "      <td>0.000000</td>\n",
              "      <td>0.000000</td>\n",
              "      <td>0.000000</td>\n",
              "      <td>0.000000</td>\n",
              "      <td>0.000000</td>\n",
              "      <td>0.00000</td>\n",
              "      <td>0.000000</td>\n",
              "      <td>0.000000</td>\n",
              "      <td>0.00000</td>\n",
              "      <td>0.000000</td>\n",
              "      <td>0.000000</td>\n",
              "      <td>0.000000</td>\n",
              "      <td>0.000000</td>\n",
              "      <td>0.000000</td>\n",
              "      <td>0.000000</td>\n",
              "      <td>0.000000</td>\n",
              "      <td>0.000000</td>\n",
              "      <td>0.000000</td>\n",
              "      <td>0.000000</td>\n",
              "      <td>0.000000</td>\n",
              "      <td>0.000000</td>\n",
              "      <td>0.000000</td>\n",
              "      <td>0.000000</td>\n",
              "      <td>0.000000</td>\n",
              "      <td>0.000000</td>\n",
              "      <td>0.000000</td>\n",
              "      <td>0.000000</td>\n",
              "      <td>0.000000</td>\n",
              "      <td>0.000000</td>\n",
              "      <td>0.000000</td>\n",
              "      <td>0.000000</td>\n",
              "      <td>0.000000</td>\n",
              "      <td>0.000000</td>\n",
              "      <td>0.000000</td>\n",
              "      <td>0.000000</td>\n",
              "      <td>0.000000</td>\n",
              "      <td>99.090000</td>\n",
              "    </tr>\n",
              "    <tr>\n",
              "      <th>75%</th>\n",
              "      <td>6316.750000</td>\n",
              "      <td>0.000000</td>\n",
              "      <td>0.000000</td>\n",
              "      <td>0.000000</td>\n",
              "      <td>1.000000</td>\n",
              "      <td>0.000000</td>\n",
              "      <td>0.000000</td>\n",
              "      <td>0.000000</td>\n",
              "      <td>0.000000</td>\n",
              "      <td>0.000000</td>\n",
              "      <td>0.000000</td>\n",
              "      <td>0.000000</td>\n",
              "      <td>0.000000</td>\n",
              "      <td>0.000000</td>\n",
              "      <td>0.000000</td>\n",
              "      <td>0.000000</td>\n",
              "      <td>1.000000</td>\n",
              "      <td>0.000000</td>\n",
              "      <td>0.000000</td>\n",
              "      <td>0.000000</td>\n",
              "      <td>0.000000</td>\n",
              "      <td>0.000000</td>\n",
              "      <td>0.000000</td>\n",
              "      <td>0.000000</td>\n",
              "      <td>0.000000</td>\n",
              "      <td>0.000000</td>\n",
              "      <td>0.000000</td>\n",
              "      <td>0.000000</td>\n",
              "      <td>0.000000</td>\n",
              "      <td>0.000000</td>\n",
              "      <td>0.000000</td>\n",
              "      <td>0.000000</td>\n",
              "      <td>0.000000</td>\n",
              "      <td>0.000000</td>\n",
              "      <td>1.000000</td>\n",
              "      <td>1.000000</td>\n",
              "      <td>0.000000</td>\n",
              "      <td>0.000000</td>\n",
              "      <td>0.000000</td>\n",
              "      <td>0.000000</td>\n",
              "      <td>...</td>\n",
              "      <td>0.000000</td>\n",
              "      <td>0.000000</td>\n",
              "      <td>0.000000</td>\n",
              "      <td>0.000000</td>\n",
              "      <td>0.000000</td>\n",
              "      <td>0.000000</td>\n",
              "      <td>0.000000</td>\n",
              "      <td>0.000000</td>\n",
              "      <td>0.00000</td>\n",
              "      <td>0.000000</td>\n",
              "      <td>0.000000</td>\n",
              "      <td>0.00000</td>\n",
              "      <td>0.000000</td>\n",
              "      <td>0.000000</td>\n",
              "      <td>0.000000</td>\n",
              "      <td>0.000000</td>\n",
              "      <td>0.000000</td>\n",
              "      <td>0.000000</td>\n",
              "      <td>0.000000</td>\n",
              "      <td>0.000000</td>\n",
              "      <td>0.000000</td>\n",
              "      <td>0.000000</td>\n",
              "      <td>0.000000</td>\n",
              "      <td>0.000000</td>\n",
              "      <td>0.000000</td>\n",
              "      <td>0.000000</td>\n",
              "      <td>0.000000</td>\n",
              "      <td>0.000000</td>\n",
              "      <td>0.000000</td>\n",
              "      <td>0.000000</td>\n",
              "      <td>0.000000</td>\n",
              "      <td>0.000000</td>\n",
              "      <td>0.000000</td>\n",
              "      <td>0.000000</td>\n",
              "      <td>0.000000</td>\n",
              "      <td>0.000000</td>\n",
              "      <td>0.000000</td>\n",
              "      <td>0.000000</td>\n",
              "      <td>0.000000</td>\n",
              "      <td>108.967500</td>\n",
              "    </tr>\n",
              "    <tr>\n",
              "      <th>max</th>\n",
              "      <td>8417.000000</td>\n",
              "      <td>1.000000</td>\n",
              "      <td>1.000000</td>\n",
              "      <td>1.000000</td>\n",
              "      <td>1.000000</td>\n",
              "      <td>1.000000</td>\n",
              "      <td>1.000000</td>\n",
              "      <td>1.000000</td>\n",
              "      <td>1.000000</td>\n",
              "      <td>1.000000</td>\n",
              "      <td>1.000000</td>\n",
              "      <td>1.000000</td>\n",
              "      <td>1.000000</td>\n",
              "      <td>1.000000</td>\n",
              "      <td>1.000000</td>\n",
              "      <td>1.000000</td>\n",
              "      <td>1.000000</td>\n",
              "      <td>1.000000</td>\n",
              "      <td>1.000000</td>\n",
              "      <td>1.000000</td>\n",
              "      <td>1.000000</td>\n",
              "      <td>1.000000</td>\n",
              "      <td>1.000000</td>\n",
              "      <td>1.000000</td>\n",
              "      <td>1.000000</td>\n",
              "      <td>1.000000</td>\n",
              "      <td>1.000000</td>\n",
              "      <td>1.000000</td>\n",
              "      <td>1.000000</td>\n",
              "      <td>1.000000</td>\n",
              "      <td>1.000000</td>\n",
              "      <td>1.000000</td>\n",
              "      <td>1.000000</td>\n",
              "      <td>1.000000</td>\n",
              "      <td>1.000000</td>\n",
              "      <td>1.000000</td>\n",
              "      <td>1.000000</td>\n",
              "      <td>1.000000</td>\n",
              "      <td>1.000000</td>\n",
              "      <td>1.000000</td>\n",
              "      <td>...</td>\n",
              "      <td>1.000000</td>\n",
              "      <td>1.000000</td>\n",
              "      <td>1.000000</td>\n",
              "      <td>1.000000</td>\n",
              "      <td>1.000000</td>\n",
              "      <td>1.000000</td>\n",
              "      <td>1.000000</td>\n",
              "      <td>1.000000</td>\n",
              "      <td>1.00000</td>\n",
              "      <td>1.000000</td>\n",
              "      <td>1.000000</td>\n",
              "      <td>1.00000</td>\n",
              "      <td>1.000000</td>\n",
              "      <td>1.000000</td>\n",
              "      <td>1.000000</td>\n",
              "      <td>1.000000</td>\n",
              "      <td>1.000000</td>\n",
              "      <td>1.000000</td>\n",
              "      <td>1.000000</td>\n",
              "      <td>1.000000</td>\n",
              "      <td>1.000000</td>\n",
              "      <td>1.000000</td>\n",
              "      <td>1.000000</td>\n",
              "      <td>1.000000</td>\n",
              "      <td>1.000000</td>\n",
              "      <td>1.000000</td>\n",
              "      <td>1.000000</td>\n",
              "      <td>1.000000</td>\n",
              "      <td>1.000000</td>\n",
              "      <td>1.000000</td>\n",
              "      <td>1.000000</td>\n",
              "      <td>1.000000</td>\n",
              "      <td>1.000000</td>\n",
              "      <td>1.000000</td>\n",
              "      <td>1.000000</td>\n",
              "      <td>1.000000</td>\n",
              "      <td>1.000000</td>\n",
              "      <td>1.000000</td>\n",
              "      <td>1.000000</td>\n",
              "      <td>149.630000</td>\n",
              "    </tr>\n",
              "  </tbody>\n",
              "</table>\n",
              "<p>8 rows × 543 columns</p>\n",
              "</div>"
            ],
            "text/plain": [
              "                ID          X10  ...         X8_y            y\n",
              "count  4194.000000  4194.000000  ...  4194.000000  4194.000000\n",
              "mean   4209.773724     0.013352  ...     0.027659   100.439938\n",
              "std    2437.897217     0.114792  ...     0.164012    11.994753\n",
              "min       0.000000     0.000000  ...     0.000000    72.110000\n",
              "25%    2096.250000     0.000000  ...     0.000000    90.800000\n",
              "50%    4224.000000     0.000000  ...     0.000000    99.090000\n",
              "75%    6316.750000     0.000000  ...     0.000000   108.967500\n",
              "max    8417.000000     1.000000  ...     1.000000   149.630000\n",
              "\n",
              "[8 rows x 543 columns]"
            ]
          },
          "metadata": {
            "tags": []
          },
          "execution_count": 20
        }
      ]
    },
    {
      "cell_type": "code",
      "metadata": {
        "id": "NUeoxdtnBYY7",
        "colab_type": "code",
        "colab": {
          "base_uri": "https://localhost:8080/",
          "height": 84
        },
        "outputId": "df4b4671-715a-44ba-8947-cf7d70b61eeb"
      },
      "source": [
        "print(type(x_filtered))\n",
        "print(x_filtered.shape)\n",
        "print(type(x_dummies_2))\n",
        "print(x_dummies_2.shape)"
      ],
      "execution_count": null,
      "outputs": [
        {
          "output_type": "stream",
          "text": [
            "<class 'pandas.core.frame.DataFrame'>\n",
            "(4194, 543)\n",
            "<class 'pandas.core.frame.DataFrame'>\n",
            "(4209, 542)\n"
          ],
          "name": "stdout"
        }
      ]
    },
    {
      "cell_type": "code",
      "metadata": {
        "id": "SDYvzuu-N18O",
        "colab_type": "code",
        "colab": {
          "base_uri": "https://localhost:8080/",
          "height": 67
        },
        "outputId": "101f620d-f6f0-483f-adb5-12b005dbc98a"
      },
      "source": [
        "print(x_filtered.shape)\n",
        "y=x_filtered['y']\n",
        "x_filtered=x_filtered.drop(['y'], axis=1)\n",
        "print(x_filtered.shape, y.shape)\n",
        "print(type(x_filtered), type(y))"
      ],
      "execution_count": null,
      "outputs": [
        {
          "output_type": "stream",
          "text": [
            "(4194, 543)\n",
            "(4194, 542) (4194,)\n",
            "<class 'pandas.core.frame.DataFrame'> <class 'pandas.core.series.Series'>\n"
          ],
          "name": "stdout"
        }
      ]
    },
    {
      "cell_type": "code",
      "metadata": {
        "id": "jDfXaNfAURKX",
        "colab_type": "code",
        "colab": {
          "base_uri": "https://localhost:8080/",
          "height": 34
        },
        "outputId": "57faea3e-9387-43b7-de5c-0d31f9f91d1a"
      },
      "source": [
        "top_20_features= ['ID', 'X14', 'X29', 'X54', 'X76', 'X118', 'X119', 'X127', 'X132',\n",
        "       'X136', 'X189', 'X222', 'X232', 'X263', 'X279', 'X311', 'X314', 'X315',\n",
        "       'X6_g', 'X6_j']\n",
        "type(top_20_features)"
      ],
      "execution_count": null,
      "outputs": [
        {
          "output_type": "execute_result",
          "data": {
            "text/plain": [
              "list"
            ]
          },
          "metadata": {
            "tags": []
          },
          "execution_count": 23
        }
      ]
    },
    {
      "cell_type": "code",
      "metadata": {
        "id": "p6VACqopaNeI",
        "colab_type": "code",
        "colab": {}
      },
      "source": [
        "with open('/content/drive/My Drive/Colab Notebooks/Case Study 1/inf_indices_complete.txt', 'r') as f:\n",
        "    checc=json.loads(f.read())\n"
      ],
      "execution_count": null,
      "outputs": []
    },
    {
      "cell_type": "code",
      "metadata": {
        "id": "_errG23a4ZRo",
        "colab_type": "code",
        "colab": {}
      },
      "source": [
        "inf_indices=checc"
      ],
      "execution_count": null,
      "outputs": []
    },
    {
      "cell_type": "code",
      "metadata": {
        "id": "B-aGgDOGwGBn",
        "colab_type": "code",
        "colab": {
          "base_uri": "https://localhost:8080/",
          "height": 67
        },
        "outputId": "3111355d-cd2b-4b45-8eac-37dc4f54a2c5"
      },
      "source": [
        "print(x_filtered.shape)\n",
        "x_filtered = x_filtered.drop(inf_indices, axis=1)\n",
        "x_dummies_2= x_dummies_2.drop(inf_indices, axis=1)\n",
        "print(x_filtered.shape)\n",
        "print(x_dummies_2.shape)"
      ],
      "execution_count": null,
      "outputs": [
        {
          "output_type": "stream",
          "text": [
            "(4194, 542)\n",
            "(4194, 121)\n",
            "(4209, 121)\n"
          ],
          "name": "stdout"
        }
      ]
    },
    {
      "cell_type": "markdown",
      "metadata": {
        "id": "rYGeJxEqYPYS",
        "colab_type": "text"
      },
      "source": [
        "4: Adding new features using dimensionality reduction techniques"
      ]
    },
    {
      "cell_type": "code",
      "metadata": {
        "id": "MWCYghtB0yEl",
        "colab_type": "code",
        "colab": {}
      },
      "source": [
        "from sklearn.decomposition import Truncate dSVD\n",
        "tsvd= TruncatedSVD(n_components=2, random_state=42) \n",
        "tsvd_train= tsvd.fit_transform(x_filtered)\n",
        "tsvd_test=  tsvd.transform(x_dummies_2) "
      ],
      "execution_count": null,
      "outputs": []
    },
    {
      "cell_type": "code",
      "metadata": {
        "id": "8DzJkk6e0yAy",
        "colab_type": "code",
        "colab": {
          "base_uri": "https://localhost:8080/",
          "height": 34
        },
        "outputId": "8b3811fa-3531-4402-e431-9830f10d5b3f"
      },
      "source": [
        "tsvd_train.shape"
      ],
      "execution_count": null,
      "outputs": [
        {
          "output_type": "execute_result",
          "data": {
            "text/plain": [
              "(4194, 2)"
            ]
          },
          "metadata": {
            "tags": []
          },
          "execution_count": 46
        }
      ]
    },
    {
      "cell_type": "code",
      "metadata": {
        "id": "ocl_B4VXzW9v",
        "colab_type": "code",
        "colab": {}
      },
      "source": [
        "from sklearn.decomposition import PCA\n",
        "pca = PCA(n_components=2, random_state=42)\n",
        "pca_train= pca.fit_transform(x_filtered)\n",
        "pca_test= pca.transform(x_dummies_2)"
      ],
      "execution_count": null,
      "outputs": []
    },
    {
      "cell_type": "code",
      "metadata": {
        "id": "kAkUZjdXzedh",
        "colab_type": "code",
        "colab": {
          "base_uri": "https://localhost:8080/",
          "height": 34
        },
        "outputId": "4a1b6d56-1bcf-461e-d818-63cf10e57a71"
      },
      "source": [
        "pca_train.shape"
      ],
      "execution_count": null,
      "outputs": [
        {
          "output_type": "execute_result",
          "data": {
            "text/plain": [
              "(4194, 2)"
            ]
          },
          "metadata": {
            "tags": []
          },
          "execution_count": 48
        }
      ]
    },
    {
      "cell_type": "code",
      "metadata": {
        "id": "QoaD17eFzh9R",
        "colab_type": "code",
        "colab": {}
      },
      "source": [
        "from sklearn.decomposition import FastICA\n",
        "ica=FastICA(n_components=2, random_state=42)\n",
        "ica_train= ica.fit_transform(x_filtered)\n",
        "ica_test= ica.transform(x_dummies_2)"
      ],
      "execution_count": null,
      "outputs": []
    },
    {
      "cell_type": "code",
      "metadata": {
        "id": "4o4ouL3Vzh58",
        "colab_type": "code",
        "colab": {
          "base_uri": "https://localhost:8080/",
          "height": 34
        },
        "outputId": "25d12100-322b-4892-c2b9-fc31a816ddb9"
      },
      "source": [
        "ica_train.shape"
      ],
      "execution_count": null,
      "outputs": [
        {
          "output_type": "execute_result",
          "data": {
            "text/plain": [
              "(4194, 2)"
            ]
          },
          "metadata": {
            "tags": []
          },
          "execution_count": 50
        }
      ]
    },
    {
      "cell_type": "code",
      "metadata": {
        "id": "ptlW9EOQ0x-b",
        "colab_type": "code",
        "colab": {}
      },
      "source": [
        "for i in range(0, tsvd_train.shape[1]):\n",
        "    x_filtered['tsvd_'+str(i)]= tsvd_train[:, i]\n",
        "    x_dummies_2['tsvd_'+str(i)]= tsvd_test[:, i]\n",
        "    x_filtered['pca_'+str(i)]= pca_train[:, i]\n",
        "    x_dummies_2['pca_'+str(i)]= pca_test[:, i]\n",
        "    x_filtered['ica_'+str(i)]= ica_train[:, i]\n",
        "    x_dummies_2['ica_'+str(i)]= ica_test[:, i]"
      ],
      "execution_count": null,
      "outputs": []
    },
    {
      "cell_type": "code",
      "metadata": {
        "id": "ryI__Lom0xK8",
        "colab_type": "code",
        "colab": {
          "base_uri": "https://localhost:8080/",
          "height": 34
        },
        "outputId": "c0e3b867-6f9c-437e-fd86-c3f0ce5a369e"
      },
      "source": [
        "print(x_filtered.shape, x_dummies_2.shape)"
      ],
      "execution_count": null,
      "outputs": [
        {
          "output_type": "stream",
          "text": [
            "(4194, 127) (4209, 127)\n"
          ],
          "name": "stdout"
        }
      ]
    },
    {
      "cell_type": "markdown",
      "metadata": {
        "id": "Sc3IK_RcYpzv",
        "colab_type": "text"
      },
      "source": [
        "# 3: Adding new features using the top important features"
      ]
    },
    {
      "cell_type": "code",
      "metadata": {
        "id": "QJwUu8KtW6dT",
        "colab_type": "code",
        "colab": {}
      },
      "source": [
        "x_filtered['X64 + X218']=x_filtered['X64']+x_filtered['X218']\n",
        "x_dummies_2['X64 + X218']=x_dummies_2['X64']+x_dummies_2['X218']\n",
        "\n",
        "x_filtered['X218 + X224 + X273']=x_filtered['X218']+x_filtered['X224'] + x_filtered['X273']\n",
        "x_dummies_2['X218 + X224 + X273']=x_dummies_2['X218']+x_dummies_2['X224'] + x_dummies_2['X273']\n",
        "\n",
        "x_filtered['X64 + X224 + X273']=x_filtered['X64']+x_filtered['X224'] + x_filtered['X273']\n",
        "x_dummies_2['X64 + X224 + X273']=x_dummies_2['X64']+x_dummies_2['X224'] + x_dummies_2['X273']\n",
        "\n"
      ],
      "execution_count": null,
      "outputs": []
    },
    {
      "cell_type": "code",
      "metadata": {
        "id": "YzjjNEqH8KfL",
        "colab_type": "code",
        "colab": {}
      },
      "source": [
        "x_filtered['X314 + X315']=x_filtered['X314']+x_filtered['X315']\n",
        "x_dummies_2['X314 + X315']=x_dummies_2['X314']+x_dummies_2['X315']\n",
        "\n",
        "x_filtered['X314 + X315 + X29']=x_filtered['X314']+x_filtered['X315'] + x_filtered['X29']\n",
        "x_dummies_2['X314 + X315 + X29']=x_dummies_2['X314']+x_dummies_2['X315'] + x_dummies_2['X29']\n",
        "\n",
        "x_filtered['X314 + X315 + X118']=x_filtered['X314']+x_filtered['X315'] + x_filtered['X118']\n",
        "x_dummies_2['X314 + X315 + X118']=x_dummies_2['X314']+x_dummies_2['X315'] + x_dummies_2['X118']\n",
        "\n",
        "x_filtered['X127 + X189']=x_filtered['X127']+x_filtered['X189']\n",
        "x_dummies_2['X127 + X189']=x_dummies_2['X127']+x_dummies_2['X189']\n",
        "\n",
        "x_filtered['X118 + X54']=x_filtered['X118']+x_filtered['X54']\n",
        "x_dummies_2['X118 + X54']=x_dummies_2['X118']+x_dummies_2['X54']\n"
      ],
      "execution_count": null,
      "outputs": []
    },
    {
      "cell_type": "code",
      "metadata": {
        "id": "0gyB-Z0eM1ed",
        "colab_type": "code",
        "colab": {}
      },
      "source": [
        "# for adaboost splitting x_filtered\n",
        "from sklearn.model_selection import train_test_split \n",
        "x_train, x_test, y_train, y_test = train_test_split(x_filtered, y, test_size=0.2, random_state=42)"
      ],
      "execution_count": null,
      "outputs": []
    },
    {
      "cell_type": "markdown",
      "metadata": {
        "id": "U8tfopYHaYiY",
        "colab_type": "text"
      },
      "source": [
        "# : ==========================================\n",
        "\n",
        "\n"
      ]
    },
    {
      "cell_type": "markdown",
      "metadata": {
        "id": "Oku2h-dJJjHN",
        "colab_type": "text"
      },
      "source": [
        "#  4: RandomForestRegressor"
      ]
    },
    {
      "cell_type": "code",
      "metadata": {
        "id": "K16AspTbIcEY",
        "colab_type": "code",
        "colab": {
          "base_uri": "https://localhost:8080/",
          "height": 54
        },
        "outputId": "d3e9a510-0359-4b17-ea18-7b65289eef1a"
      },
      "source": [
        "from sklearn.ensemble import RandomForestRegressor\n",
        "# n_estimators, max_features, max_depth, min_samples_split, min_samples_leaf, bootstrap\n",
        "from sklearn.model_selection import RandomizedSearchCV\n",
        "\n",
        "# Number of trees in a Random forest\n",
        "n_estimators=[int(x) for x in np.linspace (start=100, stop=1000, num=10)]\n",
        "\n",
        "# Number of features to consider at every split\n",
        "max_features=['auto', 'sqrt']\n",
        "\n",
        "# Maximun no of levels in a tree\n",
        "max_depth=[int(x) for x in np.linspace(10, 110, num = 11)]\n",
        "max_depth.append(None)\n",
        "\n",
        "# minimum number of samples required to split a node\n",
        "min_samples_split = np.arange(50,250,20)\n",
        "\n",
        "# Minimum number of samples required at each leaf node\n",
        "min_samples_leaf = np.arange(5,50,5)\n",
        "# Method of selecting samples for training each tree\n",
        "bootstrap = [True, False]\n",
        "\n",
        "# Create the random grid\n",
        "random_grid = {'n_estimators': n_estimators,\n",
        "               'max_features': max_features,\n",
        "               'max_depth': max_depth,\n",
        "               'min_samples_split': min_samples_split,\n",
        "               'min_samples_leaf': min_samples_leaf,\n",
        "               'bootstrap': bootstrap}\n",
        "print(random_grid)"
      ],
      "execution_count": null,
      "outputs": [
        {
          "output_type": "stream",
          "text": [
            "{'n_estimators': [100, 200, 300, 400, 500, 600, 700, 800, 900, 1000], 'max_features': ['auto', 'sqrt'], 'max_depth': [10, 20, 30, 40, 50, 60, 70, 80, 90, 100, 110, None], 'min_samples_split': array([ 50,  70,  90, 110, 130, 150, 170, 190, 210, 230]), 'min_samples_leaf': array([ 5, 10, 15, 20, 25, 30, 35, 40, 45]), 'bootstrap': [True, False]}\n"
          ],
          "name": "stdout"
        }
      ]
    },
    {
      "cell_type": "code",
      "metadata": {
        "id": "sbOaee98IcAq",
        "colab_type": "code",
        "colab": {
          "base_uri": "https://localhost:8080/",
          "height": 558
        },
        "outputId": "ac396851-c16c-42d9-e1fd-b8dd40bfff88"
      },
      "source": [
        "# Use the random grid to search for best hyperparameters\n",
        "# First create the base model to tune\n",
        "rf = RandomForestRegressor()\n",
        "# Random search of parameters, using 3 fold cross validation, \n",
        "# search across 100 different combinations, and use all available cores\n",
        "rf_random = RandomizedSearchCV(estimator = rf, param_distributions = random_grid, n_iter = 100, cv = 3, verbose=2, random_state=42, n_jobs = -1)\n",
        "# Fit the random search model \n",
        "rf_random.fit(x_filtered, y)"
      ],
      "execution_count": null,
      "outputs": [
        {
          "output_type": "stream",
          "text": [
            "Fitting 3 folds for each of 100 candidates, totalling 300 fits\n"
          ],
          "name": "stdout"
        },
        {
          "output_type": "stream",
          "text": [
            "[Parallel(n_jobs=-1)]: Using backend LokyBackend with 2 concurrent workers.\n",
            "[Parallel(n_jobs=-1)]: Done  37 tasks      | elapsed:  3.0min\n",
            "[Parallel(n_jobs=-1)]: Done 158 tasks      | elapsed: 14.2min\n",
            "[Parallel(n_jobs=-1)]: Done 300 out of 300 | elapsed: 28.1min finished\n"
          ],
          "name": "stderr"
        },
        {
          "output_type": "execute_result",
          "data": {
            "text/plain": [
              "RandomizedSearchCV(cv=3, error_score=nan,\n",
              "                   estimator=RandomForestRegressor(bootstrap=True,\n",
              "                                                   ccp_alpha=0.0,\n",
              "                                                   criterion='mse',\n",
              "                                                   max_depth=None,\n",
              "                                                   max_features='auto',\n",
              "                                                   max_leaf_nodes=None,\n",
              "                                                   max_samples=None,\n",
              "                                                   min_impurity_decrease=0.0,\n",
              "                                                   min_impurity_split=None,\n",
              "                                                   min_samples_leaf=1,\n",
              "                                                   min_samples_split=2,\n",
              "                                                   min_weight_fraction_leaf=0.0,\n",
              "                                                   n_estimators=100,\n",
              "                                                   n_jobs=None, oob_score=Fals...\n",
              "                                        'max_depth': [10, 20, 30, 40, 50, 60,\n",
              "                                                      70, 80, 90, 100, 110,\n",
              "                                                      None],\n",
              "                                        'max_features': ['auto', 'sqrt'],\n",
              "                                        'min_samples_leaf': array([ 5, 10, 15, 20, 25, 30, 35, 40, 45]),\n",
              "                                        'min_samples_split': array([ 50,  70,  90, 110, 130, 150, 170, 190, 210, 230]),\n",
              "                                        'n_estimators': [100, 200, 300, 400,\n",
              "                                                         500, 600, 700, 800,\n",
              "                                                         900, 1000]},\n",
              "                   pre_dispatch='2*n_jobs', random_state=42, refit=True,\n",
              "                   return_train_score=False, scoring=None, verbose=2)"
            ]
          },
          "metadata": {
            "tags": []
          },
          "execution_count": 56
        }
      ]
    },
    {
      "cell_type": "code",
      "metadata": {
        "id": "cewwRTImIb9K",
        "colab_type": "code",
        "colab": {
          "base_uri": "https://localhost:8080/",
          "height": 118
        },
        "outputId": "dff4dc81-32e8-4151-ba4b-5706bb25db9d"
      },
      "source": [
        "rf_random.best_params_ "
      ],
      "execution_count": null,
      "outputs": [
        {
          "output_type": "execute_result",
          "data": {
            "text/plain": [
              "{'bootstrap': True,\n",
              " 'max_depth': 70,\n",
              " 'max_features': 'auto',\n",
              " 'min_samples_leaf': 40,\n",
              " 'min_samples_split': 110,\n",
              " 'n_estimators': 500}"
            ]
          },
          "metadata": {
            "tags": []
          },
          "execution_count": 57
        }
      ]
    },
    {
      "cell_type": "code",
      "metadata": {
        "id": "naWZqHCjlm1h",
        "colab_type": "code",
        "colab": {
          "base_uri": "https://localhost:8080/",
          "height": 134
        },
        "outputId": "77ca6f3d-23f2-4709-87a8-ced95ab7cf9e"
      },
      "source": [
        "best_rf=rf_random.best_estimator_\n",
        "best_rf"
      ],
      "execution_count": null,
      "outputs": [
        {
          "output_type": "execute_result",
          "data": {
            "text/plain": [
              "RandomForestRegressor(bootstrap=True, ccp_alpha=0.0, criterion='mse',\n",
              "                      max_depth=70, max_features='auto', max_leaf_nodes=None,\n",
              "                      max_samples=None, min_impurity_decrease=0.0,\n",
              "                      min_impurity_split=None, min_samples_leaf=40,\n",
              "                      min_samples_split=110, min_weight_fraction_leaf=0.0,\n",
              "                      n_estimators=500, n_jobs=None, oob_score=False,\n",
              "                      random_state=None, verbose=0, warm_start=False)"
            ]
          },
          "metadata": {
            "tags": []
          },
          "execution_count": 58
        }
      ]
    },
    {
      "cell_type": "code",
      "metadata": {
        "id": "Glw5Xj4l_MnC",
        "colab_type": "code",
        "colab": {}
      },
      "source": [
        "#temp\n",
        "best_rf= RandomForestRegressor(bootstrap=True, ccp_alpha=0.0, criterion='mse',\n",
        "                      max_depth=70, max_features='auto', max_leaf_nodes=None,\n",
        "                      max_samples=None, min_impurity_decrease=0.0,\n",
        "                      min_impurity_split=None, min_samples_leaf=40,\n",
        "                      min_samples_split=110, min_weight_fraction_leaf=0.0,\n",
        "                      n_estimators=500, n_jobs=None, oob_score=False,\n",
        "                      random_state=None, verbose=0, warm_start=False)"
      ],
      "execution_count": null,
      "outputs": []
    },
    {
      "cell_type": "code",
      "metadata": {
        "id": "sCHSnhkFEVnO",
        "colab_type": "code",
        "colab": {}
      },
      "source": [
        "# fitting the best model on to the dataset\n",
        "best_rf.fit(x_filtered, y)\n",
        "y_train_pred=best_rf.predict(x_filtered)\n",
        "y_test_pred=best_rf.predict(x_dummies_2)"
      ],
      "execution_count": null,
      "outputs": []
    },
    {
      "cell_type": "code",
      "metadata": {
        "id": "KotaS-fbEVzs",
        "colab_type": "code",
        "colab": {
          "base_uri": "https://localhost:8080/",
          "height": 670
        },
        "outputId": "6e27bff6-efe9-481e-eee1-952b94df8f6e"
      },
      "source": [
        "features = x_filtered.columns\n",
        "importances = best_rf.feature_importances_\n",
        "indices = (np.argsort(importances))[-40:]\n",
        "plt.figure(figsize=(10,12))\n",
        "plt.title('Feature Importances')\n",
        "plt.barh(range(len(indices)), importances[indices], color='r', align='center')\n",
        "plt.yticks(range(len(indices)), [features[i] for i in indices])\n",
        "plt.xlabel('Relative Importance')\n",
        "plt.grid()\n",
        "plt.show()"
      ],
      "execution_count": null,
      "outputs": [
        {
          "output_type": "display_data",
          "data": {
            "image/png": "[encoded data removed]",
            "text/plain": [
              "<Figure size 720x864 with 1 Axes>"
            ]
          },
          "metadata": {
            "tags": [],
            "needs_background": "light"
          }
        }
      ]
    },
    {
      "cell_type": "code",
      "metadata": {
        "id": "M1juPRPcOz2F",
        "colab_type": "code",
        "colab": {
          "base_uri": "https://localhost:8080/",
          "height": 50
        },
        "outputId": "40fb2307-24f2-4667-cbaf-fe54e05b8537"
      },
      "source": [
        "# checking r2 score\n",
        "from sklearn.metrics import r2_score\n",
        "print('train r2_score', r2_score(y, y_train_pred))\n",
        "print('='*30)\n",
        "#print('test r2_score', r2_score(y_test, y_test_pred))"
      ],
      "execution_count": null,
      "outputs": [
        {
          "output_type": "stream",
          "text": [
            "train r2_score 0.6535470835738704\n",
            "==============================\n"
          ],
          "name": "stdout"
        }
      ]
    },
    {
      "cell_type": "code",
      "metadata": {
        "id": "BE_1u3NX9VxL",
        "colab_type": "code",
        "colab": {}
      },
      "source": [
        "final_df= pd.DataFrame(list(zip(df_2['ID'].values, y_test_pred)), columns=['ID', 'y'])"
      ],
      "execution_count": null,
      "outputs": []
    },
    {
      "cell_type": "code",
      "metadata": {
        "id": "INw0WxuZ-ORD",
        "colab_type": "code",
        "colab": {
          "base_uri": "https://localhost:8080/",
          "height": 195
        },
        "outputId": "4be0edca-0339-4f6e-915c-b04defb2d3e3"
      },
      "source": [
        "final_df.head()"
      ],
      "execution_count": null,
      "outputs": [
        {
          "output_type": "execute_result",
          "data": {
            "text/html": [
              "<div>\n",
              "<style scoped>\n",
              "    .dataframe tbody tr th:only-of-type {\n",
              "        vertical-align: middle;\n",
              "    }\n",
              "\n",
              "    .dataframe tbody tr th {\n",
              "        vertical-align: top;\n",
              "    }\n",
              "\n",
              "    .dataframe thead th {\n",
              "        text-align: right;\n",
              "    }\n",
              "</style>\n",
              "<table border=\"1\" class=\"dataframe\">\n",
              "  <thead>\n",
              "    <tr style=\"text-align: right;\">\n",
              "      <th></th>\n",
              "      <th>ID</th>\n",
              "      <th>y</th>\n",
              "    </tr>\n",
              "  </thead>\n",
              "  <tbody>\n",
              "    <tr>\n",
              "      <th>0</th>\n",
              "      <td>1</td>\n",
              "      <td>78.434875</td>\n",
              "    </tr>\n",
              "    <tr>\n",
              "      <th>1</th>\n",
              "      <td>2</td>\n",
              "      <td>94.254870</td>\n",
              "    </tr>\n",
              "    <tr>\n",
              "      <th>2</th>\n",
              "      <td>3</td>\n",
              "      <td>78.439658</td>\n",
              "    </tr>\n",
              "    <tr>\n",
              "      <th>3</th>\n",
              "      <td>4</td>\n",
              "      <td>78.434875</td>\n",
              "    </tr>\n",
              "    <tr>\n",
              "      <th>4</th>\n",
              "      <td>5</td>\n",
              "      <td>113.514419</td>\n",
              "    </tr>\n",
              "  </tbody>\n",
              "</table>\n",
              "</div>"
            ],
            "text/plain": [
              "   ID           y\n",
              "0   1   78.434875\n",
              "1   2   94.254870\n",
              "2   3   78.439658\n",
              "3   4   78.434875\n",
              "4   5  113.514419"
            ]
          },
          "metadata": {
            "tags": []
          },
          "execution_count": 69
        }
      ]
    },
    {
      "cell_type": "code",
      "metadata": {
        "id": "GPZUas4O-QdJ",
        "colab_type": "code",
        "colab": {}
      },
      "source": [
        "final_df.to_csv(r'/content/drive/My Drive/Colab Notebooks/Case Study 1/RandomForestRegressor_1.csv',index=False)"
      ],
      "execution_count": null,
      "outputs": []
    },
    {
      "cell_type": "markdown",
      "metadata": {
        "id": "jK_X7zXyT848",
        "colab_type": "text"
      },
      "source": [
        "# 5: XGBoostRegressor"
      ]
    },
    {
      "cell_type": "code",
      "metadata": {
        "id": "r9qTv6GZVLVK",
        "colab_type": "code",
        "colab": {}
      },
      "source": [
        "import xgboost as xgb"
      ],
      "execution_count": null,
      "outputs": []
    },
    {
      "cell_type": "code",
      "metadata": {
        "id": "sYitONM4eZiB",
        "colab_type": "code",
        "colab": {}
      },
      "source": [
        "xgb_model=xgb.XGBRegressor()\n",
        "#xgb_model.fit(x_train, y_train)\n",
        "#y_pred=xgb_model.predict(x_train)\n",
        "learning_rate=[0.001, 0.01, 0.1, 0.2, 0.3]\n",
        "n_estimators=[50, 100, 150, 200, 250, 300]\n",
        "hyperparameters= dict(learning_rate=learning_rate, n_estimators=n_estimators)\n"
      ],
      "execution_count": null,
      "outputs": []
    },
    {
      "cell_type": "code",
      "metadata": {
        "id": "iZTriHKOeZvn",
        "colab_type": "code",
        "colab": {}
      },
      "source": [
        "from sklearn.model_selection import RandomizedSearchCV\n",
        "rsearch = RandomizedSearchCV(xgb_model, hyperparameters, n_iter=10, random_state=41)\n",
        "rsearch.fit(x_filtered, y)\n"
      ],
      "execution_count": null,
      "outputs": []
    },
    {
      "cell_type": "code",
      "metadata": {
        "id": "fq_iZnGR4zL4",
        "colab_type": "code",
        "colab": {
          "base_uri": "https://localhost:8080/",
          "height": 34
        },
        "outputId": "28d4a9a9-442a-479b-8681-55de46d38299"
      },
      "source": [
        "print(rsearch.best_params_)"
      ],
      "execution_count": null,
      "outputs": [
        {
          "output_type": "stream",
          "text": [
            "{'n_estimators': 300, 'learning_rate': 0.01}\n"
          ],
          "name": "stdout"
        }
      ]
    },
    {
      "cell_type": "code",
      "metadata": {
        "id": "GM1wp9qRWy_4",
        "colab_type": "code",
        "colab": {}
      },
      "source": [
        "# custom implementation of finding optimal hyperparameters has been deleted "
      ],
      "execution_count": null,
      "outputs": []
    },
    {
      "cell_type": "code",
      "metadata": {
        "colab_type": "code",
        "id": "1BAZVBrcINnX",
        "colab": {
          "base_uri": "https://localhost:8080/",
          "height": 134
        },
        "outputId": "ae0604b9-22bf-4cd4-b8c5-94a59a7e3db3"
      },
      "source": [
        "best_xgb=rsearch.best_estimator_\n",
        "best_xgb"
      ],
      "execution_count": null,
      "outputs": [
        {
          "output_type": "execute_result",
          "data": {
            "text/plain": [
              "XGBRegressor(base_score=0.5, booster='gbtree', colsample_bylevel=1,\n",
              "             colsample_bynode=1, colsample_bytree=1, gamma=0,\n",
              "             importance_type='gain', learning_rate=0.01, max_delta_step=0,\n",
              "             max_depth=3, min_child_weight=1, missing=None, n_estimators=300,\n",
              "             n_jobs=1, nthread=None, objective='reg:linear', random_state=0,\n",
              "             reg_alpha=0, reg_lambda=1, scale_pos_weight=1, seed=None,\n",
              "             silent=None, subsample=1, verbosity=1)"
            ]
          },
          "metadata": {
            "tags": []
          },
          "execution_count": 74
        }
      ]
    },
    {
      "cell_type": "code",
      "metadata": {
        "colab_type": "code",
        "id": "21kOWY6kINnc",
        "colab": {
          "base_uri": "https://localhost:8080/",
          "height": 54
        },
        "outputId": "abccc018-edb1-49c0-fc16-ebdc64ea9de4"
      },
      "source": [
        "# fitting the best model on to the dataset\n",
        "best_xgb.fit(x_filtered, y)\n",
        "y_train_pred=best_xgb.predict(x_filtered)\n",
        "y_test_pred=best_xgb.predict(x_dummies_2)"
      ],
      "execution_count": null,
      "outputs": [
        {
          "output_type": "stream",
          "text": [
            "[10:01:32] WARNING: /workspace/src/objective/regression_obj.cu:152: reg:linear is now deprecated in favor of reg:squarederror.\n"
          ],
          "name": "stdout"
        }
      ]
    },
    {
      "cell_type": "code",
      "metadata": {
        "colab_type": "code",
        "id": "hDsURpRFINne",
        "colab": {
          "base_uri": "https://localhost:8080/",
          "height": 670
        },
        "outputId": "16cac04f-f3b3-422b-e904-d0a2470106d3"
      },
      "source": [
        "import matplotlib.pyplot as plt\n",
        "features = x_filtered.columns\n",
        "importances = best_xgb.feature_importances_\n",
        "indices = (np.argsort(importances))[-40:]\n",
        "plt.figure(figsize=(10,12))\n",
        "plt.title('Feature Importances')\n",
        "plt.barh(range(len(indices)), importances[indices], color='r', align='center')\n",
        "plt.yticks(range(len(indices)), [features[i] for i in indices])\n",
        "plt.xlabel('Relative Importance')\n",
        "plt.grid()\n",
        "plt.show()"
      ],
      "execution_count": null,
      "outputs": [
        {
          "output_type": "display_data",
          "data": {
            "image/png": "[encoded data removed]",
            "text/plain": [
              "<Figure size 720x864 with 1 Axes>"
            ]
          },
          "metadata": {
            "tags": [],
            "needs_background": "light"
          }
        }
      ]
    },
    {
      "cell_type": "code",
      "metadata": {
        "colab_type": "code",
        "id": "ys9Siq4GX4FM",
        "colab": {
          "base_uri": "https://localhost:8080/",
          "height": 50
        },
        "outputId": "98a31e7d-00b1-43eb-baa2-fd78b12533dc"
      },
      "source": [
        "# checking r2 score\n",
        "from sklearn.metrics import r2_score\n",
        "print('train r2_score', r2_score(y, y_train_pred))\n",
        "print('='*30)\n",
        "#print('test r2_score', r2_score(y_test, y_test_pred))"
      ],
      "execution_count": null,
      "outputs": [
        {
          "output_type": "stream",
          "text": [
            "train r2_score 0.4664656045758411\n",
            "==============================\n"
          ],
          "name": "stdout"
        }
      ]
    },
    {
      "cell_type": "code",
      "metadata": {
        "colab_type": "code",
        "id": "iJ0D5ZUxX4FN",
        "colab": {}
      },
      "source": [
        "final_df_1= pd.DataFrame(list(zip(df_2['ID'].values, y_test_pred)), columns=['ID', 'y'])"
      ],
      "execution_count": null,
      "outputs": []
    },
    {
      "cell_type": "code",
      "metadata": {
        "colab_type": "code",
        "id": "Qxd9pf5PX4FP",
        "colab": {
          "base_uri": "https://localhost:8080/",
          "height": 195
        },
        "outputId": "1ac96057-933c-48cc-e5b6-73aee620e088"
      },
      "source": [
        "final_df_1.head()"
      ],
      "execution_count": null,
      "outputs": [
        {
          "output_type": "execute_result",
          "data": {
            "text/html": [
              "<div>\n",
              "<style scoped>\n",
              "    .dataframe tbody tr th:only-of-type {\n",
              "        vertical-align: middle;\n",
              "    }\n",
              "\n",
              "    .dataframe tbody tr th {\n",
              "        vertical-align: top;\n",
              "    }\n",
              "\n",
              "    .dataframe thead th {\n",
              "        text-align: right;\n",
              "    }\n",
              "</style>\n",
              "<table border=\"1\" class=\"dataframe\">\n",
              "  <thead>\n",
              "    <tr style=\"text-align: right;\">\n",
              "      <th></th>\n",
              "      <th>ID</th>\n",
              "      <th>y</th>\n",
              "    </tr>\n",
              "  </thead>\n",
              "  <tbody>\n",
              "    <tr>\n",
              "      <th>0</th>\n",
              "      <td>1</td>\n",
              "      <td>77.488136</td>\n",
              "    </tr>\n",
              "    <tr>\n",
              "      <th>1</th>\n",
              "      <td>2</td>\n",
              "      <td>93.120033</td>\n",
              "    </tr>\n",
              "    <tr>\n",
              "      <th>2</th>\n",
              "      <td>3</td>\n",
              "      <td>75.105789</td>\n",
              "    </tr>\n",
              "    <tr>\n",
              "      <th>3</th>\n",
              "      <td>4</td>\n",
              "      <td>75.105789</td>\n",
              "    </tr>\n",
              "    <tr>\n",
              "      <th>4</th>\n",
              "      <td>5</td>\n",
              "      <td>106.988533</td>\n",
              "    </tr>\n",
              "  </tbody>\n",
              "</table>\n",
              "</div>"
            ],
            "text/plain": [
              "   ID           y\n",
              "0   1   77.488136\n",
              "1   2   93.120033\n",
              "2   3   75.105789\n",
              "3   4   75.105789\n",
              "4   5  106.988533"
            ]
          },
          "metadata": {
            "tags": []
          },
          "execution_count": 79
        }
      ]
    },
    {
      "cell_type": "code",
      "metadata": {
        "colab_type": "code",
        "id": "ZsAfdI6MX4FQ",
        "colab": {}
      },
      "source": [
        "final_df_1.to_csv(r'/content/drive/My Drive/Colab Notebooks/Case Study 1/XGBoostRegressor_1.csv',index=False)"
      ],
      "execution_count": null,
      "outputs": []
    },
    {
      "cell_type": "markdown",
      "metadata": {
        "id": "FgmjOrVJUE1w",
        "colab_type": "text"
      },
      "source": [
        "# 6: DecisionTreeRegressor"
      ]
    },
    {
      "cell_type": "code",
      "metadata": {
        "id": "24UANMFKtM-2",
        "colab_type": "code",
        "colab": {
          "base_uri": "https://localhost:8080/",
          "height": 118
        },
        "outputId": "0d3a0996-9dfc-48f3-8884-03393c760f34"
      },
      "source": [
        "from sklearn.tree import DecisionTreeRegressor\n",
        "dt_model=DecisionTreeRegressor()\n",
        "dt_model"
      ],
      "execution_count": null,
      "outputs": [
        {
          "output_type": "execute_result",
          "data": {
            "text/plain": [
              "DecisionTreeRegressor(ccp_alpha=0.0, criterion='mse', max_depth=None,\n",
              "                      max_features=None, max_leaf_nodes=None,\n",
              "                      min_impurity_decrease=0.0, min_impurity_split=None,\n",
              "                      min_samples_leaf=1, min_samples_split=2,\n",
              "                      min_weight_fraction_leaf=0.0, presort='deprecated',\n",
              "                      random_state=None, splitter='best')"
            ]
          },
          "metadata": {
            "tags": []
          },
          "execution_count": 41
        }
      ]
    },
    {
      "cell_type": "code",
      "metadata": {
        "id": "7-Cs09EUtM6P",
        "colab_type": "code",
        "colab": {}
      },
      "source": [
        "max_depth=[1, 5, 10, 50]\n",
        "min_samples_split=[5, 10, 100, 500]\n",
        "hyperparameters= dict(max_depth=max_depth, min_samples_split=min_samples_split)\n"
      ],
      "execution_count": null,
      "outputs": []
    },
    {
      "cell_type": "code",
      "metadata": {
        "id": "trwQGaMhtM1d",
        "colab_type": "code",
        "colab": {
          "base_uri": "https://localhost:8080/",
          "height": 34
        },
        "outputId": "fc071c44-8d96-402e-c4f5-397cc62c22a5"
      },
      "source": [
        "from sklearn.model_selection import RandomizedSearchCV\n",
        "rsearch = RandomizedSearchCV(dt_model, hyperparameters, n_iter=10, random_state=41)\n",
        "rsearch.fit(x_filtered, y)\n",
        "print(rsearch.best_params_)"
      ],
      "execution_count": null,
      "outputs": [
        {
          "output_type": "stream",
          "text": [
            "{'min_samples_split': 500, 'max_depth': 5}\n"
          ],
          "name": "stdout"
        }
      ]
    },
    {
      "cell_type": "code",
      "metadata": {
        "colab_type": "code",
        "id": "2ZeFI22bQPYo",
        "colab": {
          "base_uri": "https://localhost:8080/",
          "height": 34
        },
        "outputId": "e04d82d7-05eb-490d-c628-64311ee7636c"
      },
      "source": [
        "rsearch.best_params_"
      ],
      "execution_count": null,
      "outputs": [
        {
          "output_type": "execute_result",
          "data": {
            "text/plain": [
              "{'max_depth': 5, 'min_samples_split': 500}"
            ]
          },
          "metadata": {
            "tags": []
          },
          "execution_count": 84
        }
      ]
    },
    {
      "cell_type": "code",
      "metadata": {
        "colab_type": "code",
        "id": "aO4rOHozQPYr",
        "colab": {
          "base_uri": "https://localhost:8080/",
          "height": 118
        },
        "outputId": "6062d62f-1e69-4bc5-9e63-0d232c07be26"
      },
      "source": [
        "best_dt=rsearch.best_estimator_\n",
        "best_dt"
      ],
      "execution_count": null,
      "outputs": [
        {
          "output_type": "execute_result",
          "data": {
            "text/plain": [
              "DecisionTreeRegressor(ccp_alpha=0.0, criterion='mse', max_depth=5,\n",
              "                      max_features=None, max_leaf_nodes=None,\n",
              "                      min_impurity_decrease=0.0, min_impurity_split=None,\n",
              "                      min_samples_leaf=1, min_samples_split=500,\n",
              "                      min_weight_fraction_leaf=0.0, presort='deprecated',\n",
              "                      random_state=None, splitter='best')"
            ]
          },
          "metadata": {
            "tags": []
          },
          "execution_count": 85
        }
      ]
    },
    {
      "cell_type": "code",
      "metadata": {
        "colab_type": "code",
        "id": "ztwGptgCQPYt",
        "colab": {}
      },
      "source": [
        "# fitting the best model on to the dataset\n",
        "best_dt.fit(x_filtered, y)\n",
        "y_train_pred=best_dt.predict(x_filtered)\n",
        "y_test_pred=best_dt.predict(x_dummies_2)"
      ],
      "execution_count": null,
      "outputs": []
    },
    {
      "cell_type": "code",
      "metadata": {
        "colab_type": "code",
        "id": "vFD08vnvQPYv",
        "colab": {
          "base_uri": "https://localhost:8080/",
          "height": 681
        },
        "outputId": "d610fd3c-587a-4b14-f389-31d6bc6d72fb"
      },
      "source": [
        "import matplotlib.pyplot as plt\n",
        "features = x_filtered.columns\n",
        "importances = best_dt.feature_importances_\n",
        "indices = (np.argsort(importances))[-40:]\n",
        "plt.figure(figsize=(10,12))\n",
        "plt.title('Feature Importances')\n",
        "plt.barh(range(len(indices)), importances[indices], color='r', align='center')\n",
        "plt.yticks(range(len(indices)), [features[i] for i in indices])\n",
        "plt.xlabel('Relative Importance')\n",
        "plt.grid()\n",
        "plt.show()"
      ],
      "execution_count": null,
      "outputs": [
        {
          "output_type": "display_data",
          "data": {
            "image/png": "[encoded data removed]",
            "text/plain": [
              "<Figure size 720x864 with 1 Axes>"
            ]
          },
          "metadata": {
            "tags": [],
            "needs_background": "light"
          }
        }
      ]
    },
    {
      "cell_type": "code",
      "metadata": {
        "colab_type": "code",
        "id": "hzGxd0QqZMPE",
        "colab": {
          "base_uri": "https://localhost:8080/",
          "height": 50
        },
        "outputId": "72fca600-f4cb-4d7d-f9f3-05445b8e8352"
      },
      "source": [
        "# checking r2 score\n",
        "from sklearn.metrics import r2_score\n",
        "print('train r2_score', r2_score(y, y_train_pred))\n",
        "print('='*30)\n",
        "#print('test r2_score', r2_score(y_test, y_test_pred))"
      ],
      "execution_count": null,
      "outputs": [
        {
          "output_type": "stream",
          "text": [
            "train r2_score 0.641140515826669\n",
            "==============================\n"
          ],
          "name": "stdout"
        }
      ]
    },
    {
      "cell_type": "code",
      "metadata": {
        "colab_type": "code",
        "id": "-Rpfk6zzZMPH",
        "colab": {}
      },
      "source": [
        "final_df_2= pd.DataFrame(list(zip(df_2['ID'].values, y_test_pred)), columns=['ID', 'y'])"
      ],
      "execution_count": null,
      "outputs": []
    },
    {
      "cell_type": "code",
      "metadata": {
        "colab_type": "code",
        "id": "07VUHzHOZMPI",
        "colab": {
          "base_uri": "https://localhost:8080/",
          "height": 195
        },
        "outputId": "da2a81b5-18d7-47f4-8bba-129f3c69256f"
      },
      "source": [
        "final_df_2.head()"
      ],
      "execution_count": null,
      "outputs": [
        {
          "output_type": "execute_result",
          "data": {
            "text/html": [
              "<div>\n",
              "<style scoped>\n",
              "    .dataframe tbody tr th:only-of-type {\n",
              "        vertical-align: middle;\n",
              "    }\n",
              "\n",
              "    .dataframe tbody tr th {\n",
              "        vertical-align: top;\n",
              "    }\n",
              "\n",
              "    .dataframe thead th {\n",
              "        text-align: right;\n",
              "    }\n",
              "</style>\n",
              "<table border=\"1\" class=\"dataframe\">\n",
              "  <thead>\n",
              "    <tr style=\"text-align: right;\">\n",
              "      <th></th>\n",
              "      <th>ID</th>\n",
              "      <th>y</th>\n",
              "    </tr>\n",
              "  </thead>\n",
              "  <tbody>\n",
              "    <tr>\n",
              "      <th>0</th>\n",
              "      <td>1</td>\n",
              "      <td>77.964862</td>\n",
              "    </tr>\n",
              "    <tr>\n",
              "      <th>1</th>\n",
              "      <td>2</td>\n",
              "      <td>130.810000</td>\n",
              "    </tr>\n",
              "    <tr>\n",
              "      <th>2</th>\n",
              "      <td>3</td>\n",
              "      <td>77.964862</td>\n",
              "    </tr>\n",
              "    <tr>\n",
              "      <th>3</th>\n",
              "      <td>4</td>\n",
              "      <td>77.964862</td>\n",
              "    </tr>\n",
              "    <tr>\n",
              "      <th>4</th>\n",
              "      <td>5</td>\n",
              "      <td>112.866875</td>\n",
              "    </tr>\n",
              "  </tbody>\n",
              "</table>\n",
              "</div>"
            ],
            "text/plain": [
              "   ID           y\n",
              "0   1   77.964862\n",
              "1   2  130.810000\n",
              "2   3   77.964862\n",
              "3   4   77.964862\n",
              "4   5  112.866875"
            ]
          },
          "metadata": {
            "tags": []
          },
          "execution_count": 90
        }
      ]
    },
    {
      "cell_type": "code",
      "metadata": {
        "colab_type": "code",
        "id": "u656tI-pZMPJ",
        "colab": {}
      },
      "source": [
        "final_df_2.to_csv(r'/content/drive/My Drive/Colab Notebooks/Case Study 1/DecisionTreeRegressor_1.csv',index=False)"
      ],
      "execution_count": null,
      "outputs": []
    },
    {
      "cell_type": "markdown",
      "metadata": {
        "id": "QD5X1sLrUUmd",
        "colab_type": "text"
      },
      "source": [
        "# 7: Ridge Regressor"
      ]
    },
    {
      "cell_type": "code",
      "metadata": {
        "id": "jCOZ8gkZYpdN",
        "colab_type": "code",
        "colab": {
          "base_uri": "https://localhost:8080/",
          "height": 50
        },
        "outputId": "b0f73fd3-f09a-47cd-eb06-4220ebca72dc"
      },
      "source": [
        "from sklearn.linear_model import Ridge\n",
        "ridge_regressor= Ridge()\n",
        "ridge_regressor"
      ],
      "execution_count": null,
      "outputs": [
        {
          "output_type": "execute_result",
          "data": {
            "text/plain": [
              "Ridge(alpha=1.0, copy_X=True, fit_intercept=True, max_iter=None,\n",
              "      normalize=False, random_state=None, solver='auto', tol=0.001)"
            ]
          },
          "metadata": {
            "tags": []
          },
          "execution_count": 42
        }
      ]
    },
    {
      "cell_type": "code",
      "metadata": {
        "id": "lr0wxMbcrl3i",
        "colab_type": "code",
        "colab": {
          "base_uri": "https://localhost:8080/",
          "height": 151
        },
        "outputId": "98253aba-46d9-4a84-cb9b-2096894fe6c5"
      },
      "source": [
        "parameters= {'alpha': [10,20,  50, 100, 150, 200, 250, 300]}\n",
        "ridge_grid_scv= GridSearchCV(ridge_regressor, parameters, scoring='r2', cv=5)\n",
        "ridge_grid_scv.fit(x_filtered, y)"
      ],
      "execution_count": null,
      "outputs": [
        {
          "output_type": "execute_result",
          "data": {
            "text/plain": [
              "GridSearchCV(cv=5, error_score=nan,\n",
              "             estimator=Ridge(alpha=1.0, copy_X=True, fit_intercept=True,\n",
              "                             max_iter=None, normalize=False, random_state=None,\n",
              "                             solver='auto', tol=0.001),\n",
              "             iid='deprecated', n_jobs=None,\n",
              "             param_grid={'alpha': [10, 20, 50, 100, 150, 200, 250, 300]},\n",
              "             pre_dispatch='2*n_jobs', refit=True, return_train_score=False,\n",
              "             scoring='r2', verbose=0)"
            ]
          },
          "metadata": {
            "tags": []
          },
          "execution_count": 105
        }
      ]
    },
    {
      "cell_type": "code",
      "metadata": {
        "id": "GHlwrFVFsUTu",
        "colab_type": "code",
        "colab": {
          "base_uri": "https://localhost:8080/",
          "height": 50
        },
        "outputId": "0c89552c-f3c2-4ecd-e298-8e16dc93addb"
      },
      "source": [
        "print(ridge_grid_scv.best_params_)\n",
        "print(ridge_grid_scv.best_score_)"
      ],
      "execution_count": null,
      "outputs": [
        {
          "output_type": "stream",
          "text": [
            "{'alpha': 20}\n",
            "0.6018030809140671\n"
          ],
          "name": "stdout"
        }
      ]
    },
    {
      "cell_type": "code",
      "metadata": {
        "id": "cvLNqk5ysUuz",
        "colab_type": "code",
        "colab": {
          "base_uri": "https://localhost:8080/",
          "height": 50
        },
        "outputId": "8d3826e7-b3f0-4957-d542-2b747660eaca"
      },
      "source": [
        "ridge_regressor= Ridge(alpha=20)\n",
        "ridge_regressor"
      ],
      "execution_count": null,
      "outputs": [
        {
          "output_type": "execute_result",
          "data": {
            "text/plain": [
              "Ridge(alpha=20, copy_X=True, fit_intercept=True, max_iter=None, normalize=False,\n",
              "      random_state=None, solver='auto', tol=0.001)"
            ]
          },
          "metadata": {
            "tags": []
          },
          "execution_count": 107
        }
      ]
    },
    {
      "cell_type": "code",
      "metadata": {
        "colab_type": "code",
        "id": "yUVpKnoogXWU",
        "colab": {}
      },
      "source": [
        "ridge_regressor.fit(x_filtered, y)\n",
        "y_train_pred=ridge_regressor.predict(x_filtered)\n",
        "y_test_pred =ridge_regressor.predict(x_dummies_2)"
      ],
      "execution_count": null,
      "outputs": []
    },
    {
      "cell_type": "code",
      "metadata": {
        "colab_type": "code",
        "id": "Vjgh-2IZgXWW",
        "colab": {
          "base_uri": "https://localhost:8080/",
          "height": 50
        },
        "outputId": "2703e594-89f0-47a0-f1a3-4ba6291c0a4b"
      },
      "source": [
        "# checking r2 score\n",
        "from sklearn.metrics import r2_score\n",
        "print('train r2_score', r2_score(y, y_train_pred))\n",
        "print('='*30)\n",
        "#print('test r2_score', r2_score(y_test, y_test_pred))"
      ],
      "execution_count": null,
      "outputs": [
        {
          "output_type": "stream",
          "text": [
            "train r2_score 0.6247618099854948\n",
            "==============================\n"
          ],
          "name": "stdout"
        }
      ]
    },
    {
      "cell_type": "code",
      "metadata": {
        "colab_type": "code",
        "id": "qnAC7Ok-qDbf",
        "colab": {}
      },
      "source": [
        "final_df_4= pd.DataFrame(list(zip(df_2['ID'].values, y_test_pred)), columns=['ID', 'y'])"
      ],
      "execution_count": null,
      "outputs": []
    },
    {
      "cell_type": "code",
      "metadata": {
        "colab_type": "code",
        "id": "vaxEDx_rqDbg",
        "colab": {
          "base_uri": "https://localhost:8080/",
          "height": 195
        },
        "outputId": "41ca1d7b-6f4b-4c37-dd43-729045de725f"
      },
      "source": [
        "final_df_4.head()"
      ],
      "execution_count": null,
      "outputs": [
        {
          "output_type": "execute_result",
          "data": {
            "text/html": [
              "<div>\n",
              "<style scoped>\n",
              "    .dataframe tbody tr th:only-of-type {\n",
              "        vertical-align: middle;\n",
              "    }\n",
              "\n",
              "    .dataframe tbody tr th {\n",
              "        vertical-align: top;\n",
              "    }\n",
              "\n",
              "    .dataframe thead th {\n",
              "        text-align: right;\n",
              "    }\n",
              "</style>\n",
              "<table border=\"1\" class=\"dataframe\">\n",
              "  <thead>\n",
              "    <tr style=\"text-align: right;\">\n",
              "      <th></th>\n",
              "      <th>ID</th>\n",
              "      <th>y</th>\n",
              "    </tr>\n",
              "  </thead>\n",
              "  <tbody>\n",
              "    <tr>\n",
              "      <th>0</th>\n",
              "      <td>1</td>\n",
              "      <td>79.891570</td>\n",
              "    </tr>\n",
              "    <tr>\n",
              "      <th>1</th>\n",
              "      <td>2</td>\n",
              "      <td>96.265184</td>\n",
              "    </tr>\n",
              "    <tr>\n",
              "      <th>2</th>\n",
              "      <td>3</td>\n",
              "      <td>80.607815</td>\n",
              "    </tr>\n",
              "    <tr>\n",
              "      <th>3</th>\n",
              "      <td>4</td>\n",
              "      <td>78.035424</td>\n",
              "    </tr>\n",
              "    <tr>\n",
              "      <th>4</th>\n",
              "      <td>5</td>\n",
              "      <td>110.400392</td>\n",
              "    </tr>\n",
              "  </tbody>\n",
              "</table>\n",
              "</div>"
            ],
            "text/plain": [
              "   ID           y\n",
              "0   1   79.891570\n",
              "1   2   96.265184\n",
              "2   3   80.607815\n",
              "3   4   78.035424\n",
              "4   5  110.400392"
            ]
          },
          "metadata": {
            "tags": []
          },
          "execution_count": 112
        }
      ]
    },
    {
      "cell_type": "code",
      "metadata": {
        "colab_type": "code",
        "id": "9Eb5fbVuqDbi",
        "colab": {}
      },
      "source": [
        "final_df_4.to_csv(r'/content/drive/My Drive/Colab Notebooks/Case Study 1/RidgeRegressor_1.csv',index=False)"
      ],
      "execution_count": null,
      "outputs": []
    },
    {
      "cell_type": "markdown",
      "metadata": {
        "id": "ANNUMbrYUbhG",
        "colab_type": "text"
      },
      "source": [
        "# 8: Lasso Regressor"
      ]
    },
    {
      "cell_type": "code",
      "metadata": {
        "id": "ZBfTg4DSbuNR",
        "colab_type": "code",
        "colab": {
          "base_uri": "https://localhost:8080/",
          "height": 67
        },
        "outputId": "52380f19-1ffa-493c-87b5-58e6cbbc8082"
      },
      "source": [
        "lasso= Lasso()\n",
        "lasso"
      ],
      "execution_count": null,
      "outputs": [
        {
          "output_type": "execute_result",
          "data": {
            "text/plain": [
              "Lasso(alpha=1.0, copy_X=True, fit_intercept=True, max_iter=1000,\n",
              "      normalize=False, positive=False, precompute=False, random_state=None,\n",
              "      selection='cyclic', tol=0.0001, warm_start=False)"
            ]
          },
          "metadata": {
            "tags": []
          },
          "execution_count": 43
        }
      ]
    },
    {
      "cell_type": "code",
      "metadata": {
        "id": "b3sBXnSst9v3",
        "colab_type": "code",
        "colab": {
          "base_uri": "https://localhost:8080/",
          "height": 185
        },
        "outputId": "a596a95d-05fc-4bcc-c4ae-c2e7cb028fc7"
      },
      "source": [
        "parameters= {'alpha': [1e-15, 1e-10, 1e-8, 1e-4, 1e-3, 1e-2, 1, 5, 10, 20]}\n",
        "lasso_grid_scv= GridSearchCV(lasso, parameters, scoring='r2', cv=5)\n",
        "lasso_grid_scv.fit(x_filtered, y)"
      ],
      "execution_count": null,
      "outputs": [
        {
          "output_type": "execute_result",
          "data": {
            "text/plain": [
              "GridSearchCV(cv=5, error_score=nan,\n",
              "             estimator=Lasso(alpha=1.0, copy_X=True, fit_intercept=True,\n",
              "                             max_iter=1000, normalize=False, positive=False,\n",
              "                             precompute=False, random_state=None,\n",
              "                             selection='cyclic', tol=0.0001, warm_start=False),\n",
              "             iid='deprecated', n_jobs=None,\n",
              "             param_grid={'alpha': [1e-15, 1e-10, 1e-08, 0.0001, 0.001, 0.01, 1,\n",
              "                                   5, 10, 20]},\n",
              "             pre_dispatch='2*n_jobs', refit=True, return_train_score=False,\n",
              "             scoring='r2', verbose=0)"
            ]
          },
          "metadata": {
            "tags": []
          },
          "execution_count": 115
        }
      ]
    },
    {
      "cell_type": "code",
      "metadata": {
        "colab_type": "code",
        "id": "RjJfHS66uXhO",
        "colab": {
          "base_uri": "https://localhost:8080/",
          "height": 50
        },
        "outputId": "69ad5e93-9466-43cd-f7cf-2f03624d1794"
      },
      "source": [
        "print(lasso_grid_scv.best_params_)\n",
        "print(lasso_grid_scv.best_score_)"
      ],
      "execution_count": null,
      "outputs": [
        {
          "output_type": "stream",
          "text": [
            "{'alpha': 0.01}\n",
            "0.6031800961153089\n"
          ],
          "name": "stdout"
        }
      ]
    },
    {
      "cell_type": "code",
      "metadata": {
        "colab_type": "code",
        "id": "M0opOuiAuXhS",
        "colab": {
          "base_uri": "https://localhost:8080/",
          "height": 67
        },
        "outputId": "d3747083-3cbd-4c29-eb17-45f1f4e6890b"
      },
      "source": [
        "lasso_regressor= Lasso(alpha=0.01)\n",
        "lasso_regressor"
      ],
      "execution_count": null,
      "outputs": [
        {
          "output_type": "execute_result",
          "data": {
            "text/plain": [
              "Lasso(alpha=0.01, copy_X=True, fit_intercept=True, max_iter=1000,\n",
              "      normalize=False, positive=False, precompute=False, random_state=None,\n",
              "      selection='cyclic', tol=0.0001, warm_start=False)"
            ]
          },
          "metadata": {
            "tags": []
          },
          "execution_count": 117
        }
      ]
    },
    {
      "cell_type": "code",
      "metadata": {
        "colab_type": "code",
        "id": "jOCwoq0buXhU",
        "colab": {}
      },
      "source": [
        "#https://towardsdatascience.com/how-to-perform-lasso-and-ridge-regression-in-python-3b3b75541ad8\n",
        "#https://www.analyticsvidhya.com/blog/2016/01/ridge-lasso-regression-python-complete-tutorial/\n",
        "#https://alfurka.github.io/2018-11-18-grid-search/\n",
        "lasso_regressor.fit(x_filtered, y)\n",
        "y_train_pred=lasso_regressor.predict(x_filtered)\n",
        "y_test_pred =lasso_regressor.predict(x_dummies_2) b "
      ],
      "execution_count": null,
      "outputs": []
    },
    {
      "cell_type": "code",
      "metadata": {
        "colab_type": "code",
        "id": "_ZD6P1HnuXhV",
        "colab": {
          "base_uri": "https://localhost:8080/",
          "height": 50
        },
        "outputId": "e7c9bf8b-d5c0-465e-e37b-27f78e972359"
      },
      "source": [
        "# checking r2 score\n",
        "from sklearn.metrics import r2_score\n",
        "print('train r2_score', r2_score(y, y_train_pred))\n",
        "print('='*30)\n",
        "#print('test r2_score', r2_score(y_test, y_test_pred))"
      ],
      "execution_count": null,
      "outputs": [
        {
          "output_type": "stream",
          "text": [
            "train r2_score 0.6234275817168167\n",
            "==============================\n"
          ],
          "name": "stdout"
        }
      ]
    },
    {
      "cell_type": "code",
      "metadata": {
        "colab_type": "code",
        "id": "CgGV_HdLq9J4",
        "colab": {}
      },
      "source": [
        "final_df_5= pd.DataFrame(list(zip(df_2['ID'].values, y_test_pred)), columns=['ID', 'y'])"
      ],
      "execution_count": null,
      "outputs": []
    },
    {
      "cell_type": "code",
      "metadata": {
        "colab_type": "code",
        "id": "eAYxbQi0q9J5",
        "colab": {
          "base_uri": "https://localhost:8080/",
          "height": 195
        },
        "outputId": "eb2a3b19-7ffb-449d-ab18-6f80725968f1"
      },
      "source": [
        "final_df_5.head()"
      ],
      "execution_count": null,
      "outputs": [
        {
          "output_type": "execute_result",
          "data": {
            "text/html": [
              "<div>\n",
              "<style scoped>\n",
              "    .dataframe tbody tr th:only-of-type {\n",
              "        vertical-align: middle;\n",
              "    }\n",
              "\n",
              "    .dataframe tbody tr th {\n",
              "        vertical-align: top;\n",
              "    }\n",
              "\n",
              "    .dataframe thead th {\n",
              "        text-align: right;\n",
              "    }\n",
              "</style>\n",
              "<table border=\"1\" class=\"dataframe\">\n",
              "  <thead>\n",
              "    <tr style=\"text-align: right;\">\n",
              "      <th></th>\n",
              "      <th>ID</th>\n",
              "      <th>y</th>\n",
              "    </tr>\n",
              "  </thead>\n",
              "  <tbody>\n",
              "    <tr>\n",
              "      <th>0</th>\n",
              "      <td>1</td>\n",
              "      <td>79.534046</td>\n",
              "    </tr>\n",
              "    <tr>\n",
              "      <th>1</th>\n",
              "      <td>2</td>\n",
              "      <td>96.370153</td>\n",
              "    </tr>\n",
              "    <tr>\n",
              "      <th>2</th>\n",
              "      <td>3</td>\n",
              "      <td>80.228208</td>\n",
              "    </tr>\n",
              "    <tr>\n",
              "      <th>3</th>\n",
              "      <td>4</td>\n",
              "      <td>77.973903</td>\n",
              "    </tr>\n",
              "    <tr>\n",
              "      <th>4</th>\n",
              "      <td>5</td>\n",
              "      <td>111.042708</td>\n",
              "    </tr>\n",
              "  </tbody>\n",
              "</table>\n",
              "</div>"
            ],
            "text/plain": [
              "   ID           y\n",
              "0   1   79.534046\n",
              "1   2   96.370153\n",
              "2   3   80.228208\n",
              "3   4   77.973903\n",
              "4   5  111.042708"
            ]
          },
          "metadata": {
            "tags": []
          },
          "execution_count": 122
        }
      ]
    },
    {
      "cell_type": "code",
      "metadata": {
        "colab_type": "code",
        "id": "xpatXdmFq9J7",
        "colab": {}
      },
      "source": [
        "final_df_5.to_csv(r'/content/drive/My Drive/Colab Notebooks/Case Study 1/LassoRegressor_1.csv',index=False)"
      ],
      "execution_count": null,
      "outputs": []
    },
    {
      "cell_type": "markdown",
      "metadata": {
        "id": "f1ARyJBfbNJp",
        "colab_type": "text"
      },
      "source": [
        "# 9: AdaBoostRegressor"
      ]
    },
    {
      "cell_type": "code",
      "metadata": {
        "colab_type": "code",
        "id": "-EDebVgGbR9R",
        "colab": {}
      },
      "source": [
        "from sklearn.ensemble import AdaBoostRegressor"
      ],
      "execution_count": null,
      "outputs": []
    },
    {
      "cell_type": "code",
      "metadata": {
        "colab_type": "code",
        "id": "F_IT6L5wYRVA",
        "colab": {
          "base_uri": "https://localhost:8080/",
          "height": 50
        },
        "outputId": "5e040b24-a1cd-4c67-e34c-771684b5eeee"
      },
      "source": [
        "abr= AdaBoostRegressor()\n",
        "abr "
      ],
      "execution_count": null,
      "outputs": [
        {
          "output_type": "execute_result",
          "data": {
            "text/plain": [
              "AdaBoostRegressor(base_estimator=None, learning_rate=1.0, loss='linear',\n",
              "                  n_estimators=50, random_state=None)"
            ]
          },
          "metadata": {
            "tags": []
          },
          "execution_count": 57
        }
      ]
    },
    {
      "cell_type": "code",
      "metadata": {
        "id": "-SSPdknSJVtn",
        "colab_type": "code",
        "colab": {}
      },
      "source": [
        "from tqdm import tqdm_notebook\n",
        "from sklearn.metrics import r2_score\n",
        "train_r2=[]\n",
        "cv_r2=[] \n",
        "dict_cv_r2={}\n",
        "max_depth = [10, 11, 12, 13, 14, 15]\n",
        "learning_rate = [0.0001, 0.001, 0.01, 0.1, 1]\n",
        "n_estimators = [50, 100, 150, 200, 250, 300] \n",
        "min_samples_split=[5, 10, 100, 500]\n",
        "for i in tqdm_notebook(learning_rate):\n",
        "    for j in tqdm_notebook(n_estimators):\n",
        "        for p in tqdm_notebook(max_depth):\n",
        "            for q in tqdm_notebook(min_samples_split):\n",
        "                abr= AdaBoostRegressor(base_estimator= DecisionTreeRegressor(max_depth=p, min_samples_split=q), learning_rate=i, n_estimators=j)\n",
        "                abr.fit(x_train,y_train)\n",
        "                y_cap_train=abr.predict(x_train)\n",
        "                y_cap_cv=abr.predict(x_test)\n",
        "                train_r2.append(r2_score(y_train,y_cap_train))\n",
        "                k=r2_score(y_test,y_cap_cv)\n",
        "                dict_cv_r2[k]=i,j,p,q\n",
        "                cv_r2.append(r2_score(y_test,y_cap_cv)) \n",
        "maximum_auc_score=max(cv_r2)"
      ],
      "execution_count": null,
      "outputs": []
    },
    {
      "cell_type": "code",
      "metadata": {
        "id": "uhlTNoAy6Lt5",
        "colab_type": "code",
        "colab": {
          "base_uri": "https://localhost:8080/",
          "height": 34
        },
        "outputId": "e56284a5-7312-4563-fed0-aeee30026965"
      },
      "source": [
        "print(maximum_auc_score)"
      ],
      "execution_count": 1,
      "outputs": [
        {
          "output_type": "execute_result",
          "data": {
            "text/plain": [
              "0.6595712090316805"
            ]
          },
          "metadata": {
            "tags": []
          },
          "execution_count": 1
        }
      ]
    },
    {
      "cell_type": "code",
      "metadata": {
        "id": "uSpA8fNKOzxh",
        "colab_type": "code",
        "colab": {
          "base_uri": "https://localhost:8080/",
          "height": 70
        },
        "outputId": "0826c361-7503-4e89-cc6e-0798eefa74fe"
      },
      "source": [
        "print(dict_cv_r2)\n",
        "dict_cv_r2[maximum_auc_score]"
      ],
      "execution_count": null,
      "outputs": [
        {
          "output_type": "stream",
          "text": [
            "{0.6511007133167936: (0.0001, 50, 10, 5), 0.6428779700880041: (0.0001, 50, 10, 10), 0.6578170919843221: (0.0001, 50, 10, 100), 0.6557549175059931: (0.0001, 50, 10, 500), 0.6517144099052639: (0.0001, 50, 11, 5), 0.6483374631981604: (0.0001, 50, 11, 10), 0.6565804378601887: (0.0001, 50, 11, 100), 0.656691849759546: (0.0001, 50, 11, 500), 0.646600570315921: (0.0001, 50, 12, 5), 0.6478431171467417: (0.0001, 50, 12, 10), 0.6585834651588822: (0.0001, 50, 12, 100), 0.6520587876646939: (0.0001, 50, 12, 500), 0.6447626922911105: (0.0001, 50, 13, 5), 0.6476516726365565: (0.0001, 50, 13, 10), 0.6586544255534148: (0.0001, 50, 13, 100), 0.6595712090316805: (0.0001, 50, 13, 500), 0.647285178465411: (0.0001, 50, 14, 5), 0.6415739427063019: (0.0001, 50, 14, 10), 0.6543003684018358: (0.0001, 50, 14, 100), 0.6545553168936121: (0.0001, 50, 14, 500), 0.6360585511638239: (0.0001, 50, 15, 5), 0.6426813722267957: (0.0001, 50, 15, 10), 0.654452340144759: (0.0001, 50, 15, 100), 0.6575684881344157: (0.0001, 50, 15, 500), 0.6533367235419173: (0.0001, 100, 10, 5), 0.653172957355161: (0.0001, 100, 10, 10), 0.6583131165063438: (0.0001, 100, 10, 100), 0.6549220034634085: (0.0001, 100, 10, 500), 0.6517440781760864: (0.0001, 100, 11, 5), 0.647185645591386: (0.0001, 100, 11, 10), 0.6574334365342511: (0.0001, 100, 11, 100), 0.6592721469150014: (0.0001, 100, 11, 500), 0.6502401175099284: (0.0001, 100, 12, 5), 0.6499081255162259: (0.0001, 100, 12, 10), 0.6577439825949349: (0.0001, 100, 12, 100), 0.6588367762596848: (0.0001, 100, 12, 500), 0.6470142583963003: (0.0001, 100, 13, 5), 0.6465157764893852: (0.0001, 100, 13, 10), 0.6554742256555044: (0.0001, 100, 13, 100), 0.6547941960864629: (0.0001, 100, 13, 500), 0.6425863280863989: (0.0001, 100, 14, 5), 0.6464648717848525: (0.0001, 100, 14, 10), 0.6575704177580377: (0.0001, 100, 14, 100), 0.6568163781023857: (0.0001, 100, 14, 500), 0.6423205164315601: (0.0001, 100, 15, 5), 0.6452885766298505: (0.0001, 100, 15, 10), 0.65544401803405: (0.0001, 100, 15, 100), 0.658228916783135: (0.0001, 100, 15, 500), 0.652045715059542: (0.0001, 150, 10, 5), 0.6514169839383941: (0.0001, 150, 10, 10), 0.6575720436374297: (0.0001, 150, 10, 100), 0.6572194859071967: (0.0001, 150, 10, 500), 0.6498179044295394: (0.0001, 150, 11, 5), 0.6498860464815732: (0.0001, 150, 11, 10), 0.6572749763550831: (0.0001, 150, 11, 100), 0.6554308554741004: (0.0001, 150, 11, 500), 0.6506113459546594: (0.0001, 150, 12, 5), 0.6488137794484301: (0.0001, 150, 12, 10), 0.6582994769808437: (0.0001, 150, 12, 100), 0.6562713713360946: (0.0001, 150, 12, 500), 0.6503459652292343: (0.0001, 150, 13, 5), 0.6479852113041382: (0.0001, 150, 13, 10), 0.6534345847184204: (0.0001, 150, 13, 100), 0.6580128898551343: (0.0001, 150, 13, 500), 0.6438293746033219: (0.0001, 150, 14, 5), 0.6430518119909447: (0.0001, 150, 14, 10), 0.6571200806540688: (0.0001, 150, 14, 100), 0.6574531725789429: (0.0001, 150, 14, 500), 0.6409807965981746: (0.0001, 150, 15, 5), 0.6447573448078386: (0.0001, 150, 15, 10), 0.6555222700864356: (0.0001, 150, 15, 100), 0.6583049243666657: (0.0001, 150, 15, 500), 0.6532123806350418: (0.0001, 200, 10, 5), 0.6509532435906162: (0.0001, 200, 10, 10), 0.6582872834839952: (0.0001, 200, 10, 100), 0.6592435125409745: (0.0001, 200, 10, 500), 0.6501602047028533: (0.0001, 200, 11, 5), 0.651916181293464: (0.0001, 200, 11, 10), 0.6582513387164899: (0.0001, 200, 11, 100), 0.6585231426401772: (0.0001, 200, 11, 500), 0.6495211830561365: (0.0001, 200, 12, 5), 0.6485809410953822: (0.0001, 200, 12, 10), 0.6567359437560257: (0.0001, 200, 12, 100), 0.6590863143006453: (0.0001, 200, 12, 500), 0.6487332796223693: (0.0001, 200, 13, 5), 0.6488826531971166: (0.0001, 200, 13, 10), 0.6575982957001576: (0.0001, 200, 13, 100), 0.6564601715372658: (0.0001, 200, 13, 500), 0.6493407004122164: (0.0001, 200, 14, 5), 0.6466876974680804: (0.0001, 200, 14, 10), 0.6564095881896002: (0.0001, 200, 14, 100), 0.6578992211190902: (0.0001, 200, 14, 500), 0.6451369572238201: (0.0001, 200, 15, 5), 0.6423988779631133: (0.0001, 200, 15, 10), 0.6546692632335447: (0.0001, 200, 15, 100), 0.6567830939773533: (0.0001, 200, 15, 500), 0.6493896456976387: (0.0001, 250, 10, 5), 0.6503321839004532: (0.0001, 250, 10, 10), 0.6581451021310505: (0.0001, 250, 10, 100), 0.6567689465975581: (0.0001, 250, 10, 500), 0.6505171285477949: (0.0001, 250, 11, 5), 0.6511340681934653: (0.0001, 250, 11, 10), 0.6577378733149226: (0.0001, 250, 11, 100), 0.6580208390642709: (0.0001, 250, 11, 500), 0.6507327564689619: (0.0001, 250, 12, 5), 0.6475963911602898: (0.0001, 250, 12, 10), 0.6577897643878736: (0.0001, 250, 12, 100), 0.6582141474728216: (0.0001, 250, 12, 500), 0.6494199948037942: (0.0001, 250, 13, 5), 0.6470209621609133: (0.0001, 250, 13, 10), 0.6568275080090732: (0.0001, 250, 13, 100), 0.6581874588437187: (0.0001, 250, 13, 500), 0.6443695935913574: (0.0001, 250, 14, 5), 0.644791568815909: (0.0001, 250, 14, 10), 0.6563951896359699: (0.0001, 250, 14, 100), 0.6573226052235132: (0.0001, 250, 14, 500), 0.6426880467552292: (0.0001, 250, 15, 5), 0.6451866256893193: (0.0001, 250, 15, 10), 0.654769527964671: (0.0001, 250, 15, 100), 0.657123150601226: (0.0001, 250, 15, 500), 0.6527242263823774: (0.0001, 300, 10, 5), 0.6516226112758317: (0.0001, 300, 10, 10), 0.6580331693117235: (0.0001, 300, 10, 100), 0.6560667186517521: (0.0001, 300, 10, 500), 0.6510951100617928: (0.0001, 300, 11, 5), 0.6506003311324977: (0.0001, 300, 11, 10), 0.6583236249266177: (0.0001, 300, 11, 100), 0.6583456682429709: (0.0001, 300, 11, 500), 0.6491449289366373: (0.0001, 300, 12, 5), 0.6491363195337685: (0.0001, 300, 12, 10), 0.657346054499375: (0.0001, 300, 12, 100), 0.6584188263921216: (0.0001, 300, 12, 500), 0.6493250496113495: (0.0001, 300, 13, 5), 0.647562413025631: (0.0001, 300, 13, 10), 0.6575080565407927: (0.0001, 300, 13, 100), 0.657145916440834: (0.0001, 300, 13, 500), 0.6468073759154932: (0.0001, 300, 14, 5), 0.645916854959895: (0.0001, 300, 14, 10), 0.6560788269490809: (0.0001, 300, 14, 100), 0.6581326207712794: (0.0001, 300, 14, 500), 0.6440406653712427: (0.0001, 300, 15, 5), 0.6437916945214402: (0.0001, 300, 15, 10), 0.654247974017829: (0.0001, 300, 15, 100), 0.6564834027925779: (0.0001, 300, 15, 500), 0.6494471509324915: (0.001, 50, 10, 5), 0.6471624255173615: (0.001, 50, 10, 10), 0.6586077952045716: (0.001, 50, 10, 100), 0.6567633331200249: (0.001, 50, 10, 500), 0.6492844539188425: (0.001, 50, 11, 5), 0.6496328376286806: (0.001, 50, 11, 10), 0.6576144288963395: (0.001, 50, 11, 100), 0.6584005988540955: (0.001, 50, 11, 500), 0.6496170945401324: (0.001, 50, 12, 5), 0.6456959635174295: (0.001, 50, 12, 10), 0.6558883958138966: (0.001, 50, 12, 100), 0.6550320930894723: (0.001, 50, 12, 500), 0.64722504867811: (0.001, 50, 13, 5), 0.6451034638426321: (0.001, 50, 13, 10), 0.6566359397518141: (0.001, 50, 13, 100), 0.6583442981257964: (0.001, 50, 13, 500), 0.6399876335029531: (0.001, 50, 14, 5), 0.6461349001513718: (0.001, 50, 14, 10), 0.6570259210922004: (0.001, 50, 14, 100), 0.658492768844653: (0.001, 50, 14, 500), 0.6408704536059338: (0.001, 50, 15, 5), 0.6451996194181735: (0.001, 50, 15, 10), 0.6544986879163384: (0.001, 50, 15, 100), 0.6566817521669517: (0.001, 50, 15, 500), 0.6490436181072274: (0.001, 100, 10, 5), 0.6525369184455982: (0.001, 100, 10, 10), 0.6590198086104906: (0.001, 100, 10, 100), 0.655264981934497: (0.001, 100, 10, 500), 0.649337699666808: (0.001, 100, 11, 5), 0.6455625875802649: (0.001, 100, 11, 10), 0.6562145680298768: (0.001, 100, 11, 100), 0.6582925571998548: (0.001, 100, 11, 500), 0.6505068059030837: (0.001, 100, 12, 5), 0.6485352146131164: (0.001, 100, 12, 10), 0.6570155885805008: (0.001, 100, 12, 100), 0.6576064989990613: (0.001, 100, 12, 500), 0.6485814679024235: (0.001, 100, 13, 5), 0.6430831443374176: (0.001, 100, 13, 10), 0.6574028775548619: (0.001, 100, 13, 100), 0.6568079765684706: (0.001, 100, 13, 500), 0.6447962702951715: (0.001, 100, 14, 5), 0.6457532633837436: (0.001, 100, 14, 10), 0.6535885028266808: (0.001, 100, 14, 100), 0.6532842557315685: (0.001, 100, 14, 500), 0.6394625447086819: (0.001, 100, 15, 5), 0.6401213932539753: (0.001, 100, 15, 10), 0.654473474560078: (0.001, 100, 15, 100), 0.6546516927630734: (0.001, 100, 15, 500), 0.6512141691593158: (0.001, 150, 10, 5), 0.6512036904118744: (0.001, 150, 10, 10), 0.6570601636898883: (0.001, 150, 10, 100), 0.6572256549816706: (0.001, 150, 10, 500), 0.6509152447523552: (0.001, 150, 11, 5), 0.6481291714452515: (0.001, 150, 11, 10), 0.6576418792215093: (0.001, 150, 11, 100), 0.6558011836667776: (0.001, 150, 11, 500), 0.6494097232547604: (0.001, 150, 12, 5), 0.646829531668548: (0.001, 150, 12, 10), 0.6565966134054422: (0.001, 150, 12, 100), 0.6566460581034141: (0.001, 150, 12, 500), 0.6454721607083678: (0.001, 150, 13, 5), 0.6489478051210973: (0.001, 150, 13, 10), 0.656191360537594: (0.001, 150, 13, 100), 0.6569190907542121: (0.001, 150, 13, 500), 0.644917095524572: (0.001, 150, 14, 5), 0.6431090588803245: (0.001, 150, 14, 10), 0.6521368918609964: (0.001, 150, 14, 100), 0.6565803994499793: (0.001, 150, 14, 500), 0.6422612589796369: (0.001, 150, 15, 5), 0.6434035462353604: (0.001, 150, 15, 10), 0.6541614022948554: (0.001, 150, 15, 100), 0.6566231709746582: (0.001, 150, 15, 500), 0.6498973238428478: (0.001, 200, 10, 5), 0.6498263665415508: (0.001, 200, 10, 10), 0.6570933727653114: (0.001, 200, 10, 100), 0.6565990310977241: (0.001, 200, 10, 500), 0.6517972412003037: (0.001, 200, 11, 5), 0.6497896203757665: (0.001, 200, 11, 10), 0.6572846143293518: (0.001, 200, 11, 100), 0.655057692253304: (0.001, 200, 11, 500), 0.6510796129169723: (0.001, 200, 12, 5), 0.6476712063581906: (0.001, 200, 12, 10), 0.6568607875056056: (0.001, 200, 12, 100), 0.6572952789069594: (0.001, 200, 12, 500), 0.6488849163317506: (0.001, 200, 13, 5), 0.6452603419008474: (0.001, 200, 13, 10), 0.6558316051658938: (0.001, 200, 13, 100), 0.6553329930265224: (0.001, 200, 13, 500), 0.6449865557604983: (0.001, 200, 14, 5), 0.6446025836979878: (0.001, 200, 14, 10), 0.6533070895609042: (0.001, 200, 14, 100), 0.6557730419366663: (0.001, 200, 14, 500), 0.6432354297812926: (0.001, 200, 15, 5), 0.6433868883646807: (0.001, 200, 15, 10), 0.6545462041246151: (0.001, 200, 15, 100), 0.6565005673771069: (0.001, 200, 15, 500), 0.6518274246225766: (0.001, 250, 10, 5), 0.64901364331968: (0.001, 250, 10, 10), 0.6564637796695612: (0.001, 250, 10, 100), 0.6565082068116654: (0.001, 250, 10, 500), 0.6496557865101567: (0.001, 250, 11, 5), 0.6512492923856754: (0.001, 250, 11, 10), 0.656085696314931: (0.001, 250, 11, 100), 0.6574312820876964: (0.001, 250, 11, 500), 0.6500934319130036: (0.001, 250, 12, 5), 0.6463876511118394: (0.001, 250, 12, 10), 0.6555067817453282: (0.001, 250, 12, 100), 0.6558809111446244: (0.001, 250, 12, 500), 0.6475152045485517: (0.001, 250, 13, 5), 0.6471259945828298: (0.001, 250, 13, 10), 0.6560166578496556: (0.001, 250, 13, 100), 0.6542901145863255: (0.001, 250, 13, 500), 0.6449986020701532: (0.001, 250, 14, 5), 0.6453719275436045: (0.001, 250, 14, 10), 0.6539495503932781: (0.001, 250, 14, 100), 0.6555601264300841: (0.001, 250, 14, 500), 0.6427072087814216: (0.001, 250, 15, 5), 0.6418742183607928: (0.001, 250, 15, 10), 0.6543855903130633: (0.001, 250, 15, 100), 0.6548028738956255: (0.001, 250, 15, 500), 0.6498156704992885: (0.001, 300, 10, 5), 0.6482796505288162: (0.001, 300, 10, 10), 0.6547203684160556: (0.001, 300, 10, 100), 0.6556151700587785: (0.001, 300, 10, 500), 0.6500822907498627: (0.001, 300, 11, 5), 0.6487512079360972: (0.001, 300, 11, 10), 0.6566569177927835: (0.001, 300, 11, 100), 0.6559551145882572: (0.001, 300, 11, 500), 0.6493798850237504: (0.001, 300, 12, 5), 0.6476272150397471: (0.001, 300, 12, 10), 0.6562897150545334: (0.001, 300, 12, 100), 0.6554329981433684: (0.001, 300, 12, 500), 0.6471632684432329: (0.001, 300, 13, 5), 0.6455021053108055: (0.001, 300, 13, 10), 0.6548424118027991: (0.001, 300, 13, 100), 0.6550045274615213: (0.001, 300, 13, 500), 0.6459264665799409: (0.001, 300, 14, 5), 0.6450307250516527: (0.001, 300, 14, 10), 0.6548619235743549: (0.001, 300, 14, 100), 0.6553282383329531: (0.001, 300, 14, 500), 0.6430358705566143: (0.001, 300, 15, 5), 0.6435914999429546: (0.001, 300, 15, 10), 0.6534624217475526: (0.001, 300, 15, 100), 0.6558516228525697: (0.001, 300, 15, 500), 0.6533325843240789: (0.01, 50, 10, 5), 0.6483012848874503: (0.01, 50, 10, 10), 0.6567375635910604: (0.01, 50, 10, 100), 0.6516733787541034: (0.01, 50, 10, 500), 0.6458529496915935: (0.01, 50, 11, 5), 0.6425894555139631: (0.01, 50, 11, 10), 0.650441463142323: (0.01, 50, 11, 100), 0.6556580921149684: (0.01, 50, 11, 500), 0.6503122390409881: (0.01, 50, 12, 5), 0.6448189980927683: (0.01, 50, 12, 10), 0.652414182613916: (0.01, 50, 12, 100), 0.6501457345556836: (0.01, 50, 12, 500), 0.6374640377768274: (0.01, 50, 13, 5), 0.6429627115749588: (0.01, 50, 13, 10), 0.6527608830638456: (0.01, 50, 13, 100), 0.6497501880540465: (0.01, 50, 13, 500), 0.6390010910253336: (0.01, 50, 14, 5), 0.6418955120578236: (0.01, 50, 14, 10), 0.652070918338007: (0.01, 50, 14, 100), 0.6512386617177889: (0.01, 50, 14, 500), 0.6357847253669391: (0.01, 50, 15, 5), 0.6432275799549676: (0.01, 50, 15, 10), 0.6491055564592062: (0.01, 50, 15, 100), 0.651862185313441: (0.01, 50, 15, 500), 0.6449944200706408: (0.01, 100, 10, 5), 0.6429046144430912: (0.01, 100, 10, 10), 0.6507202581474043: (0.01, 100, 10, 100), 0.646605368532946: (0.01, 100, 10, 500), 0.6446775724785688: (0.01, 100, 11, 5), 0.6466951077014809: (0.01, 100, 11, 10), 0.6467515708939862: (0.01, 100, 11, 100), 0.6474046119920819: (0.01, 100, 11, 500), 0.6448509233654524: (0.01, 100, 12, 5), 0.6426927191060039: (0.01, 100, 12, 10), 0.6472450469784645: (0.01, 100, 12, 100), 0.6461156487423771: (0.01, 100, 12, 500), 0.6460147941955308: (0.01, 100, 13, 5), 0.6441500988063394: (0.01, 100, 13, 10), 0.6475142050869024: (0.01, 100, 13, 100), 0.6503485014956184: (0.01, 100, 13, 500), 0.6415393429842309: (0.01, 100, 14, 5), 0.6392645976281657: (0.01, 100, 14, 10), 0.6468862595758328: (0.01, 100, 14, 100), 0.6471931132097386: (0.01, 100, 14, 500), 0.6377608564512982: (0.01, 100, 15, 5), 0.6374332964243452: (0.01, 100, 15, 10), 0.6461188477392694: (0.01, 100, 15, 100), 0.647361787129687: (0.01, 100, 15, 500), 0.6398241204696731: (0.01, 150, 10, 5), 0.6409596419709271: (0.01, 150, 10, 10), 0.6403429450115579: (0.01, 150, 10, 100), 0.6405697979610735: (0.01, 150, 10, 500), 0.6416298623843696: (0.01, 150, 11, 5), 0.6425866394286985: (0.01, 150, 11, 10), 0.6407224523347211: (0.01, 150, 11, 100), 0.6401261456846259: (0.01, 150, 11, 500), 0.6411624510978706: (0.01, 150, 12, 5), 0.6412597587472311: (0.01, 150, 12, 10), 0.6406595871271177: (0.01, 150, 12, 100), 0.6410783466355172: (0.01, 150, 12, 500), 0.6426976537549751: (0.01, 150, 13, 5), 0.6440761441743137: (0.01, 150, 13, 10), 0.6402814279062042: (0.01, 150, 13, 100), 0.6392795820553495: (0.01, 150, 13, 500), 0.6385451423681514: (0.01, 150, 14, 5), 0.6332006178245733: (0.01, 150, 14, 10), 0.6437149287118027: (0.01, 150, 14, 100), 0.6397386623702332: (0.01, 150, 14, 500), 0.6302337858256775: (0.01, 150, 15, 5), 0.6386613441127211: (0.01, 150, 15, 10), 0.6416977252090343: (0.01, 150, 15, 100), 0.638629525869661: (0.01, 150, 15, 500), 0.6387948599728059: (0.01, 200, 10, 5), 0.6376682591130711: (0.01, 200, 10, 10), 0.638934853879153: (0.01, 200, 10, 100), 0.6339573160915295: (0.01, 200, 10, 500), 0.638753695328028: (0.01, 200, 11, 5), 0.6369196826599485: (0.01, 200, 11, 10), 0.6363984349913921: (0.01, 200, 11, 100), 0.6332093109229697: (0.01, 200, 11, 500), 0.6387231092668861: (0.01, 200, 12, 5), 0.6374553930520076: (0.01, 200, 12, 10), 0.6379431441685147: (0.01, 200, 12, 100), 0.6339192718254535: (0.01, 200, 12, 500), 0.6385458078195754: (0.01, 200, 13, 5), 0.6337272252994588: (0.01, 200, 13, 10), 0.6359752343080676: (0.01, 200, 13, 100), 0.6340532974618032: (0.01, 200, 13, 500), 0.6371334501840002: (0.01, 200, 14, 5), 0.630392114998244: (0.01, 200, 14, 10), 0.6362269717782654: (0.01, 200, 14, 100), 0.6345140631815345: (0.01, 200, 14, 500), 0.6294006761881706: (0.01, 200, 15, 5), 0.6303225220291817: (0.01, 200, 15, 10), 0.6357665703922807: (0.01, 200, 15, 100), 0.6333341114385154: (0.01, 200, 15, 500), 0.6359330053448499: (0.01, 250, 10, 5), 0.6350343128758607: (0.01, 250, 10, 10), 0.6334427511289448: (0.01, 250, 10, 100), 0.6278184602653127: (0.01, 250, 10, 500), 0.6373002992168322: (0.01, 250, 11, 5), 0.6345685125422271: (0.01, 250, 11, 10), 0.6337709698862342: (0.01, 250, 11, 100), 0.6274057740062617: (0.01, 250, 11, 500), 0.6361703214564225: (0.01, 250, 12, 5), 0.6326733834051467: (0.01, 250, 12, 10), 0.6320649453511102: (0.01, 250, 12, 100), 0.6276046549618485: (0.01, 250, 12, 500), 0.6374572112023348: (0.01, 250, 13, 5), 0.6310268035126524: (0.01, 250, 13, 10), 0.6315096016602342: (0.01, 250, 13, 100), 0.6284373807185657: (0.01, 250, 13, 500), 0.6328594244298779: (0.01, 250, 14, 5), 0.6330771760262313: (0.01, 250, 14, 10), 0.6349716543316477: (0.01, 250, 14, 100), 0.6271492800362366: (0.01, 250, 14, 500), 0.6257661102317773: (0.01, 250, 15, 5), 0.6337568994202529: (0.01, 250, 15, 10), 0.6318211328513035: (0.01, 250, 15, 100), 0.6274445522384653: (0.01, 250, 15, 500), 0.6334623300900292: (0.01, 300, 10, 5), 0.6317868061668619: (0.01, 300, 10, 10), 0.6292171698269184: (0.01, 300, 10, 100), 0.6218988956550608: (0.01, 300, 10, 500), 0.6328411430224152: (0.01, 300, 11, 5), 0.6327796690714029: (0.01, 300, 11, 10), 0.628034232828727: (0.01, 300, 11, 100), 0.6212622970325324: (0.01, 300, 11, 500), 0.6334626294197405: (0.01, 300, 12, 5), 0.63302426802477: (0.01, 300, 12, 10), 0.6291309457687695: (0.01, 300, 12, 100), 0.620928973017628: (0.01, 300, 12, 500), 0.6328109639432873: (0.01, 300, 13, 5), 0.6299444894236008: (0.01, 300, 13, 10), 0.6271754073205886: (0.01, 300, 13, 100), 0.6223724427292421: (0.01, 300, 13, 500), 0.6285207439188014: (0.01, 300, 14, 5), 0.6296817292534308: (0.01, 300, 14, 10), 0.6287605512994192: (0.01, 300, 14, 100), 0.6209880732084443: (0.01, 300, 14, 500), 0.6272642427168729: (0.01, 300, 15, 5), 0.6262259772552938: (0.01, 300, 15, 10), 0.6276934583805529: (0.01, 300, 15, 100), 0.6197054952869512: (0.01, 300, 15, 500), 0.6099356616449163: (0.1, 50, 10, 5), 0.611868915445663: (0.1, 50, 10, 10), 0.6164250016991628: (0.1, 50, 10, 100), 0.6029416094817301: (0.1, 50, 10, 500), 0.6170531618215449: (0.1, 50, 11, 5), 0.613764257681997: (0.1, 50, 11, 10), 0.6154695790389686: (0.1, 50, 11, 100), 0.5965440941322822: (0.1, 50, 11, 500), 0.6241237700833617: (0.1, 50, 12, 5), 0.61837633467656: (0.1, 50, 12, 10), 0.6187745059752132: (0.1, 50, 12, 100), 0.5985594764817597: (0.1, 50, 12, 500), 0.6189246537190791: (0.1, 50, 13, 5), 0.6174267295522042: (0.1, 50, 13, 10), 0.6126009989585297: (0.1, 50, 13, 100), 0.5989629798979841: (0.1, 50, 13, 500), 0.6138470891800356: (0.1, 50, 14, 5), 0.6189433612189192: (0.1, 50, 14, 10), 0.6126913764615372: (0.1, 50, 14, 100), 0.599458969114722: (0.1, 50, 14, 500), 0.6070227635857935: (0.1, 50, 15, 5), 0.6203767319431841: (0.1, 50, 15, 10), 0.6116472822131952: (0.1, 50, 15, 100), 0.6006616389829382: (0.1, 50, 15, 500), 0.5990460207940114: (0.1, 100, 10, 5), 0.6005097507890708: (0.1, 100, 10, 10), 0.5831763172728774: (0.1, 100, 10, 100), 0.5455925141118251: (0.1, 100, 10, 500), 0.6055535565197735: (0.1, 100, 11, 5), 0.6105507009615685: (0.1, 100, 11, 10), 0.5846274021448301: (0.1, 100, 11, 100), 0.545572892266193: (0.1, 100, 11, 500), 0.6025672807199819: (0.1, 100, 12, 5), 0.6096460988973676: (0.1, 100, 12, 10), 0.5866804426265166: (0.1, 100, 12, 100), 0.5477264143516936: (0.1, 100, 12, 500), 0.6133364146673417: (0.1, 100, 13, 5), 0.6078037059188115: (0.1, 100, 13, 10), 0.5941316880972636: (0.1, 100, 13, 100), 0.5481602365458191: (0.1, 100, 13, 500), 0.6003354282855253: (0.1, 100, 14, 5), 0.6106713075652459: (0.1, 100, 14, 10), 0.5959843571411987: (0.1, 100, 14, 100), 0.5501466007964348: (0.1, 100, 14, 500), 0.6091244819834615: (0.1, 100, 15, 5), 0.6085529925473807: (0.1, 100, 15, 10), 0.593573596080915: (0.1, 100, 15, 100), 0.5690189706564988: (0.1, 100, 15, 500), 0.599804991018795: (0.1, 150, 10, 5), 0.5920368479818421: (0.1, 150, 10, 10), 0.560692809775115: (0.1, 150, 10, 100), 0.4896638739772128: (0.1, 150, 10, 500), 0.5927985495090057: (0.1, 150, 11, 5), 0.6021923631787507: (0.1, 150, 11, 10), 0.5660329816844256: (0.1, 150, 11, 100), 0.49948131126506634: (0.1, 150, 11, 500), 0.5983211159379931: (0.1, 150, 12, 5), 0.6013584762670172: (0.1, 150, 12, 10), 0.5686329963683189: (0.1, 150, 12, 100), 0.4920764862815775: (0.1, 150, 12, 500), 0.6028898411401602: (0.1, 150, 13, 5), 0.6026591691338403: (0.1, 150, 13, 10), 0.5720001925649244: (0.1, 150, 13, 100), 0.4995336775017969: (0.1, 150, 13, 500), 0.6045635563358361: (0.1, 150, 14, 5), 0.6066466067483928: (0.1, 150, 14, 10), 0.5778040126222884: (0.1, 150, 14, 100), 0.48787506591925744: (0.1, 150, 14, 500), 0.5994305298787435: (0.1, 150, 15, 5), 0.6035990493979426: (0.1, 150, 15, 10), 0.5786551040747323: (0.1, 150, 15, 100), 0.4954973975003837: (0.1, 150, 15, 500), 0.5963472639278622: (0.1, 200, 10, 5), 0.5938353311531158: (0.1, 200, 10, 10), 0.5406848754212072: (0.1, 200, 10, 100), 0.5678640707880364: (0.1, 200, 10, 500), 0.6009259646896334: (0.1, 200, 11, 5), 0.5970142942652985: (0.1, 200, 11, 10), 0.5449837616591535: (0.1, 200, 11, 100), 0.5323275374100485: (0.1, 200, 11, 500), 0.5993959082895906: (0.1, 200, 12, 5), 0.5955982066658045: (0.1, 200, 12, 10), 0.5524215694246813: (0.1, 200, 12, 100), 0.4410147092725324: (0.1, 200, 12, 500), 0.5913059536821725: (0.1, 200, 13, 5), 0.6036922496695105: (0.1, 200, 13, 10), 0.557733325448913: (0.1, 200, 13, 100), 0.4542503941863387: (0.1, 200, 13, 500), 0.5950999455189427: (0.1, 200, 14, 5), 0.5999170309053018: (0.1, 200, 14, 10), 0.5639403806955083: (0.1, 200, 14, 100), 0.47791289847390284: (0.1, 200, 14, 500), 0.5932478194562505: (0.1, 200, 15, 5), 0.6001504857505655: (0.1, 200, 15, 10), 0.5658426145459847: (0.1, 200, 15, 100), 0.44786309134471625: (0.1, 200, 15, 500), 0.5970135896058398: (0.1, 250, 10, 5), 0.5859545668755914: (0.1, 250, 10, 10), 0.5229034030409099: (0.1, 250, 10, 100), 0.39776920040160846: (0.1, 250, 10, 500), 0.599176954074687: (0.1, 250, 11, 5), 0.5905066834090767: (0.1, 250, 11, 10), 0.5373105929071872: (0.1, 250, 11, 100), 0.392860591969196: (0.1, 250, 11, 500), 0.5937381366408029: (0.1, 250, 12, 5), 0.5968026865221734: (0.1, 250, 12, 10), 0.5445406649704163: (0.1, 250, 12, 100), 0.3990669565392577: (0.1, 250, 12, 500), 0.5973007674112804: (0.1, 250, 13, 5), 0.5933318416668037: (0.1, 250, 13, 10), 0.5516909035741057: (0.1, 250, 13, 100), 0.39961549369127836: (0.1, 250, 13, 500), 0.5948863972480826: (0.1, 250, 14, 5), 0.5988494092683471: (0.1, 250, 14, 10), 0.5565134336055817: (0.1, 250, 14, 100), 0.40343389557037046: (0.1, 250, 14, 500), 0.5916500153958705: (0.1, 250, 15, 5), 0.6013981290708142: (0.1, 250, 15, 10), 0.5600033148567609: (0.1, 250, 15, 100), 0.4359113523557503: (0.1, 250, 15, 500), 0.5907934133940006: (0.1, 300, 10, 5), 0.5807433244345703: (0.1, 300, 10, 10), 0.5091810194867489: (0.1, 300, 10, 100), 0.37134401307349074: (0.1, 300, 10, 500), 0.5950110213459244: (0.1, 300, 11, 5), 0.5900037059543406: (0.1, 300, 11, 10), 0.5168063935047644: (0.1, 300, 11, 100), 0.36041427590731423: (0.1, 300, 11, 500), 0.6004142449290051: (0.1, 300, 12, 5), 0.5955456167530712: (0.1, 300, 12, 10), 0.5308880161128191: (0.1, 300, 12, 100), 0.3599718740648057: (0.1, 300, 12, 500), 0.5945611264701512: (0.1, 300, 13, 5), 0.5901804655376609: (0.1, 300, 13, 10), 0.5363783729189184: (0.1, 300, 13, 100), 0.40031931460601644: (0.1, 300, 13, 500), 0.5887958146839265: (0.1, 300, 14, 5), 0.5964510396896658: (0.1, 300, 14, 10), 0.5530636869538523: (0.1, 300, 14, 100), 0.3657510654491428: (0.1, 300, 14, 500), 0.5916505110063904: (0.1, 300, 15, 5), 0.5989889897287906: (0.1, 300, 15, 10), 0.5547888612106907: (0.1, 300, 15, 100), 0.3756442028008743: (0.1, 300, 15, 500), 0.5890132834290224: (1, 50, 10, 5), 0.5591151684195494: (1, 50, 10, 10), 0.4620752312648153: (1, 50, 10, 100), 0.25164942444974114: (1, 50, 10, 500), 0.5903156676724386: (1, 50, 11, 5), 0.5819456655126082: (1, 50, 11, 10), 0.47938570739920794: (1, 50, 11, 100), 0.2546673976404682: (1, 50, 11, 500), 0.587111258478211: (1, 50, 12, 5), 0.6051705585357003: (1, 50, 12, 10), 0.4890856098887998: (1, 50, 12, 100), 0.2802545297245741: (1, 50, 12, 500), 0.5742535832054678: (1, 50, 13, 5), 0.5852351790606687: (1, 50, 13, 10), 0.5005645743513035: (1, 50, 13, 100), 0.28414487797895616: (1, 50, 13, 500), 0.5770999778202149: (1, 50, 14, 5), 0.5886341890319751: (1, 50, 14, 10), 0.5232075112123298: (1, 50, 14, 100), 0.2721657024041284: (1, 50, 14, 500), 0.5711364581912675: (1, 50, 15, 5), 0.5861062321809911: (1, 50, 15, 10), 0.51368037807916: (1, 50, 15, 100), 0.3040236275787206: (1, 50, 15, 500), 0.566169642722543: (1, 100, 10, 5), 0.5745375548271978: (1, 100, 10, 10), 0.43093300124210476: (1, 100, 10, 100), 0.3823029125639559: (1, 100, 10, 500), 0.5693924049089247: (1, 100, 11, 5), 0.5778002661234526: (1, 100, 11, 10), 0.4485090020397198: (1, 100, 11, 100), 0.20913431479797728: (1, 100, 11, 500), 0.5759522563246379: (1, 100, 12, 5), 0.57406177750956: (1, 100, 12, 10), 0.46954409514162354: (1, 100, 12, 100), 0.21654793124392668: (1, 100, 12, 500), 0.5959088702251204: (1, 100, 13, 5), 0.5855424237375433: (1, 100, 13, 10), 0.4746942291516961: (1, 100, 13, 100), 0.2165041155360602: (1, 100, 13, 500), 0.5845523176928734: (1, 100, 14, 5), 0.5915559551299724: (1, 100, 14, 10), 0.4978637805118239: (1, 100, 14, 100), 0.22516101539115352: (1, 100, 14, 500), 0.5695555331390301: (1, 100, 15, 5), 0.5975842616257262: (1, 100, 15, 10), 0.5034394677600433: (1, 100, 15, 100), 0.3772670296454187: (1, 100, 15, 500), 0.5743042994462104: (1, 150, 10, 5), 0.5681949233592096: (1, 150, 10, 10), 0.4298360741863344: (1, 150, 10, 100), 0.1527921829167358: (1, 150, 10, 500), 0.5824263631705432: (1, 150, 11, 5), 0.573664112103365: (1, 150, 11, 10), 0.4422782218007081: (1, 150, 11, 100), 0.17960404336083413: (1, 150, 11, 500), 0.5877174470762601: (1, 150, 12, 5), 0.5844445994005316: (1, 150, 12, 10), 0.45776260929508517: (1, 150, 12, 100), 0.19767315435721866: (1, 150, 12, 500), 0.587398772782845: (1, 150, 13, 5), 0.586624953969565: (1, 150, 13, 10), 0.4915248686282616: (1, 150, 13, 100), 0.19228350893725377: (1, 150, 13, 500), 0.5907440104882085: (1, 150, 14, 5), 0.5866741560918971: (1, 150, 14, 10), 0.4900294928647795: (1, 150, 14, 100), 0.2052541125230789: (1, 150, 14, 500), 0.5648683884022176: (1, 150, 15, 5), 0.602608466451902: (1, 150, 15, 10), 0.5013911565540681: (1, 150, 15, 100), 0.19893906043271148: (1, 150, 15, 500), 0.5713087459363902: (1, 200, 10, 5), 0.5659260804568553: (1, 200, 10, 10), 0.41532337229313654: (1, 200, 10, 100), 0.13815175184603612: (1, 200, 10, 500), 0.5772507831701148: (1, 200, 11, 5), 0.5783827261274919: (1, 200, 11, 10), 0.4246988534328009: (1, 200, 11, 100), 0.13863944292012775: (1, 200, 11, 500), 0.5835484931689998: (1, 200, 12, 5), 0.5788974869574138: (1, 200, 12, 10), 0.4590089020263889: (1, 200, 12, 100), 0.1719630925550487: (1, 200, 12, 500), 0.5858985503934387: (1, 200, 13, 5), 0.5878362129444878: (1, 200, 13, 10), 0.4716519343605148: (1, 200, 13, 100), 0.2410990493259032: (1, 200, 13, 500), 0.5885020697396783: (1, 200, 14, 5), 0.5947871659678436: (1, 200, 14, 10), 0.49572973164370027: (1, 200, 14, 100), 0.23014616499935225: (1, 200, 14, 500), 0.5792317152971056: (1, 200, 15, 5), 0.5840466386651673: (1, 200, 15, 10), 0.48587105854173207: (1, 200, 15, 100), 0.21399313216829252: (1, 200, 15, 500), 0.5721011989784109: (1, 250, 10, 5), 0.5593743746309914: (1, 250, 10, 10), 0.39789733637740565: (1, 250, 10, 100), 0.3148546858199365: (1, 250, 10, 500), 0.583594181612886: (1, 250, 11, 5), 0.580762981762252: (1, 250, 11, 10), 0.42010459743109363: (1, 250, 11, 100), 0.1299463627907549: (1, 250, 11, 500), 0.5847326249922423: (1, 250, 12, 5), 0.5815986607545772: (1, 250, 12, 10), 0.45363184542660595: (1, 250, 12, 100), 0.13647029271732591: (1, 250, 12, 500), 0.5869268192875093: (1, 250, 13, 5), 0.5899224970618433: (1, 250, 13, 10), 0.4707187466087388: (1, 250, 13, 100), 0.1691063516909198: (1, 250, 13, 500), 0.5896068522940778: (1, 250, 14, 5), 0.5834814720354103: (1, 250, 14, 10), 0.4831086702519526: (1, 250, 14, 100), 0.16039226058301614: (1, 250, 14, 500), 0.57473993722797: (1, 250, 15, 5), 0.5762632222891184: (1, 250, 15, 10), 0.495504459918242: (1, 250, 15, 100), 0.3115445676771219: (1, 250, 15, 500), 0.5718068582049656: (1, 300, 10, 5), 0.5582255392653124: (1, 300, 10, 10), 0.40832597960234374: (1, 300, 10, 100), 0.09775048639726958: (1, 300, 10, 500), 0.5807862521870802: (1, 300, 11, 5), 0.5686119587055554: (1, 300, 11, 10), 0.4208993207085825: (1, 300, 11, 100), 0.11904474290643041: (1, 300, 11, 500), 0.5830410445726646: (1, 300, 12, 5), 0.5799941246843747: (1, 300, 12, 10), 0.44104566156232095: (1, 300, 12, 100), 0.13331347802506166: (1, 300, 12, 500), 0.5864595808407576: (1, 300, 13, 5), 0.581086007528548: (1, 300, 13, 10), 0.4599732525488629: (1, 300, 13, 100), 0.1737344938801434: (1, 300, 13, 500), 0.5700142838430351: (1, 300, 14, 5), 0.5885835362558771: (1, 300, 14, 10), 0.4810822430960848: (1, 300, 14, 100), 0.15220075280613: (1, 300, 14, 500), 0.5926411040211901: (1, 300, 15, 5), 0.5853293486407461: (1, 300, 15, 10), 0.48953479706804415: (1, 300, 15, 100), 0.1909361003311132: (1, 300, 15, 500)}\n"
          ],
          "name": "stdout"
        },
        {
          "output_type": "execute_result",
          "data": {
            "text/plain": [
              "(0.0001, 50, 13, 500)"
            ]
          },
          "metadata": {
            "tags": []
          },
          "execution_count": 43
        }
      ]
    },
    {
      "cell_type": "code",
      "metadata": {
        "id": "7M73uUoGzWKD",
        "colab_type": "code",
        "colab": {
          "base_uri": "https://localhost:8080/",
          "height": 34
        },
        "outputId": "d5306513-96f4-4c66-ce68-652e745da627"
      },
      "source": [
        "print(maximum_auc_score, dict_cv_r2[maximum_auc_score])\n",
        "print(i,j,p,q)"
      ],
      "execution_count": null,
      "outputs": [
        {
          "output_type": "stream",
          "text": [
            "0.6595712090316805 (0.0001, 50, 13, 500)\n"
          ],
          "name": "stdout"
        }
      ]
    },
    {
      "cell_type": "code",
      "metadata": {
        "colab_type": "code",
        "id": "MFk6_5NPt7sb",
        "colab": {}
      },
      "source": [
        "'''#https://machinelearningmastery.com/adaboost-ensemble-in-python/\n",
        "gsearch = GridSearchCV(abr, parameters, scoring='r2')\n",
        "gsearch.parameters = {'learning_rate':[0.0001, 0.001, 0.01, 0.1, 1], 'n_estimators' : [50, 100, 150, 200, 250, 300], 'base_estimator':[DecisionTreeRegressor(), RandomForestRegressor()]}\n",
        "fit(x_filtered, y) '''"
      ],
      "execution_count": null,
      "outputs": []
    },
    {
      "cell_type": "code",
      "metadata": {
        "colab_type": "code",
        "id": "VYTtaHzxt7sd",
        "colab": {}
      },
      "source": [
        "'''print(gsearch.best_estimator_)\n",
        "print(gsearch.best_score_)'''"
      ],
      "execution_count": null,
      "outputs": []
    },
    {
      "cell_type": "code",
      "metadata": {
        "colab_type": "code",
        "id": "cuEgmKMjYRVI",
        "colab": {
          "base_uri": "https://localhost:8080/",
          "height": 289
        },
        "outputId": "e6dd22b0-1fd2-4a49-8652-dcfdbd4e26b5"
      },
      "source": [
        "abr= AdaBoostRegressor(base_estimator= DecisionTreeRegressor(max_depth=13, min_samples_split=500), learning_rate=0.0001, loss='linear',  n_estimators=50)\n",
        "abr"
      ],
      "execution_count": null,
      "outputs": [
        {
          "output_type": "execute_result",
          "data": {
            "text/plain": [
              "AdaBoostRegressor(base_estimator=DecisionTreeRegressor(ccp_alpha=0.0,\n",
              "                                                       criterion='mse',\n",
              "                                                       max_depth=13,\n",
              "                                                       max_features=None,\n",
              "                                                       max_leaf_nodes=None,\n",
              "                                                       min_impurity_decrease=0.0,\n",
              "                                                       min_impurity_split=None,\n",
              "                                                       min_samples_leaf=1,\n",
              "                                                       min_samples_split=500,\n",
              "                                                       min_weight_fraction_leaf=0.0,\n",
              "                                                       presort='deprecated',\n",
              "                                                       random_state=None,\n",
              "                                                       splitter='best'),\n",
              "                  learning_rate=0.0001, loss='linear', n_estimators=50,\n",
              "                  random_state=None)"
            ]
          },
          "metadata": {
            "tags": []
          },
          "execution_count": 45
        }
      ]
    },
    {
      "cell_type": "code",
      "metadata": {
        "colab_type": "code",
        "id": "Yj8FqWZpt7sg",
        "colab": {}
      },
      "source": [
        "abr.fit(x_filtered, y)\n",
        "y_train_pred=abr.predict(x_filtered)\n",
        "y_test_pred =abr.predict(x_dummies_2)"
      ],
      "execution_count": null,
      "outputs": []
    },
    {
      "cell_type": "code",
      "metadata": {
        "colab_type": "code",
        "id": "QVCtpDfit7sh",
        "colab": {
          "base_uri": "https://localhost:8080/",
          "height": 50
        },
        "outputId": "49d623ff-a0b8-48f1-fa3e-b11e0270fa28"
      },
      "source": [
        "# checking r2 score\n",
        "from sklearn.metrics import r2_score\n",
        "print('train r2_score', r2_score(y, y_train_pred))\n",
        "print('='*30)\n",
        "#print('test r2_score', r2_score(y_test, y_test_pred))"
      ],
      "execution_count": null,
      "outputs": [
        {
          "output_type": "stream",
          "text": [
            "train r2_score 0.6548302212556886\n",
            "==============================\n"
          ],
          "name": "stdout"
        }
      ]
    },
    {
      "cell_type": "code",
      "metadata": {
        "colab_type": "code",
        "id": "dCNWisXRt7sj",
        "colab": {}
      },
      "source": [
        "final_df_10= pd.DataFrame(list(zip(df_2['ID'].values, y_test_pred)), columns=['ID', 'y'])"
      ],
      "execution_count": null,
      "outputs": []
    },
    {
      "cell_type": "code",
      "metadata": {
        "colab_type": "code",
        "id": "_n2Awzrzt7sl",
        "colab": {
          "base_uri": "https://localhost:8080/",
          "height": 195
        },
        "outputId": "c61591e5-6035-49fa-889b-3cc653013894"
      },
      "source": [
        "final_df_10.head()"
      ],
      "execution_count": null,
      "outputs": [
        {
          "output_type": "execute_result",
          "data": {
            "text/html": [
              "<div>\n",
              "<style scoped>\n",
              "    .dataframe tbody tr th:only-of-type {\n",
              "        vertical-align: middle;\n",
              "    }\n",
              "\n",
              "    .dataframe tbody tr th {\n",
              "        vertical-align: top;\n",
              "    }\n",
              "\n",
              "    .dataframe thead th {\n",
              "        text-align: right;\n",
              "    }\n",
              "</style>\n",
              "<table border=\"1\" class=\"dataframe\">\n",
              "  <thead>\n",
              "    <tr style=\"text-align: right;\">\n",
              "      <th></th>\n",
              "      <th>ID</th>\n",
              "      <th>y</th>\n",
              "    </tr>\n",
              "  </thead>\n",
              "  <tbody>\n",
              "    <tr>\n",
              "      <th>0</th>\n",
              "      <td>1</td>\n",
              "      <td>77.976183</td>\n",
              "    </tr>\n",
              "    <tr>\n",
              "      <th>1</th>\n",
              "      <td>2</td>\n",
              "      <td>120.827500</td>\n",
              "    </tr>\n",
              "    <tr>\n",
              "      <th>2</th>\n",
              "      <td>3</td>\n",
              "      <td>77.976183</td>\n",
              "    </tr>\n",
              "    <tr>\n",
              "      <th>3</th>\n",
              "      <td>4</td>\n",
              "      <td>77.976183</td>\n",
              "    </tr>\n",
              "    <tr>\n",
              "      <th>4</th>\n",
              "      <td>5</td>\n",
              "      <td>114.540885</td>\n",
              "    </tr>\n",
              "  </tbody>\n",
              "</table>\n",
              "</div>"
            ],
            "text/plain": [
              "   ID           y\n",
              "0   1   77.976183\n",
              "1   2  120.827500\n",
              "2   3   77.976183\n",
              "3   4   77.976183\n",
              "4   5  114.540885"
            ]
          },
          "metadata": {
            "tags": []
          },
          "execution_count": 49
        }
      ]
    },
    {
      "cell_type": "code",
      "metadata": {
        "colab_type": "code",
        "id": "rg6cH09Wt7sn",
        "colab": {}
      },
      "source": [
        "final_df_10.to_csv(r'/content/drive/My Drive/Colab Notebooks/Case Study 1/CSV files/AdaBoostRegressor_2.csv',index=False)"
      ],
      "execution_count": null,
      "outputs": []
    }
  ]
}